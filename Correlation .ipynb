{
 "cells": [
  {
   "cell_type": "markdown",
   "id": "0f8defe2",
   "metadata": {},
   "source": [
    "It is important to discover and quantify the degree to which variables in your dataset are dependent upon each other. This knowledge can help you better prepare your data to meet the expectations of machine learning algorithms, such as linear regression, whose performance will degrade with the presence of these interdependencies."
   ]
  },
  {
   "cell_type": "markdown",
   "id": "e2106afa",
   "metadata": {},
   "source": [
    "### How to calculate a covariance matrix to summarize the linear relationship between two or more variables ?"
   ]
  },
  {
   "cell_type": "raw",
   "id": "90d51310",
   "metadata": {},
   "source": [
    "Here are the test scores of 10 students in physics and history:\n",
    "Physics Scores  15  12  8   8   7   7   7   6   5   3\n",
    "History Scores  10  25  17  11  13  17  20  13  9   15"
   ]
  },
  {
   "cell_type": "markdown",
   "id": "1567b86f",
   "metadata": {},
   "source": [
    "A correlation could be positive, meaning both variables move in the same direction, or negative, meaning that when one variable’s value increases, the other variables’ values decrease. Correlation can also be neutral or zero, meaning that the variables are unrelated.\n",
    "\n",
    "Positive Correlation: both variables change in the same direction.\n",
    "Neutral Correlation: No relationship in the change of the variables.\n",
    "Negative Correlation: variables change in opposite directions."
   ]
  },
  {
   "cell_type": "code",
   "execution_count": 4,
   "id": "eeae47f3",
   "metadata": {},
   "outputs": [
    {
     "name": "stdout",
     "output_type": "stream",
     "text": [
      "data1: mean=100.776 stdv=19.620\n",
      "data2: mean=151.050 stdv=22.358\n"
     ]
    },
    {
     "data": {
      "image/png": "[encoded data removed]",
      "text/plain": [
       "<Figure size 432x288 with 1 Axes>"
      ]
     },
     "metadata": {
      "needs_background": "light"
     },
     "output_type": "display_data"
    }
   ],
   "source": [
    "# generate related variables\n",
    "from numpy import mean\n",
    "from numpy import std\n",
    "from numpy.random import randn\n",
    "from numpy.random import seed\n",
    "from matplotlib import pyplot\n",
    "# seed random number generator\n",
    "seed(1)\n",
    "# prepare data\n",
    "data1 = 20 * randn(1000) + 100\n",
    "data2 = data1 + (10 * randn(1000) + 50)\n",
    "# summarize\n",
    "print('data1: mean=%.3f stdv=%.3f' % (mean(data1), std(data1)))\n",
    "print('data2: mean=%.3f stdv=%.3f' % (mean(data2), std(data2)))\n",
    "# plot\n",
    "pyplot.scatter(data1, data2)\n",
    "pyplot.show()"
   ]
  },
  {
   "cell_type": "markdown",
   "id": "3ff62c5a",
   "metadata": {},
   "source": [
    "## cov(X, Y) = (sum (x - mean(X)) * (y - mean(Y)) ) * 1/(n-1)"
   ]
  },
  {
   "cell_type": "code",
   "execution_count": 7,
   "id": "14130006",
   "metadata": {},
   "outputs": [
    {
     "name": "stdout",
     "output_type": "stream",
     "text": [
      "[[385.33297729 389.7545618 ]\n",
      " [389.7545618  500.38006058]]\n"
     ]
    }
   ],
   "source": [
    "from numpy import cov\n",
    "# seed random number generator\n",
    "seed(1)\n",
    "\n",
    "# calculate covariance matrix\n",
    "covariance = cov(data1, data2)\n",
    "print(covariance)"
   ]
  },
  {
   "cell_type": "code",
   "execution_count": 6,
   "id": "a9c4242a",
   "metadata": {},
   "outputs": [
    {
     "name": "stdout",
     "output_type": "stream",
     "text": [
      "data1: mean=7.800 stdv=3.250\n",
      "data2: mean=15.000 stdv=4.669\n"
     ]
    },
    {
     "data": {
      "text/plain": [
       "<matplotlib.collections.PathCollection at 0x14b2e7950>"
      ]
     },
     "execution_count": 6,
     "metadata": {},
     "output_type": "execute_result"
    },
    {
     "data": {
      "image/png": "[encoded data removed]",
      "text/plain": [
       "<Figure size 432x288 with 1 Axes>"
      ]
     },
     "metadata": {
      "needs_background": "light"
     },
     "output_type": "display_data"
    }
   ],
   "source": [
    "p_s = [15,12,8,8,7,7,7,6,5,3]\n",
    "h_s = [10,25,17,11,13,17,20,13,9,15]\n",
    "print('data1: mean=%.3f stdv=%.3f' % (mean(p_s), std(p_s)))\n",
    "print('data2: mean=%.3f stdv=%.3f' % (mean(h_s), std(h_s)))\n",
    "pyplot.scatter(p_s,h_s)\n"
   ]
  },
  {
   "cell_type": "code",
   "execution_count": 9,
   "id": "89e28c6c",
   "metadata": {},
   "outputs": [
    {
     "name": "stdout",
     "output_type": "stream",
     "text": [
      "[[11.73333333  2.44444444]\n",
      " [ 2.44444444 24.22222222]]\n"
     ]
    }
   ],
   "source": [
    "from numpy import cov\n",
    "covariance = cov(p_s,h_s)\n",
    "print(covariance)"
   ]
  },
  {
   "cell_type": "markdown",
   "id": "38ad39c7",
   "metadata": {},
   "source": [
    "Pearson's correlation coefficient = covariance(X, Y) / (stdv(X) * stdv(Y))"
   ]
  },
  {
   "cell_type": "code",
   "execution_count": 50,
   "id": "6cc5c509",
   "metadata": {},
   "outputs": [
    {
     "name": "stdout",
     "output_type": "stream",
     "text": [
      "0.1449981545806852\n",
      "0.6894014481166955\n"
     ]
    }
   ],
   "source": [
    "from scipy.stats import pearsonr\n",
    "corr, _ = pearsonr(p_s, h_s)\n",
    "print(corr)\n",
    "print(_)"
   ]
  },
  {
   "cell_type": "code",
   "execution_count": 87,
   "id": "544ef0fc",
   "metadata": {},
   "outputs": [
    {
     "data": {
      "image/png": "[encoded data removed]",
      "text/plain": [
       "<IPython.core.display.Image object>"
      ]
     },
     "execution_count": 87,
     "metadata": {
      "image/png": {
       "unconfined": true,
       "width": 500
      }
     },
     "output_type": "execute_result"
    }
   ],
   "source": [
    "from IPython.display import Image\n",
    "from IPython.core.display import HTML \n",
    "#Image(url= \"http://my_site.com/my_picture.jpg\")\n",
    "#PATH = \"/Users/reblochonMasque/Documents/Drawings/\"\n",
    "Image(filename = \"download.png\",  width=500, unconfined=True)"
   ]
  },
  {
   "cell_type": "code",
   "execution_count": 89,
   "id": "e6c86521",
   "metadata": {},
   "outputs": [
    {
     "name": "stdout",
     "output_type": "stream",
     "text": [
      "0.145\n",
      "Using function 0.1449981545806852\n"
     ]
    }
   ],
   "source": [
    "import math\n",
    "p_s = [15,12,8,8,7,7,7,6,5,3]\n",
    "h_s = [10,25,17,11,13,17,20,13,9,15]\n",
    "p_s_mean = sum(p_s)/len(p_s)\n",
    "h_s_mean = sum(h_s)/len(p_s)\n",
    "\n",
    "p_s_std = math.sqrt(sum([(val -p_s_mean)**2 for val in p_s]))\n",
    "h_s_std = math.sqrt(sum([(val -h_s_mean)**2 for val in h_s]))\n",
    "\n",
    "p_s_norm = [val- p_s_mean for val in p_s]\n",
    "h_s_norm = [val- h_s_mean for val in h_s]\n",
    "\n",
    "numerator = sum([x*y for x,y in zip(p_s_norm,h_s_norm )])\n",
    "denominator = p_s_std*h_s_std\n",
    "corr = numerator/denominator\n",
    "print(round(corr,3))\n",
    "correlation, _ = pearsonr(p_s, h_s)\n",
    "print('Using function',correlation)\n"
   ]
  },
  {
   "cell_type": "markdown",
   "id": "e7089667",
   "metadata": {},
   "source": [
    "#### Using random data"
   ]
  },
  {
   "cell_type": "code",
   "execution_count": 91,
   "id": "ad899673",
   "metadata": {},
   "outputs": [
    {
     "data": {
      "text/plain": [
       "0.888"
      ]
     },
     "execution_count": 91,
     "metadata": {},
     "output_type": "execute_result"
    }
   ],
   "source": [
    "import math\n",
    "def pearsons_corr(X,Y):\n",
    "    X_mean = sum(X)/len(X)\n",
    "    Y_mean = sum(Y)/len(Y)\n",
    "    X_norm = [val -  X_mean for val in X]\n",
    "    Y_norm = [val - Y_mean for val in Y]\n",
    "    X_std = math.sqrt(sum([(val -  X_mean)**2 for val in X]))\n",
    "    Y_std = math.sqrt(sum([(val -  Y_mean)**2 for val in Y]))\n",
    "    numerator = sum([x*y for x,y in zip(X_norm,Y_norm)])\n",
    "    denominator = X_std*Y_std \n",
    "    return round(numerator/denominator,3)\n",
    "pearsons_corr(p_s,h_s )\n",
    "pearsons_corr(data1,data2 )"
   ]
  },
  {
   "cell_type": "code",
   "execution_count": null,
   "id": "43b27694",
   "metadata": {},
   "outputs": [],
   "source": []
  }
 ],
 "metadata": {
  "kernelspec": {
   "display_name": "Python 3 (ipykernel)",
   "language": "python",
   "name": "python3"
  },
  "language_info": {
   "codemirror_mode": {
    "name": "ipython",
    "version": 3
   },
   "file_extension": ".py",
   "mimetype": "text/x-python",
   "name": "python",
   "nbconvert_exporter": "python",
   "pygments_lexer": "ipython3",
   "version": "3.7.11"
  }
 },
 "nbformat": 4,
 "nbformat_minor": 5
}
