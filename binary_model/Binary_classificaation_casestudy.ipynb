{
 "cells": [
  {
   "cell_type": "code",
   "execution_count": 1,
   "id": "0aff18b8",
   "metadata": {},
   "outputs": [],
   "source": [
    "# imports\n",
    "# numpy and pandas for data manipulation\n",
    "import numpy as np\n",
    "import pandas as pd \n",
    "\n",
    "# sklearn preprocessing for dealing with categorical variables\n",
    "from sklearn.preprocessing import LabelEncoder\n",
    "\n",
    "# File system manangement\n",
    "import os\n",
    "\n",
    "# Suppress warnings \n",
    "import warnings\n",
    "warnings.filterwarnings('ignore')\n",
    "\n",
    "# matplotlib and seaborn for plotting\n",
    "import matplotlib.pyplot as plt\n",
    "import seaborn as sns"
   ]
  },
  {
   "cell_type": "code",
   "execution_count": 2,
   "id": "c01da1ce",
   "metadata": {},
   "outputs": [
    {
     "name": "stdout",
     "output_type": "stream",
     "text": [
      "Training data shape:  (3441356, 73)\n"
     ]
    },
    {
     "data": {
      "text/html": [
       "<div>\n",
       "<style scoped>\n",
       "    .dataframe tbody tr th:only-of-type {\n",
       "        vertical-align: middle;\n",
       "    }\n",
       "\n",
       "    .dataframe tbody tr th {\n",
       "        vertical-align: top;\n",
       "    }\n",
       "\n",
       "    .dataframe thead th {\n",
       "        text-align: right;\n",
       "    }\n",
       "</style>\n",
       "<table border=\"1\" class=\"dataframe\">\n",
       "  <thead>\n",
       "    <tr style=\"text-align: right;\">\n",
       "      <th></th>\n",
       "      <th>Unnamed: 0</th>\n",
       "      <th>work_type_0</th>\n",
       "      <th>work_type_1</th>\n",
       "      <th>work_type_2</th>\n",
       "      <th>work_type_3</th>\n",
       "      <th>work_type_4</th>\n",
       "      <th>work_type_5</th>\n",
       "      <th>work_type_6</th>\n",
       "      <th>work_type_7</th>\n",
       "      <th>work_type_8</th>\n",
       "      <th>...</th>\n",
       "      <th>work_type_62</th>\n",
       "      <th>work_type_63</th>\n",
       "      <th>work_type_64</th>\n",
       "      <th>work_type_65</th>\n",
       "      <th>work_type_66</th>\n",
       "      <th>ticket_datetime</th>\n",
       "      <th>elevation_height</th>\n",
       "      <th>slope_geo_delta_0.0003</th>\n",
       "      <th>is_large_project</th>\n",
       "      <th>has_damage</th>\n",
       "    </tr>\n",
       "  </thead>\n",
       "  <tbody>\n",
       "    <tr>\n",
       "      <th>0</th>\n",
       "      <td>0</td>\n",
       "      <td>0</td>\n",
       "      <td>0</td>\n",
       "      <td>0</td>\n",
       "      <td>0</td>\n",
       "      <td>0</td>\n",
       "      <td>0</td>\n",
       "      <td>0</td>\n",
       "      <td>0</td>\n",
       "      <td>0</td>\n",
       "      <td>...</td>\n",
       "      <td>0</td>\n",
       "      <td>0</td>\n",
       "      <td>0</td>\n",
       "      <td>0</td>\n",
       "      <td>0</td>\n",
       "      <td>2015-01-02</td>\n",
       "      <td>264</td>\n",
       "      <td>0.012744</td>\n",
       "      <td>False</td>\n",
       "      <td>0</td>\n",
       "    </tr>\n",
       "    <tr>\n",
       "      <th>1</th>\n",
       "      <td>1</td>\n",
       "      <td>0</td>\n",
       "      <td>0</td>\n",
       "      <td>0</td>\n",
       "      <td>0</td>\n",
       "      <td>0</td>\n",
       "      <td>0</td>\n",
       "      <td>0</td>\n",
       "      <td>0</td>\n",
       "      <td>0</td>\n",
       "      <td>...</td>\n",
       "      <td>0</td>\n",
       "      <td>0</td>\n",
       "      <td>0</td>\n",
       "      <td>0</td>\n",
       "      <td>1</td>\n",
       "      <td>2015-01-02</td>\n",
       "      <td>289</td>\n",
       "      <td>0.012622</td>\n",
       "      <td>False</td>\n",
       "      <td>0</td>\n",
       "    </tr>\n",
       "    <tr>\n",
       "      <th>2</th>\n",
       "      <td>2</td>\n",
       "      <td>0</td>\n",
       "      <td>0</td>\n",
       "      <td>0</td>\n",
       "      <td>0</td>\n",
       "      <td>0</td>\n",
       "      <td>0</td>\n",
       "      <td>0</td>\n",
       "      <td>0</td>\n",
       "      <td>0</td>\n",
       "      <td>...</td>\n",
       "      <td>0</td>\n",
       "      <td>0</td>\n",
       "      <td>0</td>\n",
       "      <td>0</td>\n",
       "      <td>0</td>\n",
       "      <td>2015-01-02</td>\n",
       "      <td>292</td>\n",
       "      <td>0.012429</td>\n",
       "      <td>False</td>\n",
       "      <td>0</td>\n",
       "    </tr>\n",
       "    <tr>\n",
       "      <th>3</th>\n",
       "      <td>3</td>\n",
       "      <td>0</td>\n",
       "      <td>0</td>\n",
       "      <td>0</td>\n",
       "      <td>0</td>\n",
       "      <td>1</td>\n",
       "      <td>0</td>\n",
       "      <td>0</td>\n",
       "      <td>0</td>\n",
       "      <td>0</td>\n",
       "      <td>...</td>\n",
       "      <td>0</td>\n",
       "      <td>0</td>\n",
       "      <td>0</td>\n",
       "      <td>0</td>\n",
       "      <td>0</td>\n",
       "      <td>2015-01-02</td>\n",
       "      <td>207</td>\n",
       "      <td>0.012475</td>\n",
       "      <td>False</td>\n",
       "      <td>0</td>\n",
       "    </tr>\n",
       "    <tr>\n",
       "      <th>4</th>\n",
       "      <td>4</td>\n",
       "      <td>0</td>\n",
       "      <td>0</td>\n",
       "      <td>0</td>\n",
       "      <td>0</td>\n",
       "      <td>0</td>\n",
       "      <td>0</td>\n",
       "      <td>0</td>\n",
       "      <td>0</td>\n",
       "      <td>0</td>\n",
       "      <td>...</td>\n",
       "      <td>0</td>\n",
       "      <td>0</td>\n",
       "      <td>0</td>\n",
       "      <td>0</td>\n",
       "      <td>0</td>\n",
       "      <td>2015-01-02</td>\n",
       "      <td>248</td>\n",
       "      <td>0.012572</td>\n",
       "      <td>False</td>\n",
       "      <td>0</td>\n",
       "    </tr>\n",
       "  </tbody>\n",
       "</table>\n",
       "<p>5 rows × 73 columns</p>\n",
       "</div>"
      ],
      "text/plain": [
       "   Unnamed: 0  work_type_0  work_type_1  work_type_2  work_type_3  \\\n",
       "0           0            0            0            0            0   \n",
       "1           1            0            0            0            0   \n",
       "2           2            0            0            0            0   \n",
       "3           3            0            0            0            0   \n",
       "4           4            0            0            0            0   \n",
       "\n",
       "   work_type_4  work_type_5  work_type_6  work_type_7  work_type_8  ...  \\\n",
       "0            0            0            0            0            0  ...   \n",
       "1            0            0            0            0            0  ...   \n",
       "2            0            0            0            0            0  ...   \n",
       "3            1            0            0            0            0  ...   \n",
       "4            0            0            0            0            0  ...   \n",
       "\n",
       "   work_type_62  work_type_63  work_type_64  work_type_65  work_type_66  \\\n",
       "0             0             0             0             0             0   \n",
       "1             0             0             0             0             1   \n",
       "2             0             0             0             0             0   \n",
       "3             0             0             0             0             0   \n",
       "4             0             0             0             0             0   \n",
       "\n",
       "   ticket_datetime  elevation_height  slope_geo_delta_0.0003  \\\n",
       "0       2015-01-02               264                0.012744   \n",
       "1       2015-01-02               289                0.012622   \n",
       "2       2015-01-02               292                0.012429   \n",
       "3       2015-01-02               207                0.012475   \n",
       "4       2015-01-02               248                0.012572   \n",
       "\n",
       "   is_large_project  has_damage  \n",
       "0             False           0  \n",
       "1             False           0  \n",
       "2             False           0  \n",
       "3             False           0  \n",
       "4             False           0  \n",
       "\n",
       "[5 rows x 73 columns]"
      ]
     },
     "execution_count": 2,
     "metadata": {},
     "output_type": "execute_result"
    }
   ],
   "source": [
    "# read data\n",
    "data = pd.read_csv('DS22.csv')\n",
    "print('Training data shape: ', data.shape)\n",
    "data.head()"
   ]
  },
  {
   "cell_type": "markdown",
   "id": "0c02c90f",
   "metadata": {},
   "source": [
    "#### Data Exploration"
   ]
  },
  {
   "cell_type": "code",
   "execution_count": 3,
   "id": "20d62429",
   "metadata": {},
   "outputs": [
    {
     "data": {
      "text/plain": [
       "0    3433916\n",
       "1       7440\n",
       "Name: has_damage, dtype: int64"
      ]
     },
     "execution_count": 3,
     "metadata": {},
     "output_type": "execute_result"
    }
   ],
   "source": [
    "# read target\n",
    "data['has_damage'].value_counts()"
   ]
  },
  {
   "cell_type": "code",
   "execution_count": 4,
   "id": "9a52044c",
   "metadata": {},
   "outputs": [
    {
     "data": {
      "image/png": "[encoded data removed]",
      "text/plain": [
       "<Figure size 432x288 with 1 Axes>"
      ]
     },
     "metadata": {
      "needs_background": "light"
     },
     "output_type": "display_data"
    }
   ],
   "source": [
    "data['has_damage'].astype(int).plot.hist();"
   ]
  },
  {
   "cell_type": "markdown",
   "id": "d26d3f2e",
   "metadata": {},
   "source": [
    "From this information, we see this is an imbalanced class problem. There are only a fewer examples where a damage occured"
   ]
  },
  {
   "cell_type": "markdown",
   "id": "df525b38",
   "metadata": {},
   "source": [
    "#### Examin Missing Values"
   ]
  },
  {
   "cell_type": "code",
   "execution_count": 6,
   "id": "e30aac6c",
   "metadata": {},
   "outputs": [],
   "source": [
    "# Function to calculate missing values by column# Funct \n",
    "def missing_values_table(df):\n",
    "        # Total missing values\n",
    "        mis_val = df.isnull().sum()\n",
    "        \n",
    "        # Percentage of missing values\n",
    "        mis_val_percent = 100 * df.isnull().sum() / len(df)\n",
    "        \n",
    "        # Make a table with the results\n",
    "        mis_val_table = pd.concat([mis_val, mis_val_percent], axis=1)\n",
    "        \n",
    "        # Rename the columns\n",
    "        mis_val_table_ren_columns = mis_val_table.rename(\n",
    "        columns = {0 : 'Missing Values', 1 : '% of Total Values'})\n",
    "        \n",
    "        # Sort the table by percentage of missing descending\n",
    "        mis_val_table_ren_columns = mis_val_table_ren_columns[\n",
    "            mis_val_table_ren_columns.iloc[:,1] != 0].sort_values(\n",
    "        '% of Total Values', ascending=False).round(1)\n",
    "        \n",
    "        # Print some summary information\n",
    "        print (\"Your selected dataframe has \" + str(df.shape[1]) + \" columns.\\n\"      \n",
    "            \"There are \" + str(mis_val_table_ren_columns.shape[0]) +\n",
    "              \" columns that have missing values.\")\n",
    "        \n",
    "        # Return the dataframe with missing information\n",
    "        return mis_val_table_ren_columns"
   ]
  },
  {
   "cell_type": "code",
   "execution_count": 7,
   "id": "457ad05c",
   "metadata": {},
   "outputs": [
    {
     "name": "stdout",
     "output_type": "stream",
     "text": [
      "Your selected dataframe has 73 columns.\n",
      "There are 0 columns that have missing values.\n"
     ]
    },
    {
     "data": {
      "text/html": [
       "<div>\n",
       "<style scoped>\n",
       "    .dataframe tbody tr th:only-of-type {\n",
       "        vertical-align: middle;\n",
       "    }\n",
       "\n",
       "    .dataframe tbody tr th {\n",
       "        vertical-align: top;\n",
       "    }\n",
       "\n",
       "    .dataframe thead th {\n",
       "        text-align: right;\n",
       "    }\n",
       "</style>\n",
       "<table border=\"1\" class=\"dataframe\">\n",
       "  <thead>\n",
       "    <tr style=\"text-align: right;\">\n",
       "      <th></th>\n",
       "      <th>Missing Values</th>\n",
       "      <th>% of Total Values</th>\n",
       "    </tr>\n",
       "  </thead>\n",
       "  <tbody>\n",
       "  </tbody>\n",
       "</table>\n",
       "</div>"
      ],
      "text/plain": [
       "Empty DataFrame\n",
       "Columns: [Missing Values, % of Total Values]\n",
       "Index: []"
      ]
     },
     "execution_count": 7,
     "metadata": {},
     "output_type": "execute_result"
    }
   ],
   "source": [
    "# Missing values statistics\n",
    "missing_values = missing_values_table(data)\n",
    "missing_values.head(20)"
   ]
  },
  {
   "cell_type": "markdown",
   "id": "4fe9bd17",
   "metadata": {},
   "source": [
    "#### Column Types"
   ]
  },
  {
   "cell_type": "code",
   "execution_count": 8,
   "id": "f415485c",
   "metadata": {},
   "outputs": [
    {
     "data": {
      "text/plain": [
       "int64      70\n",
       "object      1\n",
       "float64     1\n",
       "bool        1\n",
       "dtype: int64"
      ]
     },
     "execution_count": 8,
     "metadata": {},
     "output_type": "execute_result"
    }
   ],
   "source": [
    "# Number of each type of column\n",
    "data.dtypes.value_counts()"
   ]
  },
  {
   "cell_type": "code",
   "execution_count": 9,
   "id": "5e42ce00",
   "metadata": {},
   "outputs": [
    {
     "data": {
      "text/plain": [
       "ticket_datetime    94852\n",
       "dtype: int64"
      ]
     },
     "execution_count": 9,
     "metadata": {},
     "output_type": "execute_result"
    }
   ],
   "source": [
    "data.select_dtypes('object').apply(pd.Series.nunique, axis = 0)"
   ]
  },
  {
   "cell_type": "code",
   "execution_count": 11,
   "id": "95546ea4",
   "metadata": {},
   "outputs": [
    {
     "data": {
      "text/plain": [
       "count    3.441356e+06\n",
       "mean     2.569258e+02\n",
       "std      1.186286e+02\n",
       "min     -5.224000e+03\n",
       "25%      2.230000e+02\n",
       "50%      2.570000e+02\n",
       "75%      2.880000e+02\n",
       "max      1.812000e+03\n",
       "Name: elevation_height, dtype: float64"
      ]
     },
     "execution_count": 11,
     "metadata": {},
     "output_type": "execute_result"
    }
   ],
   "source": [
    "(data['elevation_height']).describe()"
   ]
  },
  {
   "cell_type": "code",
   "execution_count": 12,
   "id": "6de9ed0c",
   "metadata": {},
   "outputs": [
    {
     "data": {
      "image/png": "[encoded data removed]",
      "text/plain": [
       "<Figure size 432x288 with 1 Axes>"
      ]
     },
     "metadata": {
      "needs_background": "light"
     },
     "output_type": "display_data"
    }
   ],
   "source": [
    "data['elevation_height'].plot.hist(title = 'Elevation Height Histogram');\n",
    "plt.xlabel('Elevation Height');"
   ]
  },
  {
   "cell_type": "code",
   "execution_count": 13,
   "id": "548dbafa",
   "metadata": {},
   "outputs": [
    {
     "data": {
      "text/plain": [
       "count    3.441356e+06\n",
       "mean     9.274215e-03\n",
       "std      1.972853e-02\n",
       "min      0.000000e+00\n",
       "25%      4.957381e-03\n",
       "50%      7.704585e-03\n",
       "75%      1.087177e-02\n",
       "max      4.067290e-01\n",
       "Name: slope_geo_delta_0.0003, dtype: float64"
      ]
     },
     "execution_count": 13,
     "metadata": {},
     "output_type": "execute_result"
    }
   ],
   "source": [
    "(data['slope_geo_delta_0.0003']).describe()"
   ]
  },
  {
   "cell_type": "code",
   "execution_count": 18,
   "id": "6ae32c0e",
   "metadata": {},
   "outputs": [
    {
     "data": {
      "image/png": "[encoded data removed]",
      "text/plain": [
       "<Figure size 432x288 with 1 Axes>"
      ]
     },
     "metadata": {
      "needs_background": "light"
     },
     "output_type": "display_data"
    }
   ],
   "source": [
    "data[(data['slope_geo_delta_0.0003'] <= 1.087177e-02) &  (data['has_damage'] == 1)]['slope_geo_delta_0.0003'].plot.hist(title = 'Elevation Height Histogram');\n",
    "plt.xlabel('Elevation slope');"
   ]
  },
  {
   "cell_type": "code",
   "execution_count": 19,
   "id": "32ef087b",
   "metadata": {},
   "outputs": [
    {
     "name": "stdout",
     "output_type": "stream",
     "text": [
      "Negative slope_geo_delta_0.0003 28\n",
      "Zero slope_geo_delta_0.0003 28\n",
      "Negative slope_geo_delta_0.0003 28\n",
      "Zero slope_geo_delta_0.0003 28\n"
     ]
    }
   ],
   "source": [
    "print('Negative slope_geo_delta_0.0003',data[data['slope_geo_delta_0.0003'] <= 0].shape[0])\n",
    "print('Zero slope_geo_delta_0.0003',data[data['slope_geo_delta_0.0003'] == 0].shape[0])\n",
    "print('Negative slope_geo_delta_0.0003',data[data['slope_geo_delta_0.0003'] <= 0].shape[0])\n",
    "print('Zero slope_geo_delta_0.0003',data[data['slope_geo_delta_0.0003'] == 0].shape[0])"
   ]
  },
  {
   "cell_type": "code",
   "execution_count": 20,
   "id": "2fe4f265",
   "metadata": {},
   "outputs": [
    {
     "name": "stdout",
     "output_type": "stream",
     "text": [
      "Negative Elevation 1513\n",
      "Zero Elevation 2\n",
      "Elevation above 0 and less than 1000 3439826\n",
      "Elevation above 1000 17\n"
     ]
    }
   ],
   "source": [
    "print('Negative Elevation',data[data['elevation_height'] <= 0].shape[0])\n",
    "print('Zero Elevation',data[data['elevation_height'] == 0].shape[0])\n",
    "print('Elevation above 0 and less than 1000',data[(data['elevation_height'] > 0) & (data['elevation_height'] < 1000)].shape[0])\n",
    "print('Elevation above 1000',data[data['elevation_height'] >= 1000].shape[0])"
   ]
  },
  {
   "cell_type": "markdown",
   "id": "4bc4c6fe",
   "metadata": {},
   "source": [
    "### Deriving New Columsn from existing columns"
   ]
  },
  {
   "cell_type": "code",
   "execution_count": 21,
   "id": "3fe2b616",
   "metadata": {},
   "outputs": [],
   "source": [
    "import math\n",
    "data['elevation_angle'] =[math.degrees(math.atan(row['slope_geo_delta_0.0003'])) for index,row in data.iterrows() ]"
   ]
  },
  {
   "cell_type": "code",
   "execution_count": 22,
   "id": "6dc73fda",
   "metadata": {},
   "outputs": [
    {
     "data": {
      "text/html": [
       "<div>\n",
       "<style scoped>\n",
       "    .dataframe tbody tr th:only-of-type {\n",
       "        vertical-align: middle;\n",
       "    }\n",
       "\n",
       "    .dataframe tbody tr th {\n",
       "        vertical-align: top;\n",
       "    }\n",
       "\n",
       "    .dataframe thead th {\n",
       "        text-align: right;\n",
       "    }\n",
       "</style>\n",
       "<table border=\"1\" class=\"dataframe\">\n",
       "  <thead>\n",
       "    <tr style=\"text-align: right;\">\n",
       "      <th></th>\n",
       "      <th>Unnamed: 0</th>\n",
       "      <th>work_type_0</th>\n",
       "      <th>work_type_1</th>\n",
       "      <th>work_type_2</th>\n",
       "      <th>work_type_3</th>\n",
       "      <th>work_type_4</th>\n",
       "      <th>work_type_5</th>\n",
       "      <th>work_type_6</th>\n",
       "      <th>work_type_7</th>\n",
       "      <th>work_type_8</th>\n",
       "      <th>...</th>\n",
       "      <th>work_type_63</th>\n",
       "      <th>work_type_64</th>\n",
       "      <th>work_type_65</th>\n",
       "      <th>work_type_66</th>\n",
       "      <th>ticket_datetime</th>\n",
       "      <th>elevation_height</th>\n",
       "      <th>slope_geo_delta_0.0003</th>\n",
       "      <th>is_large_project</th>\n",
       "      <th>has_damage</th>\n",
       "      <th>elevation_angle</th>\n",
       "    </tr>\n",
       "  </thead>\n",
       "  <tbody>\n",
       "    <tr>\n",
       "      <th>0</th>\n",
       "      <td>0</td>\n",
       "      <td>0</td>\n",
       "      <td>0</td>\n",
       "      <td>0</td>\n",
       "      <td>0</td>\n",
       "      <td>0</td>\n",
       "      <td>0</td>\n",
       "      <td>0</td>\n",
       "      <td>0</td>\n",
       "      <td>0</td>\n",
       "      <td>...</td>\n",
       "      <td>0</td>\n",
       "      <td>0</td>\n",
       "      <td>0</td>\n",
       "      <td>0</td>\n",
       "      <td>2015-01-02</td>\n",
       "      <td>264</td>\n",
       "      <td>0.012744</td>\n",
       "      <td>False</td>\n",
       "      <td>0</td>\n",
       "      <td>0.730140</td>\n",
       "    </tr>\n",
       "    <tr>\n",
       "      <th>1</th>\n",
       "      <td>1</td>\n",
       "      <td>0</td>\n",
       "      <td>0</td>\n",
       "      <td>0</td>\n",
       "      <td>0</td>\n",
       "      <td>0</td>\n",
       "      <td>0</td>\n",
       "      <td>0</td>\n",
       "      <td>0</td>\n",
       "      <td>0</td>\n",
       "      <td>...</td>\n",
       "      <td>0</td>\n",
       "      <td>0</td>\n",
       "      <td>0</td>\n",
       "      <td>1</td>\n",
       "      <td>2015-01-02</td>\n",
       "      <td>289</td>\n",
       "      <td>0.012622</td>\n",
       "      <td>False</td>\n",
       "      <td>0</td>\n",
       "      <td>0.723141</td>\n",
       "    </tr>\n",
       "    <tr>\n",
       "      <th>2</th>\n",
       "      <td>2</td>\n",
       "      <td>0</td>\n",
       "      <td>0</td>\n",
       "      <td>0</td>\n",
       "      <td>0</td>\n",
       "      <td>0</td>\n",
       "      <td>0</td>\n",
       "      <td>0</td>\n",
       "      <td>0</td>\n",
       "      <td>0</td>\n",
       "      <td>...</td>\n",
       "      <td>0</td>\n",
       "      <td>0</td>\n",
       "      <td>0</td>\n",
       "      <td>0</td>\n",
       "      <td>2015-01-02</td>\n",
       "      <td>292</td>\n",
       "      <td>0.012429</td>\n",
       "      <td>False</td>\n",
       "      <td>0</td>\n",
       "      <td>0.712104</td>\n",
       "    </tr>\n",
       "    <tr>\n",
       "      <th>3</th>\n",
       "      <td>3</td>\n",
       "      <td>0</td>\n",
       "      <td>0</td>\n",
       "      <td>0</td>\n",
       "      <td>0</td>\n",
       "      <td>1</td>\n",
       "      <td>0</td>\n",
       "      <td>0</td>\n",
       "      <td>0</td>\n",
       "      <td>0</td>\n",
       "      <td>...</td>\n",
       "      <td>0</td>\n",
       "      <td>0</td>\n",
       "      <td>0</td>\n",
       "      <td>0</td>\n",
       "      <td>2015-01-02</td>\n",
       "      <td>207</td>\n",
       "      <td>0.012475</td>\n",
       "      <td>False</td>\n",
       "      <td>0</td>\n",
       "      <td>0.714744</td>\n",
       "    </tr>\n",
       "    <tr>\n",
       "      <th>4</th>\n",
       "      <td>4</td>\n",
       "      <td>0</td>\n",
       "      <td>0</td>\n",
       "      <td>0</td>\n",
       "      <td>0</td>\n",
       "      <td>0</td>\n",
       "      <td>0</td>\n",
       "      <td>0</td>\n",
       "      <td>0</td>\n",
       "      <td>0</td>\n",
       "      <td>...</td>\n",
       "      <td>0</td>\n",
       "      <td>0</td>\n",
       "      <td>0</td>\n",
       "      <td>0</td>\n",
       "      <td>2015-01-02</td>\n",
       "      <td>248</td>\n",
       "      <td>0.012572</td>\n",
       "      <td>False</td>\n",
       "      <td>0</td>\n",
       "      <td>0.720301</td>\n",
       "    </tr>\n",
       "    <tr>\n",
       "      <th>5</th>\n",
       "      <td>5</td>\n",
       "      <td>0</td>\n",
       "      <td>0</td>\n",
       "      <td>0</td>\n",
       "      <td>0</td>\n",
       "      <td>0</td>\n",
       "      <td>0</td>\n",
       "      <td>0</td>\n",
       "      <td>0</td>\n",
       "      <td>0</td>\n",
       "      <td>...</td>\n",
       "      <td>0</td>\n",
       "      <td>0</td>\n",
       "      <td>0</td>\n",
       "      <td>0</td>\n",
       "      <td>2015-01-02</td>\n",
       "      <td>214</td>\n",
       "      <td>0.012694</td>\n",
       "      <td>False</td>\n",
       "      <td>0</td>\n",
       "      <td>0.727252</td>\n",
       "    </tr>\n",
       "    <tr>\n",
       "      <th>6</th>\n",
       "      <td>6</td>\n",
       "      <td>0</td>\n",
       "      <td>0</td>\n",
       "      <td>0</td>\n",
       "      <td>0</td>\n",
       "      <td>0</td>\n",
       "      <td>0</td>\n",
       "      <td>0</td>\n",
       "      <td>0</td>\n",
       "      <td>0</td>\n",
       "      <td>...</td>\n",
       "      <td>0</td>\n",
       "      <td>0</td>\n",
       "      <td>0</td>\n",
       "      <td>0</td>\n",
       "      <td>2015-01-02</td>\n",
       "      <td>287</td>\n",
       "      <td>0.012146</td>\n",
       "      <td>False</td>\n",
       "      <td>0</td>\n",
       "      <td>0.695857</td>\n",
       "    </tr>\n",
       "    <tr>\n",
       "      <th>7</th>\n",
       "      <td>7</td>\n",
       "      <td>0</td>\n",
       "      <td>0</td>\n",
       "      <td>0</td>\n",
       "      <td>0</td>\n",
       "      <td>1</td>\n",
       "      <td>0</td>\n",
       "      <td>0</td>\n",
       "      <td>0</td>\n",
       "      <td>0</td>\n",
       "      <td>...</td>\n",
       "      <td>0</td>\n",
       "      <td>0</td>\n",
       "      <td>0</td>\n",
       "      <td>0</td>\n",
       "      <td>2015-01-02</td>\n",
       "      <td>350</td>\n",
       "      <td>0.011882</td>\n",
       "      <td>False</td>\n",
       "      <td>0</td>\n",
       "      <td>0.680729</td>\n",
       "    </tr>\n",
       "    <tr>\n",
       "      <th>8</th>\n",
       "      <td>8</td>\n",
       "      <td>0</td>\n",
       "      <td>0</td>\n",
       "      <td>0</td>\n",
       "      <td>0</td>\n",
       "      <td>0</td>\n",
       "      <td>0</td>\n",
       "      <td>0</td>\n",
       "      <td>0</td>\n",
       "      <td>0</td>\n",
       "      <td>...</td>\n",
       "      <td>0</td>\n",
       "      <td>0</td>\n",
       "      <td>0</td>\n",
       "      <td>0</td>\n",
       "      <td>2015-01-02</td>\n",
       "      <td>333</td>\n",
       "      <td>0.011877</td>\n",
       "      <td>False</td>\n",
       "      <td>0</td>\n",
       "      <td>0.680444</td>\n",
       "    </tr>\n",
       "    <tr>\n",
       "      <th>9</th>\n",
       "      <td>9</td>\n",
       "      <td>0</td>\n",
       "      <td>0</td>\n",
       "      <td>0</td>\n",
       "      <td>0</td>\n",
       "      <td>1</td>\n",
       "      <td>0</td>\n",
       "      <td>0</td>\n",
       "      <td>0</td>\n",
       "      <td>0</td>\n",
       "      <td>...</td>\n",
       "      <td>0</td>\n",
       "      <td>0</td>\n",
       "      <td>0</td>\n",
       "      <td>0</td>\n",
       "      <td>2015-01-02</td>\n",
       "      <td>260</td>\n",
       "      <td>0.010885</td>\n",
       "      <td>False</td>\n",
       "      <td>0</td>\n",
       "      <td>0.623622</td>\n",
       "    </tr>\n",
       "  </tbody>\n",
       "</table>\n",
       "<p>10 rows × 74 columns</p>\n",
       "</div>"
      ],
      "text/plain": [
       "   Unnamed: 0  work_type_0  work_type_1  work_type_2  work_type_3  \\\n",
       "0           0            0            0            0            0   \n",
       "1           1            0            0            0            0   \n",
       "2           2            0            0            0            0   \n",
       "3           3            0            0            0            0   \n",
       "4           4            0            0            0            0   \n",
       "5           5            0            0            0            0   \n",
       "6           6            0            0            0            0   \n",
       "7           7            0            0            0            0   \n",
       "8           8            0            0            0            0   \n",
       "9           9            0            0            0            0   \n",
       "\n",
       "   work_type_4  work_type_5  work_type_6  work_type_7  work_type_8  ...  \\\n",
       "0            0            0            0            0            0  ...   \n",
       "1            0            0            0            0            0  ...   \n",
       "2            0            0            0            0            0  ...   \n",
       "3            1            0            0            0            0  ...   \n",
       "4            0            0            0            0            0  ...   \n",
       "5            0            0            0            0            0  ...   \n",
       "6            0            0            0            0            0  ...   \n",
       "7            1            0            0            0            0  ...   \n",
       "8            0            0            0            0            0  ...   \n",
       "9            1            0            0            0            0  ...   \n",
       "\n",
       "   work_type_63  work_type_64  work_type_65  work_type_66  ticket_datetime  \\\n",
       "0             0             0             0             0       2015-01-02   \n",
       "1             0             0             0             1       2015-01-02   \n",
       "2             0             0             0             0       2015-01-02   \n",
       "3             0             0             0             0       2015-01-02   \n",
       "4             0             0             0             0       2015-01-02   \n",
       "5             0             0             0             0       2015-01-02   \n",
       "6             0             0             0             0       2015-01-02   \n",
       "7             0             0             0             0       2015-01-02   \n",
       "8             0             0             0             0       2015-01-02   \n",
       "9             0             0             0             0       2015-01-02   \n",
       "\n",
       "   elevation_height  slope_geo_delta_0.0003  is_large_project  has_damage  \\\n",
       "0               264                0.012744             False           0   \n",
       "1               289                0.012622             False           0   \n",
       "2               292                0.012429             False           0   \n",
       "3               207                0.012475             False           0   \n",
       "4               248                0.012572             False           0   \n",
       "5               214                0.012694             False           0   \n",
       "6               287                0.012146             False           0   \n",
       "7               350                0.011882             False           0   \n",
       "8               333                0.011877             False           0   \n",
       "9               260                0.010885             False           0   \n",
       "\n",
       "   elevation_angle  \n",
       "0         0.730140  \n",
       "1         0.723141  \n",
       "2         0.712104  \n",
       "3         0.714744  \n",
       "4         0.720301  \n",
       "5         0.727252  \n",
       "6         0.695857  \n",
       "7         0.680729  \n",
       "8         0.680444  \n",
       "9         0.623622  \n",
       "\n",
       "[10 rows x 74 columns]"
      ]
     },
     "execution_count": 22,
     "metadata": {},
     "output_type": "execute_result"
    }
   ],
   "source": [
    "data.head(10)"
   ]
  },
  {
   "cell_type": "code",
   "execution_count": 24,
   "id": "d676f12f",
   "metadata": {},
   "outputs": [
    {
     "data": {
      "text/plain": [
       "count    3.441356e+06\n",
       "mean     5.289359e-01\n",
       "std      1.087952e+00\n",
       "min      0.000000e+00\n",
       "25%      2.840347e-01\n",
       "50%      4.414315e-01\n",
       "75%      6.228818e-01\n",
       "max      2.213300e+01\n",
       "Name: elevation_angle, dtype: float64"
      ]
     },
     "execution_count": 24,
     "metadata": {},
     "output_type": "execute_result"
    }
   ],
   "source": [
    "(data['elevation_angle']).describe()"
   ]
  },
  {
   "cell_type": "markdown",
   "id": "092fb972",
   "metadata": {},
   "source": [
    "These angles do not provide any information"
   ]
  },
  {
   "cell_type": "markdown",
   "id": "511253c8",
   "metadata": {},
   "source": [
    "#### Correlations"
   ]
  },
  {
   "cell_type": "code",
   "execution_count": 25,
   "id": "cc5a36e5",
   "metadata": {},
   "outputs": [
    {
     "name": "stdout",
     "output_type": "stream",
     "text": [
      "Most Positive Correlations:\n",
      " work_type_16        0.002632\n",
      "work_type_25        0.002635\n",
      "work_type_51        0.002802\n",
      "work_type_23        0.003270\n",
      "work_type_41        0.004100\n",
      "work_type_9         0.004542\n",
      "work_type_10        0.005801\n",
      "Unnamed: 0          0.009521\n",
      "work_type_8         0.011105\n",
      "work_type_56        0.012731\n",
      "work_type_12        0.013272\n",
      "work_type_55        0.027471\n",
      "is_large_project    0.027604\n",
      "work_type_66        0.034194\n",
      "has_damage          1.000000\n",
      "Name: has_damage, dtype: float64\n",
      "\n",
      "Most Negative Correlations:\n",
      " work_type_6        -0.015570\n",
      "work_type_64       -0.013425\n",
      "work_type_54       -0.008034\n",
      "work_type_22       -0.006876\n",
      "work_type_61       -0.006708\n",
      "work_type_58       -0.006327\n",
      "work_type_57       -0.005917\n",
      "work_type_34       -0.005653\n",
      "work_type_42       -0.005138\n",
      "work_type_45       -0.004114\n",
      "elevation_height   -0.003025\n",
      "work_type_18       -0.002943\n",
      "work_type_0        -0.001883\n",
      "work_type_47       -0.001721\n",
      "work_type_48       -0.001623\n",
      "Name: has_damage, dtype: float64\n"
     ]
    }
   ],
   "source": [
    "correlations = data.corr()['has_damage'].sort_values()\n",
    "\n",
    "# Display correlations\n",
    "print('Most Positive Correlations:\\n', correlations.tail(15))\n",
    "print('\\nMost Negative Correlations:\\n', correlations.head(15))"
   ]
  },
  {
   "cell_type": "markdown",
   "id": "a17a22b0",
   "metadata": {},
   "source": [
    "work_type_66 ,is_large_project,work_type_55 have a large correlation"
   ]
  },
  {
   "cell_type": "code",
   "execution_count": 26,
   "id": "c01ef87a",
   "metadata": {},
   "outputs": [
    {
     "data": {
      "image/png": "[encoded data removed]",
      "text/plain": [
       "<Figure size 432x288 with 1 Axes>"
      ]
     },
     "metadata": {},
     "output_type": "display_data"
    }
   ],
   "source": [
    "# Set the style of plots\n",
    "plt.style.use('fivethirtyeight')\n",
    "\n",
    "# Plot the distribution of ages in years\n",
    "plt.hist(data[(data['elevation_height'] > 0) & (data['elevation_height'] < 1000)]['elevation_height'], edgecolor = 'k', bins = 25)\n",
    "plt.title('Elevation'); plt.xlabel('Eelevation between 0 and 1000'); plt.ylabel('Count');"
   ]
  },
  {
   "cell_type": "code",
   "execution_count": 27,
   "id": "0ebf442f",
   "metadata": {},
   "outputs": [
    {
     "data": {
      "image/png": "[encoded data removed]",
      "text/plain": [
       "<Figure size 432x288 with 1 Axes>"
      ]
     },
     "metadata": {},
     "output_type": "display_data"
    }
   ],
   "source": [
    "plt.style.use('fivethirtyeight')\n",
    "\n",
    "# Plot the distribution of ages in years\n",
    "plt.hist(data[(data['elevation_height'] > 0) & (data['elevation_height'] < 1000) & (data['has_damage'] == 0)]['elevation_height'], edgecolor = 'k', bins = 25)\n",
    "plt.title('Negative Elevation'); plt.xlabel(' Eelevation between 0 and 1000'); plt.ylabel('Count');"
   ]
  },
  {
   "cell_type": "code",
   "execution_count": 28,
   "id": "1cfd79be",
   "metadata": {},
   "outputs": [
    {
     "data": {
      "image/png": "[encoded data removed]",
      "text/plain": [
       "<Figure size 432x288 with 1 Axes>"
      ]
     },
     "metadata": {},
     "output_type": "display_data"
    }
   ],
   "source": [
    "plt.style.use('fivethirtyeight')\n",
    "\n",
    "# Plot the distribution of ages in years\n",
    "plt.hist(data[(data['elevation_height'] > 0) & (data['elevation_height'] < 1000) & (data['has_damage'] == 1)]['elevation_height'], edgecolor = 'k', bins = 25)\n",
    "plt.title('Positive Elevation'); plt.xlabel('  Eelevation between 0 and 1000'); plt.ylabel('Count');"
   ]
  },
  {
   "cell_type": "code",
   "execution_count": 29,
   "id": "e3edb968",
   "metadata": {},
   "outputs": [
    {
     "data": {
      "image/png": "[encoded data removed]",
      "text/plain": [
       "<Figure size 432x288 with 1 Axes>"
      ]
     },
     "metadata": {},
     "output_type": "display_data"
    }
   ],
   "source": [
    "plt.style.use('fivethirtyeight')\n",
    "\n",
    "# Plot the distribution of ages in years\n",
    "plt.hist(data[(data['elevation_height'] < 0)  & (data['has_damage'] == 1)]['elevation_height'], edgecolor = 'k', bins = 25)\n",
    "plt.title('Positive Elevation'); plt.xlabel('  Eelevation between 0 and 1000'); plt.ylabel('Count');"
   ]
  },
  {
   "cell_type": "code",
   "execution_count": 30,
   "id": "67889076",
   "metadata": {},
   "outputs": [
    {
     "data": {
      "image/png": "[encoded data removed]",
      "text/plain": [
       "<Figure size 720x576 with 1 Axes>"
      ]
     },
     "metadata": {},
     "output_type": "display_data"
    }
   ],
   "source": [
    "plt.figure(figsize = (10, 8))\n",
    "\n",
    "# KDE plot of loans that were repaid on time\n",
    "sns.kdeplot(data.loc[data['has_damage'] == 0, 'elevation_height'], label = 'has_damage == 0')\n",
    "\n",
    "# KDE plot of loans which were not repaid on time\n",
    "sns.kdeplot(data.loc[data['has_damage'] == 1, 'elevation_height'], label = 'has_damage == 1')\n",
    "\n",
    "# Labeling of plot\n",
    "plt.xlabel('elevation'); plt.ylabel('Density'); plt.title('Distribution of elevation height');"
   ]
  },
  {
   "cell_type": "code",
   "execution_count": 31,
   "id": "f73901a8",
   "metadata": {},
   "outputs": [
    {
     "data": {
      "image/png": "[encoded data removed]",
      "text/plain": [
       "<Figure size 720x576 with 1 Axes>"
      ]
     },
     "metadata": {},
     "output_type": "display_data"
    }
   ],
   "source": [
    "plt.figure(figsize = (10, 8))\n",
    "\n",
    "# KDE plot of loans that were repaid on time\n",
    "sns.kdeplot(data.loc[data['has_damage'] == 0, 'slope_geo_delta_0.0003'], label = 'has_damage == 0')\n",
    "\n",
    "# KDE plot of loans which were not repaid on time\n",
    "sns.kdeplot(data.loc[data['has_damage'] == 1, 'slope_geo_delta_0.0003'], label = 'has_damage == 1')\n",
    "\n",
    "# Labeling of plot\n",
    "plt.xlabel('elevation'); plt.ylabel('Density'); plt.title('Distribution of elevation slope');"
   ]
  },
  {
   "cell_type": "code",
   "execution_count": 60,
   "id": "6aa0d284",
   "metadata": {},
   "outputs": [
    {
     "data": {
      "text/html": [
       "<div>\n",
       "<style scoped>\n",
       "    .dataframe tbody tr th:only-of-type {\n",
       "        vertical-align: middle;\n",
       "    }\n",
       "\n",
       "    .dataframe tbody tr th {\n",
       "        vertical-align: top;\n",
       "    }\n",
       "\n",
       "    .dataframe thead th {\n",
       "        text-align: right;\n",
       "    }\n",
       "</style>\n",
       "<table border=\"1\" class=\"dataframe\">\n",
       "  <thead>\n",
       "    <tr style=\"text-align: right;\">\n",
       "      <th></th>\n",
       "      <th>has_damage</th>\n",
       "      <th>elevation_height</th>\n",
       "      <th>ELEVATION_BINNED</th>\n",
       "    </tr>\n",
       "  </thead>\n",
       "  <tbody>\n",
       "    <tr>\n",
       "      <th>0</th>\n",
       "      <td>0</td>\n",
       "      <td>264</td>\n",
       "      <td>(-198.286, 304.286]</td>\n",
       "    </tr>\n",
       "    <tr>\n",
       "      <th>1</th>\n",
       "      <td>0</td>\n",
       "      <td>289</td>\n",
       "      <td>(-198.286, 304.286]</td>\n",
       "    </tr>\n",
       "    <tr>\n",
       "      <th>2</th>\n",
       "      <td>0</td>\n",
       "      <td>292</td>\n",
       "      <td>(-198.286, 304.286]</td>\n",
       "    </tr>\n",
       "    <tr>\n",
       "      <th>3</th>\n",
       "      <td>0</td>\n",
       "      <td>207</td>\n",
       "      <td>(-198.286, 304.286]</td>\n",
       "    </tr>\n",
       "    <tr>\n",
       "      <th>4</th>\n",
       "      <td>0</td>\n",
       "      <td>248</td>\n",
       "      <td>(-198.286, 304.286]</td>\n",
       "    </tr>\n",
       "    <tr>\n",
       "      <th>5</th>\n",
       "      <td>0</td>\n",
       "      <td>214</td>\n",
       "      <td>(-198.286, 304.286]</td>\n",
       "    </tr>\n",
       "    <tr>\n",
       "      <th>6</th>\n",
       "      <td>0</td>\n",
       "      <td>287</td>\n",
       "      <td>(-198.286, 304.286]</td>\n",
       "    </tr>\n",
       "    <tr>\n",
       "      <th>7</th>\n",
       "      <td>0</td>\n",
       "      <td>350</td>\n",
       "      <td>(304.286, 806.857]</td>\n",
       "    </tr>\n",
       "    <tr>\n",
       "      <th>8</th>\n",
       "      <td>0</td>\n",
       "      <td>333</td>\n",
       "      <td>(304.286, 806.857]</td>\n",
       "    </tr>\n",
       "    <tr>\n",
       "      <th>9</th>\n",
       "      <td>0</td>\n",
       "      <td>260</td>\n",
       "      <td>(-198.286, 304.286]</td>\n",
       "    </tr>\n",
       "  </tbody>\n",
       "</table>\n",
       "</div>"
      ],
      "text/plain": [
       "   has_damage  elevation_height     ELEVATION_BINNED\n",
       "0           0               264  (-198.286, 304.286]\n",
       "1           0               289  (-198.286, 304.286]\n",
       "2           0               292  (-198.286, 304.286]\n",
       "3           0               207  (-198.286, 304.286]\n",
       "4           0               248  (-198.286, 304.286]\n",
       "5           0               214  (-198.286, 304.286]\n",
       "6           0               287  (-198.286, 304.286]\n",
       "7           0               350   (304.286, 806.857]\n",
       "8           0               333   (304.286, 806.857]\n",
       "9           0               260  (-198.286, 304.286]"
      ]
     },
     "execution_count": 60,
     "metadata": {},
     "output_type": "execute_result"
    }
   ],
   "source": [
    "## Binning based on elevation\n",
    "\n",
    "elevation_data = data[['has_damage', 'elevation_height']]\n",
    "\n",
    "# Bin the age data\n",
    "elevation_data['ELEVATION_BINNED'] = pd.cut(elevation_data['elevation_height'], bins = np.linspace(-5.224000e+03, 1.812000e+03, num = 15))\n",
    "elevation_data.head(10)"
   ]
  },
  {
   "cell_type": "code",
   "execution_count": 92,
   "id": "1b8cc99d",
   "metadata": {},
   "outputs": [
    {
     "data": {
      "text/plain": [
       "array([Interval(-198.286, 304.286, closed='right'),\n",
       "       Interval(304.286, 806.857, closed='right'),\n",
       "       Interval(-5224.0, -4721.429, closed='right'), nan,\n",
       "       Interval(-2208.571, -1706.0, closed='right'),\n",
       "       Interval(1309.429, 1812.0, closed='right'),\n",
       "       Interval(806.857, 1309.429, closed='right'),\n",
       "       Interval(-700.857, -198.286, closed='right'),\n",
       "       Interval(-2711.143, -2208.571, closed='right'),\n",
       "       Interval(-4721.429, -4218.857, closed='right'),\n",
       "       Interval(-3716.286, -3213.714, closed='right'),\n",
       "       Interval(-1203.429, -700.857, closed='right'),\n",
       "       Interval(-1706.0, -1203.429, closed='right'),\n",
       "       Interval(-3213.714, -2711.143, closed='right')], dtype=object)"
      ]
     },
     "execution_count": 92,
     "metadata": {},
     "output_type": "execute_result"
    }
   ],
   "source": [
    "elevation_data.ELEVATION_BINNED.unique()"
   ]
  },
  {
   "cell_type": "code",
   "execution_count": 54,
   "id": "ca595a83",
   "metadata": {},
   "outputs": [
    {
     "data": {
      "text/html": [
       "<div>\n",
       "<style scoped>\n",
       "    .dataframe tbody tr th:only-of-type {\n",
       "        vertical-align: middle;\n",
       "    }\n",
       "\n",
       "    .dataframe tbody tr th {\n",
       "        vertical-align: top;\n",
       "    }\n",
       "\n",
       "    .dataframe thead th {\n",
       "        text-align: right;\n",
       "    }\n",
       "</style>\n",
       "<table border=\"1\" class=\"dataframe\">\n",
       "  <thead>\n",
       "    <tr style=\"text-align: right;\">\n",
       "      <th></th>\n",
       "      <th>has_damage</th>\n",
       "      <th>elevation_height</th>\n",
       "    </tr>\n",
       "    <tr>\n",
       "      <th>ELEVATION_BINNED</th>\n",
       "      <th></th>\n",
       "      <th></th>\n",
       "    </tr>\n",
       "  </thead>\n",
       "  <tbody>\n",
       "    <tr>\n",
       "      <th>(-5224.0, -4721.429]</th>\n",
       "      <td>0.003434</td>\n",
       "      <td>-4934.977335</td>\n",
       "    </tr>\n",
       "    <tr>\n",
       "      <th>(-4721.429, -4218.857]</th>\n",
       "      <td>0.000000</td>\n",
       "      <td>-4620.750000</td>\n",
       "    </tr>\n",
       "    <tr>\n",
       "      <th>(-4218.857, -3716.286]</th>\n",
       "      <td>NaN</td>\n",
       "      <td>NaN</td>\n",
       "    </tr>\n",
       "    <tr>\n",
       "      <th>(-3716.286, -3213.714]</th>\n",
       "      <td>0.000000</td>\n",
       "      <td>-3682.500000</td>\n",
       "    </tr>\n",
       "    <tr>\n",
       "      <th>(-3213.714, -2711.143]</th>\n",
       "      <td>0.000000</td>\n",
       "      <td>-3041.000000</td>\n",
       "    </tr>\n",
       "    <tr>\n",
       "      <th>(-2711.143, -2208.571]</th>\n",
       "      <td>0.000000</td>\n",
       "      <td>-2535.666667</td>\n",
       "    </tr>\n",
       "    <tr>\n",
       "      <th>(-2208.571, -1706.0]</th>\n",
       "      <td>0.000000</td>\n",
       "      <td>-1754.000000</td>\n",
       "    </tr>\n",
       "    <tr>\n",
       "      <th>(-1706.0, -1203.429]</th>\n",
       "      <td>0.000000</td>\n",
       "      <td>-1413.000000</td>\n",
       "    </tr>\n",
       "    <tr>\n",
       "      <th>(-1203.429, -700.857]</th>\n",
       "      <td>0.000000</td>\n",
       "      <td>-811.000000</td>\n",
       "    </tr>\n",
       "    <tr>\n",
       "      <th>(-700.857, -198.286]</th>\n",
       "      <td>0.000000</td>\n",
       "      <td>-370.600000</td>\n",
       "    </tr>\n",
       "    <tr>\n",
       "      <th>(-198.286, 304.286]</th>\n",
       "      <td>0.002160</td>\n",
       "      <td>242.221890</td>\n",
       "    </tr>\n",
       "    <tr>\n",
       "      <th>(304.286, 806.857]</th>\n",
       "      <td>0.002166</td>\n",
       "      <td>339.841902</td>\n",
       "    </tr>\n",
       "    <tr>\n",
       "      <th>(806.857, 1309.429]</th>\n",
       "      <td>0.000000</td>\n",
       "      <td>953.200000</td>\n",
       "    </tr>\n",
       "    <tr>\n",
       "      <th>(1309.429, 1812.0]</th>\n",
       "      <td>0.083333</td>\n",
       "      <td>1547.416667</td>\n",
       "    </tr>\n",
       "  </tbody>\n",
       "</table>\n",
       "</div>"
      ],
      "text/plain": [
       "                        has_damage  elevation_height\n",
       "ELEVATION_BINNED                                    \n",
       "(-5224.0, -4721.429]      0.003434      -4934.977335\n",
       "(-4721.429, -4218.857]    0.000000      -4620.750000\n",
       "(-4218.857, -3716.286]         NaN               NaN\n",
       "(-3716.286, -3213.714]    0.000000      -3682.500000\n",
       "(-3213.714, -2711.143]    0.000000      -3041.000000\n",
       "(-2711.143, -2208.571]    0.000000      -2535.666667\n",
       "(-2208.571, -1706.0]      0.000000      -1754.000000\n",
       "(-1706.0, -1203.429]      0.000000      -1413.000000\n",
       "(-1203.429, -700.857]     0.000000       -811.000000\n",
       "(-700.857, -198.286]      0.000000       -370.600000\n",
       "(-198.286, 304.286]       0.002160        242.221890\n",
       "(304.286, 806.857]        0.002166        339.841902\n",
       "(806.857, 1309.429]       0.000000        953.200000\n",
       "(1309.429, 1812.0]        0.083333       1547.416667"
      ]
     },
     "execution_count": 54,
     "metadata": {},
     "output_type": "execute_result"
    }
   ],
   "source": [
    "# Group by the bin and calculate averages\n",
    "elevation_group = elevation_data.groupby('ELEVATION_BINNED').mean()\n",
    "elevation_group"
   ]
  },
  {
   "cell_type": "code",
   "execution_count": 55,
   "id": "452dbc78",
   "metadata": {},
   "outputs": [
    {
     "data": {
      "text/html": [
       "<div>\n",
       "<style scoped>\n",
       "    .dataframe tbody tr th:only-of-type {\n",
       "        vertical-align: middle;\n",
       "    }\n",
       "\n",
       "    .dataframe tbody tr th {\n",
       "        vertical-align: top;\n",
       "    }\n",
       "\n",
       "    .dataframe thead th {\n",
       "        text-align: right;\n",
       "    }\n",
       "</style>\n",
       "<table border=\"1\" class=\"dataframe\">\n",
       "  <thead>\n",
       "    <tr style=\"text-align: right;\">\n",
       "      <th></th>\n",
       "      <th></th>\n",
       "      <th>elevation_height</th>\n",
       "    </tr>\n",
       "    <tr>\n",
       "      <th>ELEVATION_BINNED</th>\n",
       "      <th>has_damage</th>\n",
       "      <th></th>\n",
       "    </tr>\n",
       "  </thead>\n",
       "  <tbody>\n",
       "    <tr>\n",
       "      <th rowspan=\"2\" valign=\"top\">(-5224.0, -4721.429]</th>\n",
       "      <th>0</th>\n",
       "      <td>1451</td>\n",
       "    </tr>\n",
       "    <tr>\n",
       "      <th>1</th>\n",
       "      <td>5</td>\n",
       "    </tr>\n",
       "    <tr>\n",
       "      <th rowspan=\"2\" valign=\"top\">(-4721.429, -4218.857]</th>\n",
       "      <th>0</th>\n",
       "      <td>4</td>\n",
       "    </tr>\n",
       "    <tr>\n",
       "      <th>1</th>\n",
       "      <td>0</td>\n",
       "    </tr>\n",
       "    <tr>\n",
       "      <th rowspan=\"2\" valign=\"top\">(-4218.857, -3716.286]</th>\n",
       "      <th>0</th>\n",
       "      <td>0</td>\n",
       "    </tr>\n",
       "    <tr>\n",
       "      <th>1</th>\n",
       "      <td>0</td>\n",
       "    </tr>\n",
       "    <tr>\n",
       "      <th rowspan=\"2\" valign=\"top\">(-3716.286, -3213.714]</th>\n",
       "      <th>0</th>\n",
       "      <td>2</td>\n",
       "    </tr>\n",
       "    <tr>\n",
       "      <th>1</th>\n",
       "      <td>0</td>\n",
       "    </tr>\n",
       "    <tr>\n",
       "      <th rowspan=\"2\" valign=\"top\">(-3213.714, -2711.143]</th>\n",
       "      <th>0</th>\n",
       "      <td>1</td>\n",
       "    </tr>\n",
       "    <tr>\n",
       "      <th>1</th>\n",
       "      <td>0</td>\n",
       "    </tr>\n",
       "    <tr>\n",
       "      <th rowspan=\"2\" valign=\"top\">(-2711.143, -2208.571]</th>\n",
       "      <th>0</th>\n",
       "      <td>6</td>\n",
       "    </tr>\n",
       "    <tr>\n",
       "      <th>1</th>\n",
       "      <td>0</td>\n",
       "    </tr>\n",
       "    <tr>\n",
       "      <th rowspan=\"2\" valign=\"top\">(-2208.571, -1706.0]</th>\n",
       "      <th>0</th>\n",
       "      <td>1</td>\n",
       "    </tr>\n",
       "    <tr>\n",
       "      <th>1</th>\n",
       "      <td>0</td>\n",
       "    </tr>\n",
       "    <tr>\n",
       "      <th rowspan=\"2\" valign=\"top\">(-1706.0, -1203.429]</th>\n",
       "      <th>0</th>\n",
       "      <td>1</td>\n",
       "    </tr>\n",
       "    <tr>\n",
       "      <th>1</th>\n",
       "      <td>0</td>\n",
       "    </tr>\n",
       "    <tr>\n",
       "      <th rowspan=\"2\" valign=\"top\">(-1203.429, -700.857]</th>\n",
       "      <th>0</th>\n",
       "      <td>1</td>\n",
       "    </tr>\n",
       "    <tr>\n",
       "      <th>1</th>\n",
       "      <td>0</td>\n",
       "    </tr>\n",
       "    <tr>\n",
       "      <th rowspan=\"2\" valign=\"top\">(-700.857, -198.286]</th>\n",
       "      <th>0</th>\n",
       "      <td>20</td>\n",
       "    </tr>\n",
       "    <tr>\n",
       "      <th>1</th>\n",
       "      <td>0</td>\n",
       "    </tr>\n",
       "    <tr>\n",
       "      <th rowspan=\"2\" valign=\"top\">(-198.286, 304.286]</th>\n",
       "      <th>0</th>\n",
       "      <td>2837682</td>\n",
       "    </tr>\n",
       "    <tr>\n",
       "      <th>1</th>\n",
       "      <td>6143</td>\n",
       "    </tr>\n",
       "    <tr>\n",
       "      <th rowspan=\"2\" valign=\"top\">(304.286, 806.857]</th>\n",
       "      <th>0</th>\n",
       "      <td>594720</td>\n",
       "    </tr>\n",
       "    <tr>\n",
       "      <th>1</th>\n",
       "      <td>1291</td>\n",
       "    </tr>\n",
       "    <tr>\n",
       "      <th rowspan=\"2\" valign=\"top\">(806.857, 1309.429]</th>\n",
       "      <th>0</th>\n",
       "      <td>15</td>\n",
       "    </tr>\n",
       "    <tr>\n",
       "      <th>1</th>\n",
       "      <td>0</td>\n",
       "    </tr>\n",
       "    <tr>\n",
       "      <th rowspan=\"2\" valign=\"top\">(1309.429, 1812.0]</th>\n",
       "      <th>0</th>\n",
       "      <td>11</td>\n",
       "    </tr>\n",
       "    <tr>\n",
       "      <th>1</th>\n",
       "      <td>1</td>\n",
       "    </tr>\n",
       "  </tbody>\n",
       "</table>\n",
       "</div>"
      ],
      "text/plain": [
       "                                   elevation_height\n",
       "ELEVATION_BINNED       has_damage                  \n",
       "(-5224.0, -4721.429]   0                       1451\n",
       "                       1                          5\n",
       "(-4721.429, -4218.857] 0                          4\n",
       "                       1                          0\n",
       "(-4218.857, -3716.286] 0                          0\n",
       "                       1                          0\n",
       "(-3716.286, -3213.714] 0                          2\n",
       "                       1                          0\n",
       "(-3213.714, -2711.143] 0                          1\n",
       "                       1                          0\n",
       "(-2711.143, -2208.571] 0                          6\n",
       "                       1                          0\n",
       "(-2208.571, -1706.0]   0                          1\n",
       "                       1                          0\n",
       "(-1706.0, -1203.429]   0                          1\n",
       "                       1                          0\n",
       "(-1203.429, -700.857]  0                          1\n",
       "                       1                          0\n",
       "(-700.857, -198.286]   0                         20\n",
       "                       1                          0\n",
       "(-198.286, 304.286]    0                    2837682\n",
       "                       1                       6143\n",
       "(304.286, 806.857]     0                     594720\n",
       "                       1                       1291\n",
       "(806.857, 1309.429]    0                         15\n",
       "                       1                          0\n",
       "(1309.429, 1812.0]     0                         11\n",
       "                       1                          1"
      ]
     },
     "execution_count": 55,
     "metadata": {},
     "output_type": "execute_result"
    }
   ],
   "source": [
    "elevation_data.groupby(['ELEVATION_BINNED','has_damage']).count()"
   ]
  },
  {
   "cell_type": "code",
   "execution_count": 56,
   "id": "feca2f20",
   "metadata": {},
   "outputs": [
    {
     "data": {
      "text/html": [
       "<div>\n",
       "<style scoped>\n",
       "    .dataframe tbody tr th:only-of-type {\n",
       "        vertical-align: middle;\n",
       "    }\n",
       "\n",
       "    .dataframe tbody tr th {\n",
       "        vertical-align: top;\n",
       "    }\n",
       "\n",
       "    .dataframe thead th {\n",
       "        text-align: right;\n",
       "    }\n",
       "</style>\n",
       "<table border=\"1\" class=\"dataframe\">\n",
       "  <thead>\n",
       "    <tr style=\"text-align: right;\">\n",
       "      <th></th>\n",
       "      <th>has_damage</th>\n",
       "      <th>elevation_height</th>\n",
       "      <th>ELEVATION_BINNED</th>\n",
       "    </tr>\n",
       "  </thead>\n",
       "  <tbody>\n",
       "    <tr>\n",
       "      <th>0</th>\n",
       "      <td>0</td>\n",
       "      <td>264</td>\n",
       "      <td>(-198.286, 304.286]</td>\n",
       "    </tr>\n",
       "    <tr>\n",
       "      <th>1</th>\n",
       "      <td>0</td>\n",
       "      <td>289</td>\n",
       "      <td>(-198.286, 304.286]</td>\n",
       "    </tr>\n",
       "    <tr>\n",
       "      <th>2</th>\n",
       "      <td>0</td>\n",
       "      <td>292</td>\n",
       "      <td>(-198.286, 304.286]</td>\n",
       "    </tr>\n",
       "    <tr>\n",
       "      <th>3</th>\n",
       "      <td>0</td>\n",
       "      <td>207</td>\n",
       "      <td>(-198.286, 304.286]</td>\n",
       "    </tr>\n",
       "    <tr>\n",
       "      <th>4</th>\n",
       "      <td>0</td>\n",
       "      <td>248</td>\n",
       "      <td>(-198.286, 304.286]</td>\n",
       "    </tr>\n",
       "  </tbody>\n",
       "</table>\n",
       "</div>"
      ],
      "text/plain": [
       "   has_damage  elevation_height     ELEVATION_BINNED\n",
       "0           0               264  (-198.286, 304.286]\n",
       "1           0               289  (-198.286, 304.286]\n",
       "2           0               292  (-198.286, 304.286]\n",
       "3           0               207  (-198.286, 304.286]\n",
       "4           0               248  (-198.286, 304.286]"
      ]
     },
     "execution_count": 56,
     "metadata": {},
     "output_type": "execute_result"
    }
   ],
   "source": [
    "elevation_data.head(5)"
   ]
  },
  {
   "cell_type": "code",
   "execution_count": 116,
   "id": "b66786ae",
   "metadata": {},
   "outputs": [
    {
     "data": {
      "image/png": "[encoded data removed]",
      "text/plain": [
       "<Figure size 576x576 with 1 Axes>"
      ]
     },
     "metadata": {},
     "output_type": "display_data"
    }
   ],
   "source": [
    "plt.figure(figsize = (8, 8))\n",
    "\n",
    "# Graph the age bins and the average of the target as a bar plot\n",
    "plt.bar(elevation_group.index.astype(str), 100 * elevation_group['has_damage'])\n",
    "\n",
    "# Plot labeling\n",
    "plt.xticks(rotation = 75); plt.xlabel('Eelevation Group'); plt.ylabel('Has damage (%)')\n",
    "plt.title('Damage based on elevation');"
   ]
  },
  {
   "cell_type": "markdown",
   "id": "c3e5e697",
   "metadata": {},
   "source": [
    "#### Label Encoding and One-Hot Encoding"
   ]
  },
  {
   "cell_type": "code",
   "execution_count": 61,
   "id": "a380dabc",
   "metadata": {},
   "outputs": [],
   "source": [
    "elevation_data['ELEVATION_BINNED'] = elevation_data['ELEVATION_BINNED'].astype(object)"
   ]
  },
  {
   "cell_type": "code",
   "execution_count": 66,
   "id": "8b50ca18",
   "metadata": {},
   "outputs": [],
   "source": [
    "elevation_height_one_hot = pd.get_dummies(elevation_data['ELEVATION_BINNED'])"
   ]
  },
  {
   "cell_type": "code",
   "execution_count": 99,
   "id": "7f906a42",
   "metadata": {},
   "outputs": [
    {
     "data": {
      "text/plain": [
       "13"
      ]
     },
     "execution_count": 99,
     "metadata": {},
     "output_type": "execute_result"
    }
   ],
   "source": [
    "elevation_height_one_hot_columns = elevation_height_one_hot.columns\n",
    "len(elevation_height_one_hot_columns)"
   ]
  },
  {
   "cell_type": "code",
   "execution_count": 100,
   "id": "74801f26",
   "metadata": {},
   "outputs": [
    {
     "data": {
      "text/html": [
       "<div>\n",
       "<style scoped>\n",
       "    .dataframe tbody tr th:only-of-type {\n",
       "        vertical-align: middle;\n",
       "    }\n",
       "\n",
       "    .dataframe tbody tr th {\n",
       "        vertical-align: top;\n",
       "    }\n",
       "\n",
       "    .dataframe thead th {\n",
       "        text-align: right;\n",
       "    }\n",
       "</style>\n",
       "<table border=\"1\" class=\"dataframe\">\n",
       "  <thead>\n",
       "    <tr style=\"text-align: right;\">\n",
       "      <th></th>\n",
       "      <th>elevation_height_range0</th>\n",
       "      <th>elevation_height_range1</th>\n",
       "      <th>elevation_height_range2</th>\n",
       "      <th>elevation_height_range3</th>\n",
       "      <th>elevation_height_range4</th>\n",
       "      <th>elevation_height_range5</th>\n",
       "      <th>elevation_height_range6</th>\n",
       "      <th>elevation_height_range7</th>\n",
       "      <th>elevation_height_range8</th>\n",
       "      <th>elevation_height_range9</th>\n",
       "      <th>elevation_height_range10</th>\n",
       "      <th>elevation_height_range11</th>\n",
       "      <th>elevation_height_range12</th>\n",
       "    </tr>\n",
       "  </thead>\n",
       "  <tbody>\n",
       "    <tr>\n",
       "      <th>0</th>\n",
       "      <td>0</td>\n",
       "      <td>0</td>\n",
       "      <td>0</td>\n",
       "      <td>0</td>\n",
       "      <td>0</td>\n",
       "      <td>0</td>\n",
       "      <td>0</td>\n",
       "      <td>0</td>\n",
       "      <td>0</td>\n",
       "      <td>1</td>\n",
       "      <td>0</td>\n",
       "      <td>0</td>\n",
       "      <td>0</td>\n",
       "    </tr>\n",
       "    <tr>\n",
       "      <th>1</th>\n",
       "      <td>0</td>\n",
       "      <td>0</td>\n",
       "      <td>0</td>\n",
       "      <td>0</td>\n",
       "      <td>0</td>\n",
       "      <td>0</td>\n",
       "      <td>0</td>\n",
       "      <td>0</td>\n",
       "      <td>0</td>\n",
       "      <td>1</td>\n",
       "      <td>0</td>\n",
       "      <td>0</td>\n",
       "      <td>0</td>\n",
       "    </tr>\n",
       "    <tr>\n",
       "      <th>2</th>\n",
       "      <td>0</td>\n",
       "      <td>0</td>\n",
       "      <td>0</td>\n",
       "      <td>0</td>\n",
       "      <td>0</td>\n",
       "      <td>0</td>\n",
       "      <td>0</td>\n",
       "      <td>0</td>\n",
       "      <td>0</td>\n",
       "      <td>1</td>\n",
       "      <td>0</td>\n",
       "      <td>0</td>\n",
       "      <td>0</td>\n",
       "    </tr>\n",
       "  </tbody>\n",
       "</table>\n",
       "</div>"
      ],
      "text/plain": [
       "   elevation_height_range0  elevation_height_range1  elevation_height_range2  \\\n",
       "0                        0                        0                        0   \n",
       "1                        0                        0                        0   \n",
       "2                        0                        0                        0   \n",
       "\n",
       "   elevation_height_range3  elevation_height_range4  elevation_height_range5  \\\n",
       "0                        0                        0                        0   \n",
       "1                        0                        0                        0   \n",
       "2                        0                        0                        0   \n",
       "\n",
       "   elevation_height_range6  elevation_height_range7  elevation_height_range8  \\\n",
       "0                        0                        0                        0   \n",
       "1                        0                        0                        0   \n",
       "2                        0                        0                        0   \n",
       "\n",
       "   elevation_height_range9  elevation_height_range10  \\\n",
       "0                        1                         0   \n",
       "1                        1                         0   \n",
       "2                        1                         0   \n",
       "\n",
       "   elevation_height_range11  elevation_height_range12  \n",
       "0                         0                         0  \n",
       "1                         0                         0  \n",
       "2                         0                         0  "
      ]
     },
     "execution_count": 100,
     "metadata": {},
     "output_type": "execute_result"
    }
   ],
   "source": [
    "elevation_height_one_hot.columns =['elevation_height_range0',\n",
    "'elevation_height_range1',\n",
    "'elevation_height_range2',\n",
    "'elevation_height_range3',\n",
    "'elevation_height_range4',\n",
    "'elevation_height_range5',\n",
    "'elevation_height_range6',\n",
    "'elevation_height_range7',\n",
    "'elevation_height_range8',\n",
    "'elevation_height_range9',\n",
    "'elevation_height_range10',\n",
    "'elevation_height_range11',\n",
    "'elevation_height_range12'\n",
    "     ]\n",
    "elevation_height_one_hot.head(3)"
   ]
  },
  {
   "cell_type": "code",
   "execution_count": 140,
   "id": "22c23885",
   "metadata": {},
   "outputs": [],
   "source": [
    "data_final = data.copy()"
   ]
  },
  {
   "cell_type": "code",
   "execution_count": 141,
   "id": "006c9cde",
   "metadata": {},
   "outputs": [
    {
     "data": {
      "text/plain": [
       "Index(['Unnamed: 0', 'work_type_0', 'work_type_1', 'work_type_2',\n",
       "       'work_type_3', 'work_type_4', 'work_type_5', 'work_type_6',\n",
       "       'work_type_7', 'work_type_8', 'work_type_9', 'work_type_10',\n",
       "       'work_type_11', 'work_type_12', 'work_type_13', 'work_type_14',\n",
       "       'work_type_15', 'work_type_16', 'work_type_17', 'work_type_18',\n",
       "       'work_type_19', 'work_type_20', 'work_type_21', 'work_type_22',\n",
       "       'work_type_23', 'work_type_24', 'work_type_25', 'work_type_26',\n",
       "       'work_type_27', 'work_type_28', 'work_type_29', 'work_type_30',\n",
       "       'work_type_31', 'work_type_32', 'work_type_33', 'work_type_34',\n",
       "       'work_type_35', 'work_type_36', 'work_type_37', 'work_type_38',\n",
       "       'work_type_39', 'work_type_40', 'work_type_41', 'work_type_42',\n",
       "       'work_type_43', 'work_type_44', 'work_type_45', 'work_type_46',\n",
       "       'work_type_47', 'work_type_48', 'work_type_49', 'work_type_50',\n",
       "       'work_type_51', 'work_type_52', 'work_type_53', 'work_type_54',\n",
       "       'work_type_55', 'work_type_56', 'work_type_57', 'work_type_58',\n",
       "       'work_type_59', 'work_type_60', 'work_type_61', 'work_type_62',\n",
       "       'work_type_63', 'work_type_64', 'work_type_65', 'work_type_66',\n",
       "       'ticket_datetime', 'elevation_height', 'slope_geo_delta_0.0003',\n",
       "       'is_large_project', 'has_damage', 'elevation_angle'],\n",
       "      dtype='object')"
      ]
     },
     "execution_count": 141,
     "metadata": {},
     "output_type": "execute_result"
    }
   ],
   "source": [
    "data_final.columns"
   ]
  },
  {
   "cell_type": "code",
   "execution_count": 142,
   "id": "1e2fb04b",
   "metadata": {},
   "outputs": [],
   "source": [
    "data_final = data_final.drop(columns = ['Unnamed: 0'])"
   ]
  },
  {
   "cell_type": "code",
   "execution_count": 143,
   "id": "abbeceaa",
   "metadata": {},
   "outputs": [
    {
     "data": {
      "text/plain": [
       "(3441356, 86)"
      ]
     },
     "execution_count": 143,
     "metadata": {},
     "output_type": "execute_result"
    }
   ],
   "source": [
    "for col in elevation_height_one_hot.columns:\n",
    "    data_final[col] = elevation_height_one_hot[col]\n",
    "data_final.shape"
   ]
  },
  {
   "cell_type": "code",
   "execution_count": 130,
   "id": "0d3b0e3f",
   "metadata": {},
   "outputs": [
    {
     "data": {
      "text/html": [
       "<div>\n",
       "<style scoped>\n",
       "    .dataframe tbody tr th:only-of-type {\n",
       "        vertical-align: middle;\n",
       "    }\n",
       "\n",
       "    .dataframe tbody tr th {\n",
       "        vertical-align: top;\n",
       "    }\n",
       "\n",
       "    .dataframe thead th {\n",
       "        text-align: right;\n",
       "    }\n",
       "</style>\n",
       "<table border=\"1\" class=\"dataframe\">\n",
       "  <thead>\n",
       "    <tr style=\"text-align: right;\">\n",
       "      <th></th>\n",
       "      <th>work_type_0</th>\n",
       "      <th>work_type_1</th>\n",
       "      <th>work_type_2</th>\n",
       "      <th>work_type_3</th>\n",
       "      <th>work_type_4</th>\n",
       "      <th>work_type_5</th>\n",
       "      <th>work_type_6</th>\n",
       "      <th>work_type_7</th>\n",
       "      <th>work_type_8</th>\n",
       "      <th>work_type_9</th>\n",
       "      <th>...</th>\n",
       "      <th>elevation_height_range3</th>\n",
       "      <th>elevation_height_range4</th>\n",
       "      <th>elevation_height_range5</th>\n",
       "      <th>elevation_height_range6</th>\n",
       "      <th>elevation_height_range7</th>\n",
       "      <th>elevation_height_range8</th>\n",
       "      <th>elevation_height_range9</th>\n",
       "      <th>elevation_height_range10</th>\n",
       "      <th>elevation_height_range11</th>\n",
       "      <th>elevation_height_range12</th>\n",
       "    </tr>\n",
       "  </thead>\n",
       "  <tbody>\n",
       "    <tr>\n",
       "      <th>0</th>\n",
       "      <td>0</td>\n",
       "      <td>0</td>\n",
       "      <td>0</td>\n",
       "      <td>0</td>\n",
       "      <td>0</td>\n",
       "      <td>0</td>\n",
       "      <td>0</td>\n",
       "      <td>0</td>\n",
       "      <td>0</td>\n",
       "      <td>0</td>\n",
       "      <td>...</td>\n",
       "      <td>0</td>\n",
       "      <td>0</td>\n",
       "      <td>0</td>\n",
       "      <td>0</td>\n",
       "      <td>0</td>\n",
       "      <td>0</td>\n",
       "      <td>1</td>\n",
       "      <td>0</td>\n",
       "      <td>0</td>\n",
       "      <td>0</td>\n",
       "    </tr>\n",
       "    <tr>\n",
       "      <th>1</th>\n",
       "      <td>0</td>\n",
       "      <td>0</td>\n",
       "      <td>0</td>\n",
       "      <td>0</td>\n",
       "      <td>0</td>\n",
       "      <td>0</td>\n",
       "      <td>0</td>\n",
       "      <td>0</td>\n",
       "      <td>0</td>\n",
       "      <td>0</td>\n",
       "      <td>...</td>\n",
       "      <td>0</td>\n",
       "      <td>0</td>\n",
       "      <td>0</td>\n",
       "      <td>0</td>\n",
       "      <td>0</td>\n",
       "      <td>0</td>\n",
       "      <td>1</td>\n",
       "      <td>0</td>\n",
       "      <td>0</td>\n",
       "      <td>0</td>\n",
       "    </tr>\n",
       "    <tr>\n",
       "      <th>2</th>\n",
       "      <td>0</td>\n",
       "      <td>0</td>\n",
       "      <td>0</td>\n",
       "      <td>0</td>\n",
       "      <td>0</td>\n",
       "      <td>0</td>\n",
       "      <td>0</td>\n",
       "      <td>0</td>\n",
       "      <td>0</td>\n",
       "      <td>0</td>\n",
       "      <td>...</td>\n",
       "      <td>0</td>\n",
       "      <td>0</td>\n",
       "      <td>0</td>\n",
       "      <td>0</td>\n",
       "      <td>0</td>\n",
       "      <td>0</td>\n",
       "      <td>1</td>\n",
       "      <td>0</td>\n",
       "      <td>0</td>\n",
       "      <td>0</td>\n",
       "    </tr>\n",
       "  </tbody>\n",
       "</table>\n",
       "<p>3 rows × 86 columns</p>\n",
       "</div>"
      ],
      "text/plain": [
       "   work_type_0  work_type_1  work_type_2  work_type_3  work_type_4  \\\n",
       "0            0            0            0            0            0   \n",
       "1            0            0            0            0            0   \n",
       "2            0            0            0            0            0   \n",
       "\n",
       "   work_type_5  work_type_6  work_type_7  work_type_8  work_type_9  ...  \\\n",
       "0            0            0            0            0            0  ...   \n",
       "1            0            0            0            0            0  ...   \n",
       "2            0            0            0            0            0  ...   \n",
       "\n",
       "   elevation_height_range3  elevation_height_range4  elevation_height_range5  \\\n",
       "0                        0                        0                        0   \n",
       "1                        0                        0                        0   \n",
       "2                        0                        0                        0   \n",
       "\n",
       "   elevation_height_range6  elevation_height_range7  elevation_height_range8  \\\n",
       "0                        0                        0                        0   \n",
       "1                        0                        0                        0   \n",
       "2                        0                        0                        0   \n",
       "\n",
       "   elevation_height_range9  elevation_height_range10  \\\n",
       "0                        1                         0   \n",
       "1                        1                         0   \n",
       "2                        1                         0   \n",
       "\n",
       "   elevation_height_range11  elevation_height_range12  \n",
       "0                         0                         0  \n",
       "1                         0                         0  \n",
       "2                         0                         0  \n",
       "\n",
       "[3 rows x 86 columns]"
      ]
     },
     "execution_count": 130,
     "metadata": {},
     "output_type": "execute_result"
    }
   ],
   "source": [
    "data_final.head(3)"
   ]
  },
  {
   "cell_type": "code",
   "execution_count": 106,
   "id": "487019e6",
   "metadata": {},
   "outputs": [
    {
     "data": {
      "text/html": [
       "<div>\n",
       "<style scoped>\n",
       "    .dataframe tbody tr th:only-of-type {\n",
       "        vertical-align: middle;\n",
       "    }\n",
       "\n",
       "    .dataframe tbody tr th {\n",
       "        vertical-align: top;\n",
       "    }\n",
       "\n",
       "    .dataframe thead th {\n",
       "        text-align: right;\n",
       "    }\n",
       "</style>\n",
       "<table border=\"1\" class=\"dataframe\">\n",
       "  <thead>\n",
       "    <tr style=\"text-align: right;\">\n",
       "      <th></th>\n",
       "      <th>has_damage</th>\n",
       "      <th>slope_geo_delta_0.0003</th>\n",
       "      <th>ELEVATION_SLOPE_BINNED</th>\n",
       "    </tr>\n",
       "  </thead>\n",
       "  <tbody>\n",
       "    <tr>\n",
       "      <th>0</th>\n",
       "      <td>0</td>\n",
       "      <td>0.012744</td>\n",
       "      <td>(0.0, 0.0291]</td>\n",
       "    </tr>\n",
       "    <tr>\n",
       "      <th>1</th>\n",
       "      <td>0</td>\n",
       "      <td>0.012622</td>\n",
       "      <td>(0.0, 0.0291]</td>\n",
       "    </tr>\n",
       "    <tr>\n",
       "      <th>2</th>\n",
       "      <td>0</td>\n",
       "      <td>0.012429</td>\n",
       "      <td>(0.0, 0.0291]</td>\n",
       "    </tr>\n",
       "    <tr>\n",
       "      <th>3</th>\n",
       "      <td>0</td>\n",
       "      <td>0.012475</td>\n",
       "      <td>(0.0, 0.0291]</td>\n",
       "    </tr>\n",
       "    <tr>\n",
       "      <th>4</th>\n",
       "      <td>0</td>\n",
       "      <td>0.012572</td>\n",
       "      <td>(0.0, 0.0291]</td>\n",
       "    </tr>\n",
       "    <tr>\n",
       "      <th>5</th>\n",
       "      <td>0</td>\n",
       "      <td>0.012694</td>\n",
       "      <td>(0.0, 0.0291]</td>\n",
       "    </tr>\n",
       "    <tr>\n",
       "      <th>6</th>\n",
       "      <td>0</td>\n",
       "      <td>0.012146</td>\n",
       "      <td>(0.0, 0.0291]</td>\n",
       "    </tr>\n",
       "    <tr>\n",
       "      <th>7</th>\n",
       "      <td>0</td>\n",
       "      <td>0.011882</td>\n",
       "      <td>(0.0, 0.0291]</td>\n",
       "    </tr>\n",
       "    <tr>\n",
       "      <th>8</th>\n",
       "      <td>0</td>\n",
       "      <td>0.011877</td>\n",
       "      <td>(0.0, 0.0291]</td>\n",
       "    </tr>\n",
       "    <tr>\n",
       "      <th>9</th>\n",
       "      <td>0</td>\n",
       "      <td>0.010885</td>\n",
       "      <td>(0.0, 0.0291]</td>\n",
       "    </tr>\n",
       "  </tbody>\n",
       "</table>\n",
       "</div>"
      ],
      "text/plain": [
       "   has_damage  slope_geo_delta_0.0003 ELEVATION_SLOPE_BINNED\n",
       "0           0                0.012744          (0.0, 0.0291]\n",
       "1           0                0.012622          (0.0, 0.0291]\n",
       "2           0                0.012429          (0.0, 0.0291]\n",
       "3           0                0.012475          (0.0, 0.0291]\n",
       "4           0                0.012572          (0.0, 0.0291]\n",
       "5           0                0.012694          (0.0, 0.0291]\n",
       "6           0                0.012146          (0.0, 0.0291]\n",
       "7           0                0.011882          (0.0, 0.0291]\n",
       "8           0                0.011877          (0.0, 0.0291]\n",
       "9           0                0.010885          (0.0, 0.0291]"
      ]
     },
     "execution_count": 106,
     "metadata": {},
     "output_type": "execute_result"
    }
   ],
   "source": [
    "elevation_slope_data = data[['has_damage', 'slope_geo_delta_0.0003']]\n",
    "# Bin the age data\n",
    "elevation_slope_data['ELEVATION_SLOPE_BINNED'] = pd.cut(elevation_slope_data['slope_geo_delta_0.0003'], bins = np.linspace(0,4.067290e-01, num = 15))\n",
    "elevation_slope_data.head(10)"
   ]
  },
  {
   "cell_type": "code",
   "execution_count": 118,
   "id": "1418808d",
   "metadata": {},
   "outputs": [
    {
     "data": {
      "text/html": [
       "<div>\n",
       "<style scoped>\n",
       "    .dataframe tbody tr th:only-of-type {\n",
       "        vertical-align: middle;\n",
       "    }\n",
       "\n",
       "    .dataframe tbody tr th {\n",
       "        vertical-align: top;\n",
       "    }\n",
       "\n",
       "    .dataframe thead th {\n",
       "        text-align: right;\n",
       "    }\n",
       "</style>\n",
       "<table border=\"1\" class=\"dataframe\">\n",
       "  <thead>\n",
       "    <tr style=\"text-align: right;\">\n",
       "      <th></th>\n",
       "      <th>has_damage</th>\n",
       "      <th>slope_geo_delta_0.0003</th>\n",
       "      <th>ELEVATION_SLOPE_BINNED</th>\n",
       "    </tr>\n",
       "  </thead>\n",
       "  <tbody>\n",
       "    <tr>\n",
       "      <th>0</th>\n",
       "      <td>0</td>\n",
       "      <td>0.012744</td>\n",
       "      <td>(0.0, 0.0291]</td>\n",
       "    </tr>\n",
       "    <tr>\n",
       "      <th>1</th>\n",
       "      <td>0</td>\n",
       "      <td>0.012622</td>\n",
       "      <td>(0.0, 0.0291]</td>\n",
       "    </tr>\n",
       "    <tr>\n",
       "      <th>2</th>\n",
       "      <td>0</td>\n",
       "      <td>0.012429</td>\n",
       "      <td>(0.0, 0.0291]</td>\n",
       "    </tr>\n",
       "    <tr>\n",
       "      <th>3</th>\n",
       "      <td>0</td>\n",
       "      <td>0.012475</td>\n",
       "      <td>(0.0, 0.0291]</td>\n",
       "    </tr>\n",
       "    <tr>\n",
       "      <th>4</th>\n",
       "      <td>0</td>\n",
       "      <td>0.012572</td>\n",
       "      <td>(0.0, 0.0291]</td>\n",
       "    </tr>\n",
       "    <tr>\n",
       "      <th>5</th>\n",
       "      <td>0</td>\n",
       "      <td>0.012694</td>\n",
       "      <td>(0.0, 0.0291]</td>\n",
       "    </tr>\n",
       "    <tr>\n",
       "      <th>6</th>\n",
       "      <td>0</td>\n",
       "      <td>0.012146</td>\n",
       "      <td>(0.0, 0.0291]</td>\n",
       "    </tr>\n",
       "    <tr>\n",
       "      <th>7</th>\n",
       "      <td>0</td>\n",
       "      <td>0.011882</td>\n",
       "      <td>(0.0, 0.0291]</td>\n",
       "    </tr>\n",
       "    <tr>\n",
       "      <th>8</th>\n",
       "      <td>0</td>\n",
       "      <td>0.011877</td>\n",
       "      <td>(0.0, 0.0291]</td>\n",
       "    </tr>\n",
       "    <tr>\n",
       "      <th>9</th>\n",
       "      <td>0</td>\n",
       "      <td>0.010885</td>\n",
       "      <td>(0.0, 0.0291]</td>\n",
       "    </tr>\n",
       "  </tbody>\n",
       "</table>\n",
       "</div>"
      ],
      "text/plain": [
       "   has_damage  slope_geo_delta_0.0003 ELEVATION_SLOPE_BINNED\n",
       "0           0                0.012744          (0.0, 0.0291]\n",
       "1           0                0.012622          (0.0, 0.0291]\n",
       "2           0                0.012429          (0.0, 0.0291]\n",
       "3           0                0.012475          (0.0, 0.0291]\n",
       "4           0                0.012572          (0.0, 0.0291]\n",
       "5           0                0.012694          (0.0, 0.0291]\n",
       "6           0                0.012146          (0.0, 0.0291]\n",
       "7           0                0.011882          (0.0, 0.0291]\n",
       "8           0                0.011877          (0.0, 0.0291]\n",
       "9           0                0.010885          (0.0, 0.0291]"
      ]
     },
     "execution_count": 118,
     "metadata": {},
     "output_type": "execute_result"
    }
   ],
   "source": [
    "## Binning based on elevation\n",
    "\n",
    "elevation_slope_data = data[['has_damage', 'slope_geo_delta_0.0003']]\n",
    "\n",
    "# Bin the age data\n",
    "elevation_slope_data['ELEVATION_SLOPE_BINNED'] = pd.cut(elevation_slope_data['slope_geo_delta_0.0003'], bins = np.linspace(0,4.067290e-01, num = 15))\n",
    "elevation_slope_data.head(10)"
   ]
  },
  {
   "cell_type": "code",
   "execution_count": 119,
   "id": "aeea5509",
   "metadata": {},
   "outputs": [
    {
     "data": {
      "text/html": [
       "<div>\n",
       "<style scoped>\n",
       "    .dataframe tbody tr th:only-of-type {\n",
       "        vertical-align: middle;\n",
       "    }\n",
       "\n",
       "    .dataframe tbody tr th {\n",
       "        vertical-align: top;\n",
       "    }\n",
       "\n",
       "    .dataframe thead th {\n",
       "        text-align: right;\n",
       "    }\n",
       "</style>\n",
       "<table border=\"1\" class=\"dataframe\">\n",
       "  <thead>\n",
       "    <tr style=\"text-align: right;\">\n",
       "      <th></th>\n",
       "      <th>has_damage</th>\n",
       "      <th>elevation_height</th>\n",
       "    </tr>\n",
       "    <tr>\n",
       "      <th>ELEVATION_BINNED</th>\n",
       "      <th></th>\n",
       "      <th></th>\n",
       "    </tr>\n",
       "  </thead>\n",
       "  <tbody>\n",
       "    <tr>\n",
       "      <th>(-5224.0, -4721.429]</th>\n",
       "      <td>0.003434</td>\n",
       "      <td>-4934.977335</td>\n",
       "    </tr>\n",
       "    <tr>\n",
       "      <th>(-4721.429, -4218.857]</th>\n",
       "      <td>0.000000</td>\n",
       "      <td>-4620.750000</td>\n",
       "    </tr>\n",
       "    <tr>\n",
       "      <th>(-4218.857, -3716.286]</th>\n",
       "      <td>NaN</td>\n",
       "      <td>NaN</td>\n",
       "    </tr>\n",
       "    <tr>\n",
       "      <th>(-3716.286, -3213.714]</th>\n",
       "      <td>0.000000</td>\n",
       "      <td>-3682.500000</td>\n",
       "    </tr>\n",
       "    <tr>\n",
       "      <th>(-3213.714, -2711.143]</th>\n",
       "      <td>0.000000</td>\n",
       "      <td>-3041.000000</td>\n",
       "    </tr>\n",
       "    <tr>\n",
       "      <th>(-2711.143, -2208.571]</th>\n",
       "      <td>0.000000</td>\n",
       "      <td>-2535.666667</td>\n",
       "    </tr>\n",
       "    <tr>\n",
       "      <th>(-2208.571, -1706.0]</th>\n",
       "      <td>0.000000</td>\n",
       "      <td>-1754.000000</td>\n",
       "    </tr>\n",
       "    <tr>\n",
       "      <th>(-1706.0, -1203.429]</th>\n",
       "      <td>0.000000</td>\n",
       "      <td>-1413.000000</td>\n",
       "    </tr>\n",
       "    <tr>\n",
       "      <th>(-1203.429, -700.857]</th>\n",
       "      <td>0.000000</td>\n",
       "      <td>-811.000000</td>\n",
       "    </tr>\n",
       "    <tr>\n",
       "      <th>(-700.857, -198.286]</th>\n",
       "      <td>0.000000</td>\n",
       "      <td>-370.600000</td>\n",
       "    </tr>\n",
       "    <tr>\n",
       "      <th>(-198.286, 304.286]</th>\n",
       "      <td>0.002160</td>\n",
       "      <td>242.221890</td>\n",
       "    </tr>\n",
       "    <tr>\n",
       "      <th>(304.286, 806.857]</th>\n",
       "      <td>0.002166</td>\n",
       "      <td>339.841902</td>\n",
       "    </tr>\n",
       "    <tr>\n",
       "      <th>(806.857, 1309.429]</th>\n",
       "      <td>0.000000</td>\n",
       "      <td>953.200000</td>\n",
       "    </tr>\n",
       "    <tr>\n",
       "      <th>(1309.429, 1812.0]</th>\n",
       "      <td>0.083333</td>\n",
       "      <td>1547.416667</td>\n",
       "    </tr>\n",
       "  </tbody>\n",
       "</table>\n",
       "</div>"
      ],
      "text/plain": [
       "                        has_damage  elevation_height\n",
       "ELEVATION_BINNED                                    \n",
       "(-5224.0, -4721.429]      0.003434      -4934.977335\n",
       "(-4721.429, -4218.857]    0.000000      -4620.750000\n",
       "(-4218.857, -3716.286]         NaN               NaN\n",
       "(-3716.286, -3213.714]    0.000000      -3682.500000\n",
       "(-3213.714, -2711.143]    0.000000      -3041.000000\n",
       "(-2711.143, -2208.571]    0.000000      -2535.666667\n",
       "(-2208.571, -1706.0]      0.000000      -1754.000000\n",
       "(-1706.0, -1203.429]      0.000000      -1413.000000\n",
       "(-1203.429, -700.857]     0.000000       -811.000000\n",
       "(-700.857, -198.286]      0.000000       -370.600000\n",
       "(-198.286, 304.286]       0.002160        242.221890\n",
       "(304.286, 806.857]        0.002166        339.841902\n",
       "(806.857, 1309.429]       0.000000        953.200000\n",
       "(1309.429, 1812.0]        0.083333       1547.416667"
      ]
     },
     "execution_count": 119,
     "metadata": {},
     "output_type": "execute_result"
    }
   ],
   "source": [
    "# Group by the bin and calculate averages\n",
    "elevation_slope_group = elevation_slope_data.groupby('ELEVATION_SLOPE_BINNED').mean()\n",
    "elevation_group"
   ]
  },
  {
   "cell_type": "code",
   "execution_count": 120,
   "id": "a3a7c56e",
   "metadata": {},
   "outputs": [
    {
     "data": {
      "image/png": "[encoded data removed]",
      "text/plain": [
       "<Figure size 576x576 with 1 Axes>"
      ]
     },
     "metadata": {},
     "output_type": "display_data"
    }
   ],
   "source": [
    "plt.figure(figsize = (8, 8))\n",
    "\n",
    "# Graph the age bins and the average of the target as a bar plot\n",
    "plt.bar(elevation_slope_group.index.astype(str), 100 * elevation_slope_group['has_damage'])\n",
    "\n",
    "# Plot labeling\n",
    "plt.xticks(rotation = 75); plt.xlabel('Eelevation Slope Group'); plt.ylabel('Has damage (%)')\n",
    "plt.title('Damage based on elevation slope');"
   ]
  },
  {
   "cell_type": "code",
   "execution_count": 109,
   "id": "d49396a0",
   "metadata": {},
   "outputs": [
    {
     "data": {
      "text/plain": [
       "14"
      ]
     },
     "execution_count": 109,
     "metadata": {},
     "output_type": "execute_result"
    }
   ],
   "source": [
    "elevation_slope_one_hot = pd.get_dummies(elevation_slope_data['ELEVATION_SLOPE_BINNED'])\n",
    "elevation_slope_one_hot_columns = elevation_slope_one_hot.columns\n",
    "len(elevation_slope_one_hot_columns)"
   ]
  },
  {
   "cell_type": "code",
   "execution_count": 145,
   "id": "132483dc",
   "metadata": {},
   "outputs": [],
   "source": [
    "elevation_slope_one_hot.columns =['elevation_slope_range0','elevation_slope_range1','elevation_slope_range2','elevation_slope_range3'\n",
    "                                   ,'elevation_slope_range4','elevation_slope_range5','elevation_slope_range6',\n",
    "                                  'elevation_slope_range7','elevation_slope_range8','elevation_slope_range9',\n",
    "                                  'elevation_slope_range10','elevation_slope_range11','elevation_slope_range12',\n",
    "                                  'elevation_slope_range13'\n",
    "                                 ]"
   ]
  },
  {
   "cell_type": "code",
   "execution_count": 146,
   "id": "aff6b5be",
   "metadata": {},
   "outputs": [
    {
     "data": {
      "text/plain": [
       "(3441356, 100)"
      ]
     },
     "execution_count": 146,
     "metadata": {},
     "output_type": "execute_result"
    }
   ],
   "source": [
    "for col in elevation_slope_one_hot.columns:\n",
    "    data_final[col] = elevation_slope_one_hot[col]\n",
    "data_final.shape"
   ]
  },
  {
   "cell_type": "code",
   "execution_count": 151,
   "id": "0adce4fa",
   "metadata": {},
   "outputs": [
    {
     "data": {
      "text/plain": [
       "Index(['work_type_0', 'work_type_1', 'work_type_2', 'work_type_3',\n",
       "       'work_type_4', 'work_type_5', 'work_type_6', 'work_type_7',\n",
       "       'work_type_8', 'work_type_9', 'work_type_10', 'work_type_11',\n",
       "       'work_type_12', 'work_type_13', 'work_type_14', 'work_type_15',\n",
       "       'work_type_16', 'work_type_17', 'work_type_18', 'work_type_19',\n",
       "       'work_type_20', 'work_type_21', 'work_type_22', 'work_type_23',\n",
       "       'work_type_24', 'work_type_25', 'work_type_26', 'work_type_27',\n",
       "       'work_type_28', 'work_type_29', 'work_type_30', 'work_type_31',\n",
       "       'work_type_32', 'work_type_33', 'work_type_34', 'work_type_35',\n",
       "       'work_type_36', 'work_type_37', 'work_type_38', 'work_type_39',\n",
       "       'work_type_40', 'work_type_41', 'work_type_42', 'work_type_43',\n",
       "       'work_type_44', 'work_type_45', 'work_type_46', 'work_type_47',\n",
       "       'work_type_48', 'work_type_49', 'work_type_50', 'work_type_51',\n",
       "       'work_type_52', 'work_type_53', 'work_type_54', 'work_type_55',\n",
       "       'work_type_56', 'work_type_57', 'work_type_58', 'work_type_59',\n",
       "       'work_type_60', 'work_type_61', 'work_type_62', 'work_type_63',\n",
       "       'work_type_64', 'work_type_65', 'work_type_66', 'ticket_datetime',\n",
       "       'elevation_height', 'slope_geo_delta_0.0003', 'is_large_project',\n",
       "       'has_damage', 'elevation_angle', 'elevation_height_range0',\n",
       "       'elevation_height_range1', 'elevation_height_range2',\n",
       "       'elevation_height_range3', 'elevation_height_range4',\n",
       "       'elevation_height_range5', 'elevation_height_range6',\n",
       "       'elevation_height_range7', 'elevation_height_range8',\n",
       "       'elevation_height_range9', 'elevation_height_range10',\n",
       "       'elevation_height_range11', 'elevation_height_range12',\n",
       "       'elevation_slope_range0', 'elevation_slope_range1',\n",
       "       'elevation_slope_range2', 'elevation_slope_range3',\n",
       "       'elevation_slope_range4', 'elevation_slope_range5',\n",
       "       'elevation_slope_range6', 'elevation_slope_range7',\n",
       "       'elevation_slope_range8', 'elevation_slope_range9',\n",
       "       'elevation_slope_range10', 'elevation_slope_range11',\n",
       "       'elevation_slope_range12', 'elevation_slope_range13'],\n",
       "      dtype='object')"
      ]
     },
     "execution_count": 151,
     "metadata": {},
     "output_type": "execute_result"
    }
   ],
   "source": [
    "data_final.columns"
   ]
  },
  {
   "cell_type": "code",
   "execution_count": 153,
   "id": "d51512fd",
   "metadata": {},
   "outputs": [],
   "source": [
    "data_final = data_final[[ 'work_type_0', 'work_type_1', 'work_type_2', 'work_type_3',\n",
    "       'work_type_4', 'work_type_5', 'work_type_6', 'work_type_7',\n",
    "       'work_type_8', 'work_type_9', 'work_type_10', 'work_type_11',\n",
    "       'work_type_12', 'work_type_13', 'work_type_14', 'work_type_15',\n",
    "       'work_type_16', 'work_type_17', 'work_type_18', 'work_type_19',\n",
    "       'work_type_20', 'work_type_21', 'work_type_22', 'work_type_23',\n",
    "       'work_type_24', 'work_type_25', 'work_type_26', 'work_type_27',\n",
    "       'work_type_28', 'work_type_29', 'work_type_30', 'work_type_31',\n",
    "       'work_type_32', 'work_type_33', 'work_type_34', 'work_type_35',\n",
    "       'work_type_36', 'work_type_37', 'work_type_38', 'work_type_39',\n",
    "       'work_type_40', 'work_type_41', 'work_type_42', 'work_type_43',\n",
    "       'work_type_44', 'work_type_45', 'work_type_46', 'work_type_47',\n",
    "       'work_type_48', 'work_type_49', 'work_type_50', 'work_type_51',\n",
    "       'work_type_52', 'work_type_53', 'work_type_54', 'work_type_55',\n",
    "       'work_type_56', 'work_type_57', 'work_type_58', 'work_type_59',\n",
    "       'work_type_60', 'work_type_61', 'work_type_62', 'work_type_63',\n",
    "       'work_type_64', 'work_type_65', 'work_type_66',\n",
    "       'elevation_height', 'slope_geo_delta_0.0003',  'elevation_height_range0',\n",
    "       'elevation_height_range1', 'elevation_height_range2',\n",
    "       'elevation_height_range3', 'elevation_height_range4',\n",
    "       'elevation_height_range5', 'elevation_height_range6',\n",
    "       'elevation_height_range7', 'elevation_height_range8',\n",
    "       'elevation_height_range9', 'elevation_height_range10',\n",
    "       'elevation_height_range11', 'elevation_height_range12',\n",
    "       'elevation_slope_range0', 'elevation_slope_range1',\n",
    "       'elevation_slope_range2', 'elevation_slope_range3',\n",
    "       'elevation_slope_range4', 'elevation_slope_range5',\n",
    "       'elevation_slope_range6', 'elevation_slope_range7',\n",
    "       'elevation_slope_range8', 'elevation_slope_range9',\n",
    "       'elevation_slope_range10', 'elevation_slope_range11',\n",
    "       'elevation_slope_range12', 'elevation_slope_range13','is_large_project',\n",
    "       'has_damage']]"
   ]
  },
  {
   "cell_type": "code",
   "execution_count": 154,
   "id": "9749bc36",
   "metadata": {},
   "outputs": [
    {
     "name": "stdout",
     "output_type": "stream",
     "text": [
      "Most Positive Correlations:\n",
      " work_type_16                0.002632\n",
      "work_type_25                0.002635\n",
      "work_type_51                0.002802\n",
      "elevation_height_range12    0.003263\n",
      "work_type_23                0.003270\n",
      "work_type_41                0.004100\n",
      "work_type_9                 0.004542\n",
      "work_type_10                0.005801\n",
      "work_type_8                 0.011105\n",
      "work_type_56                0.012731\n",
      "work_type_12                0.013272\n",
      "work_type_55                0.027471\n",
      "is_large_project            0.027604\n",
      "work_type_66                0.034194\n",
      "has_damage                  1.000000\n",
      "Name: has_damage, dtype: float64\n",
      "\n",
      "Most Negative Correlations:\n",
      " work_type_6        -0.015570\n",
      "work_type_64       -0.013425\n",
      "work_type_54       -0.008034\n",
      "work_type_22       -0.006876\n",
      "work_type_61       -0.006708\n",
      "work_type_58       -0.006327\n",
      "work_type_57       -0.005917\n",
      "work_type_34       -0.005653\n",
      "work_type_42       -0.005138\n",
      "work_type_45       -0.004114\n",
      "elevation_height   -0.003025\n",
      "work_type_18       -0.002943\n",
      "work_type_0        -0.001883\n",
      "work_type_47       -0.001721\n",
      "work_type_48       -0.001623\n",
      "Name: has_damage, dtype: float64\n"
     ]
    }
   ],
   "source": [
    "# running Correlation again\n",
    "correlations = data_final.corr()['has_damage'].sort_values()\n",
    "\n",
    "# Display correlations\n",
    "print('Most Positive Correlations:\\n', correlations.tail(15))\n",
    "print('\\nMost Negative Correlations:\\n', correlations.head(15))\n"
   ]
  },
  {
   "cell_type": "code",
   "execution_count": 122,
   "id": "b8a1d6d6",
   "metadata": {},
   "outputs": [
    {
     "data": {
      "text/html": [
       "<div>\n",
       "<style scoped>\n",
       "    .dataframe tbody tr th:only-of-type {\n",
       "        vertical-align: middle;\n",
       "    }\n",
       "\n",
       "    .dataframe tbody tr th {\n",
       "        vertical-align: top;\n",
       "    }\n",
       "\n",
       "    .dataframe thead th {\n",
       "        text-align: right;\n",
       "    }\n",
       "</style>\n",
       "<table border=\"1\" class=\"dataframe\">\n",
       "  <thead>\n",
       "    <tr style=\"text-align: right;\">\n",
       "      <th></th>\n",
       "      <th>has_damage</th>\n",
       "      <th>work_type_6</th>\n",
       "      <th>work_type_64</th>\n",
       "      <th>work_type_66</th>\n",
       "      <th>slope_geo_delta_0.0003</th>\n",
       "      <th>elevation_height</th>\n",
       "    </tr>\n",
       "  </thead>\n",
       "  <tbody>\n",
       "    <tr>\n",
       "      <th>has_damage</th>\n",
       "      <td>1.000000</td>\n",
       "      <td>-0.015570</td>\n",
       "      <td>-0.013425</td>\n",
       "      <td>0.034194</td>\n",
       "      <td>-0.001291</td>\n",
       "      <td>-0.003025</td>\n",
       "    </tr>\n",
       "    <tr>\n",
       "      <th>work_type_6</th>\n",
       "      <td>-0.015570</td>\n",
       "      <td>1.000000</td>\n",
       "      <td>-0.212592</td>\n",
       "      <td>-0.120118</td>\n",
       "      <td>0.004022</td>\n",
       "      <td>0.022165</td>\n",
       "    </tr>\n",
       "    <tr>\n",
       "      <th>work_type_64</th>\n",
       "      <td>-0.013425</td>\n",
       "      <td>-0.212592</td>\n",
       "      <td>1.000000</td>\n",
       "      <td>-0.143431</td>\n",
       "      <td>-0.000362</td>\n",
       "      <td>-0.009966</td>\n",
       "    </tr>\n",
       "    <tr>\n",
       "      <th>work_type_66</th>\n",
       "      <td>0.034194</td>\n",
       "      <td>-0.120118</td>\n",
       "      <td>-0.143431</td>\n",
       "      <td>1.000000</td>\n",
       "      <td>-0.001155</td>\n",
       "      <td>-0.012711</td>\n",
       "    </tr>\n",
       "    <tr>\n",
       "      <th>slope_geo_delta_0.0003</th>\n",
       "      <td>-0.001291</td>\n",
       "      <td>0.004022</td>\n",
       "      <td>-0.000362</td>\n",
       "      <td>-0.001155</td>\n",
       "      <td>1.000000</td>\n",
       "      <td>0.003002</td>\n",
       "    </tr>\n",
       "    <tr>\n",
       "      <th>elevation_height</th>\n",
       "      <td>-0.003025</td>\n",
       "      <td>0.022165</td>\n",
       "      <td>-0.009966</td>\n",
       "      <td>-0.012711</td>\n",
       "      <td>0.003002</td>\n",
       "      <td>1.000000</td>\n",
       "    </tr>\n",
       "  </tbody>\n",
       "</table>\n",
       "</div>"
      ],
      "text/plain": [
       "                        has_damage  work_type_6  work_type_64  work_type_66  \\\n",
       "has_damage                1.000000    -0.015570     -0.013425      0.034194   \n",
       "work_type_6              -0.015570     1.000000     -0.212592     -0.120118   \n",
       "work_type_64             -0.013425    -0.212592      1.000000     -0.143431   \n",
       "work_type_66              0.034194    -0.120118     -0.143431      1.000000   \n",
       "slope_geo_delta_0.0003   -0.001291     0.004022     -0.000362     -0.001155   \n",
       "elevation_height         -0.003025     0.022165     -0.009966     -0.012711   \n",
       "\n",
       "                        slope_geo_delta_0.0003  elevation_height  \n",
       "has_damage                           -0.001291         -0.003025  \n",
       "work_type_6                           0.004022          0.022165  \n",
       "work_type_64                         -0.000362         -0.009966  \n",
       "work_type_66                         -0.001155         -0.012711  \n",
       "slope_geo_delta_0.0003                1.000000          0.003002  \n",
       "elevation_height                      0.003002          1.000000  "
      ]
     },
     "execution_count": 122,
     "metadata": {},
     "output_type": "execute_result"
    }
   ],
   "source": [
    "# still the same\n",
    "\n",
    "# Looking at columns that correlated\n",
    "data_sub = data[['has_damage','work_type_6', 'work_type_64','work_type_66','slope_geo_delta_0.0003','elevation_height']]\n",
    "data_sub_corr_data = data_sub.corr()\n",
    "data_sub_corr_data"
   ]
  },
  {
   "cell_type": "code",
   "execution_count": 123,
   "id": "acbff736",
   "metadata": {},
   "outputs": [
    {
     "data": {
      "image/png": "[encoded data removed]",
      "text/plain": [
       "<Figure size 576x432 with 2 Axes>"
      ]
     },
     "metadata": {},
     "output_type": "display_data"
    }
   ],
   "source": [
    "plt.figure(figsize = (8, 6))\n",
    "\n",
    "# Heatmap of correlations\n",
    "sns.heatmap(data_sub_corr_data, cmap = plt.cm.RdYlBu_r, vmin = -0.25, annot = True, vmax = 0.6)\n",
    "plt.title('Correlation Heatmap');"
   ]
  },
  {
   "cell_type": "markdown",
   "id": "2ce8cd43",
   "metadata": {},
   "source": [
    "# Model Building"
   ]
  },
  {
   "cell_type": "code",
   "execution_count": 158,
   "id": "b9389a76",
   "metadata": {},
   "outputs": [],
   "source": [
    "# baseline without feature engineering\n",
    "# split data into test and train \n",
    "from sklearn.model_selection import train_test_split\n",
    "org_train, org_test = train_test_split(data, test_size=0.3)"
   ]
  },
  {
   "cell_type": "code",
   "execution_count": 160,
   "id": "75726b47",
   "metadata": {},
   "outputs": [],
   "source": [
    "# remove date\n",
    "train_data = org_train[['work_type_0', 'work_type_1', 'work_type_2', 'work_type_3',\n",
    "       'work_type_4', 'work_type_5', 'work_type_6', 'work_type_7',\n",
    "       'work_type_8', 'work_type_9', 'work_type_10', 'work_type_11',\n",
    "       'work_type_12', 'work_type_13', 'work_type_14', 'work_type_15',\n",
    "       'work_type_16', 'work_type_17', 'work_type_18', 'work_type_19',\n",
    "       'work_type_20', 'work_type_21', 'work_type_22', 'work_type_23',\n",
    "       'work_type_24', 'work_type_25', 'work_type_26', 'work_type_27',\n",
    "       'work_type_28', 'work_type_29', 'work_type_30', 'work_type_31',\n",
    "       'work_type_32', 'work_type_33', 'work_type_34', 'work_type_35',\n",
    "       'work_type_36', 'work_type_37', 'work_type_38', 'work_type_39',\n",
    "       'work_type_40', 'work_type_41', 'work_type_42', 'work_type_43',\n",
    "       'work_type_44', 'work_type_45', 'work_type_46', 'work_type_47',\n",
    "       'work_type_48', 'work_type_49', 'work_type_50', 'work_type_51',\n",
    "       'work_type_52', 'work_type_53', 'work_type_54', 'work_type_55',\n",
    "       'work_type_56', 'work_type_57', 'work_type_58', 'work_type_59',\n",
    "       'work_type_60', 'work_type_61', 'work_type_62', 'work_type_63',\n",
    "       'work_type_64', 'work_type_65', 'work_type_66', 'elevation_height',\n",
    "       'slope_geo_delta_0.0003', 'is_large_project']]"
   ]
  },
  {
   "cell_type": "code",
   "execution_count": 161,
   "id": "15d7972a",
   "metadata": {},
   "outputs": [],
   "source": [
    "test_data = org_test[['work_type_0', 'work_type_1', 'work_type_2', 'work_type_3',\n",
    "       'work_type_4', 'work_type_5', 'work_type_6', 'work_type_7',\n",
    "       'work_type_8', 'work_type_9', 'work_type_10', 'work_type_11',\n",
    "       'work_type_12', 'work_type_13', 'work_type_14', 'work_type_15',\n",
    "       'work_type_16', 'work_type_17', 'work_type_18', 'work_type_19',\n",
    "       'work_type_20', 'work_type_21', 'work_type_22', 'work_type_23',\n",
    "       'work_type_24', 'work_type_25', 'work_type_26', 'work_type_27',\n",
    "       'work_type_28', 'work_type_29', 'work_type_30', 'work_type_31',\n",
    "       'work_type_32', 'work_type_33', 'work_type_34', 'work_type_35',\n",
    "       'work_type_36', 'work_type_37', 'work_type_38', 'work_type_39',\n",
    "       'work_type_40', 'work_type_41', 'work_type_42', 'work_type_43',\n",
    "       'work_type_44', 'work_type_45', 'work_type_46', 'work_type_47',\n",
    "       'work_type_48', 'work_type_49', 'work_type_50', 'work_type_51',\n",
    "       'work_type_52', 'work_type_53', 'work_type_54', 'work_type_55',\n",
    "       'work_type_56', 'work_type_57', 'work_type_58', 'work_type_59',\n",
    "       'work_type_60', 'work_type_61', 'work_type_62', 'work_type_63',\n",
    "       'work_type_64', 'work_type_65', 'work_type_66', 'elevation_height',\n",
    "       'slope_geo_delta_0.0003', 'is_large_project']]"
   ]
  },
  {
   "cell_type": "code",
   "execution_count": 163,
   "id": "8766540a",
   "metadata": {},
   "outputs": [
    {
     "name": "stdout",
     "output_type": "stream",
     "text": [
      "Training data shape:  (2408949, 70)\n",
      "Testing data shape:  (1032407, 70)\n"
     ]
    }
   ],
   "source": [
    "from sklearn.preprocessing import MinMaxScaler\n",
    "from sklearn.impute import SimpleImputer\n",
    "\n",
    "# Drop the has_damage from the training data\n",
    "if 'has_damage' in train_data:\n",
    "    train = train_data.drop(columns = ['has_damage'])\n",
    "else:\n",
    "    train = train_data.copy()\n",
    "    \n",
    "# Feature names\n",
    "features = list(train.columns)\n",
    "\n",
    "# Copy of the testing data\n",
    "test = test_data.copy()\n",
    "\n",
    "# Median imputation of missing values\n",
    "imputer = SimpleImputer(strategy = 'median')\n",
    "\n",
    "# Scale each feature to 0-1\n",
    "scaler = MinMaxScaler(feature_range = (0, 1))\n",
    "\n",
    "# Fit on the training data\n",
    "imputer.fit(train)\n",
    "\n",
    "# Transform both training and testing data\n",
    "train = imputer.transform(train)\n",
    "test = imputer.transform(test_data)\n",
    "\n",
    "# Repeat with the scaler\n",
    "scaler.fit(train)\n",
    "train = scaler.transform(train)\n",
    "test = scaler.transform(test)\n",
    "\n",
    "print('Training data shape: ', train.shape)\n",
    "print('Testing data shape: ', test.shape)"
   ]
  },
  {
   "cell_type": "code",
   "execution_count": 164,
   "id": "403b0217",
   "metadata": {},
   "outputs": [],
   "source": [
    "from sklearn.datasets import make_classification\n",
    "from sklearn.linear_model import LogisticRegression\n",
    "from sklearn.model_selection import train_test_split\n",
    "from sklearn.metrics import roc_curve\n",
    "from sklearn.metrics import roc_auc_score\n",
    "from matplotlib import pyplot"
   ]
  },
  {
   "cell_type": "code",
   "execution_count": 165,
   "id": "1efc8244",
   "metadata": {},
   "outputs": [],
   "source": [
    "train_labels = org_train['has_damage']\n",
    "test_labels = [row['has_damage'] for index,row in org_test[['has_damage']].iterrows()]"
   ]
  },
  {
   "cell_type": "code",
   "execution_count": 166,
   "id": "2d86508a",
   "metadata": {},
   "outputs": [],
   "source": [
    "test_labels = np.array(test_labels)"
   ]
  },
  {
   "cell_type": "code",
   "execution_count": 167,
   "id": "87c432a5",
   "metadata": {},
   "outputs": [
    {
     "data": {
      "text/plain": [
       "(1032407,)"
      ]
     },
     "execution_count": 167,
     "metadata": {},
     "output_type": "execute_result"
    }
   ],
   "source": [
    "test_labels.shape"
   ]
  },
  {
   "cell_type": "code",
   "execution_count": 200,
   "id": "f97a55cb",
   "metadata": {},
   "outputs": [],
   "source": [
    "from sklearn.linear_model import LogisticRegression\n",
    "from sklearn.datasets import make_classification\n",
    "from sklearn.linear_model import LogisticRegression\n",
    "from sklearn.model_selection import train_test_split\n",
    "from sklearn.metrics import precision_recall_curve\n",
    "from sklearn.metrics import f1_score\n",
    "from sklearn.metrics import auc\n",
    "from matplotlib import pyplot\n",
    "\n",
    "# Make the model with the specified regularization parameter\n",
    "log_reg = LogisticRegression(C = 0.0001)\n",
    "# Train on the training data\n",
    "log_reg.fit(train, train_labels)\n",
    "log_reg_pred = log_reg.predict_proba(test)[:, 1]"
   ]
  },
  {
   "cell_type": "code",
   "execution_count": 201,
   "id": "6b4fd946",
   "metadata": {},
   "outputs": [],
   "source": [
    "pred_labels = log_reg.predict(test)"
   ]
  },
  {
   "cell_type": "markdown",
   "id": "4702e603",
   "metadata": {},
   "source": [
    "### Evaluation\n",
    "Classifier Evaluation Metrics can be classified under below categories\n",
    "- Threshold\n",
    "- Ranking\n",
    "- Probability\n"
   ]
  },
  {
   "cell_type": "markdown",
   "id": "47351491",
   "metadata": {},
   "source": [
    "# Threshold Based Evaluation"
   ]
  },
  {
   "cell_type": "markdown",
   "id": "ddbb8f04",
   "metadata": {},
   "source": [
    "### Accuracy\n",
    "Below we can see a high accuracy (or low error) is achievable by a no skill model that only predicts the majority class.\n"
   ]
  },
  {
   "cell_type": "code",
   "execution_count": 174,
   "id": "b17a8ce5",
   "metadata": {},
   "outputs": [
    {
     "name": "stdout",
     "output_type": "stream",
     "text": [
      "0.9977925372454856\n"
     ]
    }
   ],
   "source": [
    "score = log_reg.score(test, test_labels)\n",
    "print(score)"
   ]
  },
  {
   "cell_type": "markdown",
   "id": "83837109",
   "metadata": {},
   "source": [
    "### Confusion Matrix "
   ]
  },
  {
   "cell_type": "code",
   "execution_count": 178,
   "id": "72fd7b69",
   "metadata": {},
   "outputs": [
    {
     "name": "stdout",
     "output_type": "stream",
     "text": [
      "Confusion matrix\n",
      "\n",
      " [[1030128       0]\n",
      " [   2279       0]]\n",
      "\n",
      "True Positives(TP) =  0\n",
      "\n",
      "True Negatives(TN) =  1030128\n",
      "\n",
      "False Positives(FP) =  2279\n",
      "\n",
      "False Negatives(FN) =  0\n"
     ]
    }
   ],
   "source": [
    "from sklearn.metrics import confusion_matrix\n",
    "cm = confusion_matrix(test_labels, pred_labels)\n",
    "print('Confusion matrix\\n\\n', cm)\n",
    "print('\\nTrue Positives(TP) = ', cm[1,1])\n",
    "print('\\nTrue Negatives(TN) = ', cm[0,0])\n",
    "print('\\nFalse Positives(FP) = ', cm[1,0])\n",
    "print('\\nFalse Negatives(FN) = ', cm[0,1])"
   ]
  },
  {
   "cell_type": "markdown",
   "id": "cd2a73ad",
   "metadata": {},
   "source": [
    "### Precision Recall F1 score"
   ]
  },
  {
   "cell_type": "markdown",
   "id": "9f555724",
   "metadata": {},
   "source": [
    "Precision summarizes the fraction of examples assigned the positive class that belong to the positive class\n",
    "\n",
    "TruePositive / (TruePositive + FalsePositive)\n",
    "\n",
    "Recall summarizes how well the positive class was predicted and is the same calculation as sensitivit\n",
    "\n",
    "TruePositive / (TruePositive + FalseNegative)"
   ]
  },
  {
   "cell_type": "code",
   "execution_count": 181,
   "id": "d0e0dd48",
   "metadata": {},
   "outputs": [
    {
     "name": "stdout",
     "output_type": "stream",
     "text": [
      "              precision    recall  f1-score   support\n",
      "\n",
      "           0       1.00      1.00      1.00   1030128\n",
      "           1       0.00      0.00      0.00      2279\n",
      "\n",
      "    accuracy                           1.00   1032407\n",
      "   macro avg       0.50      0.50      0.50   1032407\n",
      "weighted avg       1.00      1.00      1.00   1032407\n",
      "\n"
     ]
    }
   ],
   "source": [
    "from sklearn.metrics import classification_report\n",
    "print(classification_report(test_labels, pred_labels))"
   ]
  },
  {
   "cell_type": "markdown",
   "id": "1f856768",
   "metadata": {},
   "source": [
    "Using threshold based matric we can see precison,recall and F1 score provide a better estimate as Precision summarizes the fraction of examples assigned the positive class that belong to the positive class and Recall summarizes how well the positive class was predicted and is the same calculation as sensitivity.\n",
    "\n",
    "\n",
    "\n"
   ]
  },
  {
   "cell_type": "markdown",
   "id": "184284f0",
   "metadata": {},
   "source": [
    "#### It can be seen the model is classifying majority negative class without any damage"
   ]
  },
  {
   "cell_type": "code",
   "execution_count": 155,
   "id": "acd735ab",
   "metadata": {},
   "outputs": [],
   "source": [
    "# split data into test and train \n",
    "from sklearn.model_selection import train_test_split\n",
    "org_train, org_test = train_test_split(data_final, test_size=0.2)"
   ]
  },
  {
   "cell_type": "code",
   "execution_count": 156,
   "id": "083c7cb1",
   "metadata": {},
   "outputs": [],
   "source": [
    "train_data = org_train.copy()\n",
    "test_data = org_test.copy()"
   ]
  },
  {
   "cell_type": "markdown",
   "id": "426bc070",
   "metadata": {},
   "source": [
    "# Ranking Based Evaluation\n",
    "\n",
    "These metrics require that a classifier predicts a score or a probability of class membership."
   ]
  },
  {
   "cell_type": "markdown",
   "id": "70726c0e",
   "metadata": {},
   "source": [
    "### ROC AUC\n",
    "The area under the ROC curve can be calculated and provides a single score to summarize the plot that can be used to compare models.\n",
    "A no skill classifier will have a score of 0.5, whereas a perfect classifier will have a score of 1.0."
   ]
  },
  {
   "cell_type": "code",
   "execution_count": 202,
   "id": "ea2bc032",
   "metadata": {},
   "outputs": [
    {
     "name": "stdout",
     "output_type": "stream",
     "text": [
      "No Skill: ROC AUC=0.500\n",
      "Logistic: ROC AUC=0.761\n"
     ]
    }
   ],
   "source": [
    "log_reg_pred = log_reg.predict_proba(test)[:, 1]\n",
    "# generate a no skill prediction (majority class)\n",
    "ns_probs = [0 for _ in range(len(test))]\n",
    "ns_auc = roc_auc_score(test_labels, ns_probs)\n",
    "lr_auc = roc_auc_score(test_labels, log_reg_pred)\n",
    "print('No Skill: ROC AUC=%.3f' % (ns_auc))\n",
    "print('Logistic: ROC AUC=%.3f' % (lr_auc))"
   ]
  },
  {
   "cell_type": "code",
   "execution_count": 183,
   "id": "2cf4a11e",
   "metadata": {},
   "outputs": [
    {
     "name": "stdout",
     "output_type": "stream",
     "text": [
      "Logistic: f1=0.000 auc=0.008\n"
     ]
    }
   ],
   "source": [
    "from sklearn.datasets import make_classification\n",
    "from sklearn.metrics import precision_recall_curve\n",
    "from sklearn.metrics import f1_score\n",
    "from sklearn.metrics import auc\n",
    "from matplotlib import pyplot\n",
    "lr_precision, lr_recall, _ = precision_recall_curve(test_labels, log_reg_pred )\n",
    "lr_f1, lr_auc = f1_score(test_labels,y_pred), auc(lr_recall, lr_precision)\n",
    "print('Logistic: f1=%.3f auc=%.3f' % (lr_f1, lr_auc))"
   ]
  },
  {
   "cell_type": "markdown",
   "id": "a6472176",
   "metadata": {},
   "source": [
    "Here it can be seen the values are tiny  because of skewness in class. The False positive rate tends to stay at a small values due to the large numbers of negatives (i.e. making the denominator large)."
   ]
  },
  {
   "cell_type": "code",
   "execution_count": 185,
   "id": "0d99dcf6",
   "metadata": {},
   "outputs": [
    {
     "data": {
      "image/png": "[encoded data removed]",
      "text/plain": [
       "<Figure size 432x288 with 1 Axes>"
      ]
     },
     "metadata": {},
     "output_type": "display_data"
    }
   ],
   "source": [
    "import sklearn.model_selection as model_selection\n",
    "from sklearn.metrics import make_scorer, accuracy_score, precision_score, recall_score, f1_score\n",
    "no_skill = len(test[test==1])/len(test)\n",
    "pyplot.plot([0, 1], [no_skill, no_skill], linestyle='--', label='No Skill')\n",
    "pyplot.plot(lr_recall, lr_precision, marker='.', label='logistic regresssion')\n",
    "# axis labels\n",
    "pyplot.xlabel('Recall')\n",
    "pyplot.ylabel('Precision')\n",
    "# show the legend\n",
    "pyplot.legend()\n",
    "# show the plot\n",
    "pyplot.show()"
   ]
  },
  {
   "cell_type": "markdown",
   "id": "b5d341df",
   "metadata": {},
   "source": [
    "Here the model is performing  worse than low skill model"
   ]
  },
  {
   "cell_type": "markdown",
   "id": "66d96cf1",
   "metadata": {},
   "source": [
    "# Probability Based Evaluation"
   ]
  },
  {
   "cell_type": "markdown",
   "id": "c9373372",
   "metadata": {},
   "source": [
    "Probabilistic metrics are designed specifically to quantify the uncertainty in a classifier’s predictions. Where providing the right labels in that important. "
   ]
  },
  {
   "cell_type": "markdown",
   "id": "ef802ee0",
   "metadata": {},
   "source": [
    "### LogLoss \n",
    "Log Loss is the negative average of the log of corrected predicted probabilities for each example"
   ]
  },
  {
   "cell_type": "code",
   "execution_count": 188,
   "id": "13d118f0",
   "metadata": {},
   "outputs": [
    {
     "name": "stdout",
     "output_type": "stream",
     "text": [
      "0.07624306247826919\n"
     ]
    }
   ],
   "source": [
    "from sklearn.metrics import log_loss\n",
    "logloss = log_loss(test_labels, pred_labels)\n",
    "print(logloss)"
   ]
  },
  {
   "cell_type": "markdown",
   "id": "a50b8b7a",
   "metadata": {},
   "source": [
    "Even though the score is low it is not correctly classifying as majority class is negative"
   ]
  },
  {
   "cell_type": "markdown",
   "id": "4e1868df",
   "metadata": {},
   "source": [
    "### Brier score\n",
    "The Brier score is calculated as the mean squared error between the expected probabilities"
   ]
  },
  {
   "cell_type": "code",
   "execution_count": 189,
   "id": "3b6738db",
   "metadata": {},
   "outputs": [
    {
     "name": "stdout",
     "output_type": "stream",
     "text": [
      "0.0022074627545144504\n"
     ]
    }
   ],
   "source": [
    "from sklearn.metrics import brier_score_loss\n",
    "brierScore = brier_score_loss(test_labels, pred_labels)\n",
    "print(brierScore)"
   ]
  },
  {
   "cell_type": "markdown",
   "id": "fd31e905",
   "metadata": {},
   "source": [
    "We can Brie Score is close to Logloss value. Although popular for balanced classification problems, probability scoring methods are less widely used for classification problems with a skewed class distribution."
   ]
  },
  {
   "cell_type": "markdown",
   "id": "f53e3606",
   "metadata": {},
   "source": [
    "# Model Improvments"
   ]
  },
  {
   "cell_type": "markdown",
   "id": "93fef3db",
   "metadata": {},
   "source": [
    "###  Weighted logistic regression  for imbalanced class"
   ]
  },
  {
   "cell_type": "code",
   "execution_count": 276,
   "id": "939b4e06",
   "metadata": {},
   "outputs": [
    {
     "data": {
      "text/html": [
       "<div>\n",
       "<style scoped>\n",
       "    .dataframe tbody tr th:only-of-type {\n",
       "        vertical-align: middle;\n",
       "    }\n",
       "\n",
       "    .dataframe tbody tr th {\n",
       "        vertical-align: top;\n",
       "    }\n",
       "\n",
       "    .dataframe thead th {\n",
       "        text-align: right;\n",
       "    }\n",
       "</style>\n",
       "<table border=\"1\" class=\"dataframe\">\n",
       "  <thead>\n",
       "    <tr style=\"text-align: right;\">\n",
       "      <th></th>\n",
       "      <th>Unnamed: 0</th>\n",
       "      <th>work_type_0</th>\n",
       "      <th>work_type_1</th>\n",
       "      <th>work_type_2</th>\n",
       "      <th>work_type_3</th>\n",
       "      <th>work_type_4</th>\n",
       "      <th>work_type_5</th>\n",
       "      <th>work_type_6</th>\n",
       "      <th>work_type_7</th>\n",
       "      <th>work_type_8</th>\n",
       "      <th>...</th>\n",
       "      <th>work_type_62</th>\n",
       "      <th>work_type_63</th>\n",
       "      <th>work_type_64</th>\n",
       "      <th>work_type_65</th>\n",
       "      <th>work_type_66</th>\n",
       "      <th>ticket_datetime</th>\n",
       "      <th>elevation_height</th>\n",
       "      <th>slope_geo_delta_0.0003</th>\n",
       "      <th>is_large_project</th>\n",
       "      <th>elevation_angle</th>\n",
       "    </tr>\n",
       "    <tr>\n",
       "      <th>has_damage</th>\n",
       "      <th></th>\n",
       "      <th></th>\n",
       "      <th></th>\n",
       "      <th></th>\n",
       "      <th></th>\n",
       "      <th></th>\n",
       "      <th></th>\n",
       "      <th></th>\n",
       "      <th></th>\n",
       "      <th></th>\n",
       "      <th></th>\n",
       "      <th></th>\n",
       "      <th></th>\n",
       "      <th></th>\n",
       "      <th></th>\n",
       "      <th></th>\n",
       "      <th></th>\n",
       "      <th></th>\n",
       "      <th></th>\n",
       "      <th></th>\n",
       "      <th></th>\n",
       "    </tr>\n",
       "  </thead>\n",
       "  <tbody>\n",
       "    <tr>\n",
       "      <th>0</th>\n",
       "      <td>3433916</td>\n",
       "      <td>3433916</td>\n",
       "      <td>3433916</td>\n",
       "      <td>3433916</td>\n",
       "      <td>3433916</td>\n",
       "      <td>3433916</td>\n",
       "      <td>3433916</td>\n",
       "      <td>3433916</td>\n",
       "      <td>3433916</td>\n",
       "      <td>3433916</td>\n",
       "      <td>...</td>\n",
       "      <td>3433916</td>\n",
       "      <td>3433916</td>\n",
       "      <td>3433916</td>\n",
       "      <td>3433916</td>\n",
       "      <td>3433916</td>\n",
       "      <td>3433916</td>\n",
       "      <td>3433916</td>\n",
       "      <td>3433916</td>\n",
       "      <td>3433916</td>\n",
       "      <td>3433916</td>\n",
       "    </tr>\n",
       "    <tr>\n",
       "      <th>1</th>\n",
       "      <td>7440</td>\n",
       "      <td>7440</td>\n",
       "      <td>7440</td>\n",
       "      <td>7440</td>\n",
       "      <td>7440</td>\n",
       "      <td>7440</td>\n",
       "      <td>7440</td>\n",
       "      <td>7440</td>\n",
       "      <td>7440</td>\n",
       "      <td>7440</td>\n",
       "      <td>...</td>\n",
       "      <td>7440</td>\n",
       "      <td>7440</td>\n",
       "      <td>7440</td>\n",
       "      <td>7440</td>\n",
       "      <td>7440</td>\n",
       "      <td>7440</td>\n",
       "      <td>7440</td>\n",
       "      <td>7440</td>\n",
       "      <td>7440</td>\n",
       "      <td>7440</td>\n",
       "    </tr>\n",
       "  </tbody>\n",
       "</table>\n",
       "<p>2 rows × 73 columns</p>\n",
       "</div>"
      ],
      "text/plain": [
       "            Unnamed: 0  work_type_0  work_type_1  work_type_2  work_type_3  \\\n",
       "has_damage                                                                   \n",
       "0              3433916      3433916      3433916      3433916      3433916   \n",
       "1                 7440         7440         7440         7440         7440   \n",
       "\n",
       "            work_type_4  work_type_5  work_type_6  work_type_7  work_type_8  \\\n",
       "has_damage                                                                    \n",
       "0               3433916      3433916      3433916      3433916      3433916   \n",
       "1                  7440         7440         7440         7440         7440   \n",
       "\n",
       "            ...  work_type_62  work_type_63  work_type_64  work_type_65  \\\n",
       "has_damage  ...                                                           \n",
       "0           ...       3433916       3433916       3433916       3433916   \n",
       "1           ...          7440          7440          7440          7440   \n",
       "\n",
       "            work_type_66  ticket_datetime  elevation_height  \\\n",
       "has_damage                                                    \n",
       "0                3433916          3433916           3433916   \n",
       "1                   7440             7440              7440   \n",
       "\n",
       "            slope_geo_delta_0.0003  is_large_project  elevation_angle  \n",
       "has_damage                                                             \n",
       "0                          3433916           3433916          3433916  \n",
       "1                             7440              7440             7440  \n",
       "\n",
       "[2 rows x 73 columns]"
      ]
     },
     "execution_count": 276,
     "metadata": {},
     "output_type": "execute_result"
    }
   ],
   "source": [
    "data.groupby(['has_damage']).count()"
   ]
  },
  {
   "cell_type": "code",
   "execution_count": 192,
   "id": "a27a1997",
   "metadata": {},
   "outputs": [
    {
     "data": {
      "text/plain": [
       "0.002161938491687579"
      ]
     },
     "execution_count": 192,
     "metadata": {},
     "output_type": "execute_result"
    }
   ],
   "source": [
    "# ratio between positive and negative class\n",
    "w = 7440/(7440+3433916)\n",
    "w"
   ]
  },
  {
   "cell_type": "code",
   "execution_count": 193,
   "id": "1953fc2e",
   "metadata": {},
   "outputs": [],
   "source": [
    "# higher weight to minority class and lower weight to majority clss\n",
    "weights = {0:0.002, 1:10.0}"
   ]
  },
  {
   "cell_type": "code",
   "execution_count": 203,
   "id": "4ecfe938",
   "metadata": {},
   "outputs": [],
   "source": [
    "# Make the model with the specified regularization parameter\n",
    "\n",
    "log_reg = LogisticRegression(C = 0.0001,class_weight=weights)\n",
    "# Train on the training data\n",
    "log_reg.fit(train, train_labels)\n",
    "log_reg_pred = log_reg.predict_proba(test)[:, 1]"
   ]
  },
  {
   "cell_type": "code",
   "execution_count": 204,
   "id": "b6a15a1d",
   "metadata": {},
   "outputs": [
    {
     "name": "stdout",
     "output_type": "stream",
     "text": [
      "No Skill: ROC AUC=0.500\n",
      "Logistic: ROC AUC=0.762\n"
     ]
    }
   ],
   "source": [
    "log_reg_pred = log_reg.predict_proba(test)[:, 1]\n",
    "# generate a no skill prediction (majority class)\n",
    "ns_probs = [0 for _ in range(len(test))]\n",
    "ns_auc = roc_auc_score(test_labels, ns_probs)\n",
    "lr_auc = roc_auc_score(test_labels, log_reg_pred)\n",
    "print('No Skill: ROC AUC=%.3f' % (ns_auc))\n",
    "print('Logistic: ROC AUC=%.3f' % (lr_auc))"
   ]
  },
  {
   "cell_type": "code",
   "execution_count": 205,
   "id": "54e662f6",
   "metadata": {},
   "outputs": [
    {
     "name": "stdout",
     "output_type": "stream",
     "text": [
      "Logistic: f1=0.000 auc=0.008\n"
     ]
    }
   ],
   "source": [
    "lr_precision, lr_recall, _ = precision_recall_curve(test_labels, log_reg_pred )\n",
    "lr_f1, lr_auc = f1_score(test_labels,y_pred), auc(lr_recall, lr_precision)\n",
    "print('Logistic: f1=%.3f auc=%.3f' % (lr_f1, lr_auc))"
   ]
  },
  {
   "cell_type": "markdown",
   "id": "481862e3",
   "metadata": {},
   "source": [
    "We do not see  any difference model score with adding weights"
   ]
  },
  {
   "cell_type": "markdown",
   "id": "3eb0e095",
   "metadata": {},
   "source": [
    "## Using cross validation"
   ]
  },
  {
   "cell_type": "code",
   "execution_count": 375,
   "id": "0d7598b9",
   "metadata": {},
   "outputs": [],
   "source": [
    "train_train = data[['work_type_0', 'work_type_1', 'work_type_2',\n",
    "       'work_type_3', 'work_type_4', 'work_type_5', 'work_type_6',\n",
    "       'work_type_7', 'work_type_8', 'work_type_9', 'work_type_10',\n",
    "       'work_type_11', 'work_type_12', 'work_type_13', 'work_type_14',\n",
    "       'work_type_15', 'work_type_16', 'work_type_17', 'work_type_18',\n",
    "       'work_type_19', 'work_type_20', 'work_type_21', 'work_type_22',\n",
    "       'work_type_23', 'work_type_24', 'work_type_25', 'work_type_26',\n",
    "       'work_type_27', 'work_type_28', 'work_type_29', 'work_type_30',\n",
    "       'work_type_31', 'work_type_32', 'work_type_33', 'work_type_34',\n",
    "       'work_type_35', 'work_type_36', 'work_type_37', 'work_type_38',\n",
    "       'work_type_39', 'work_type_40', 'work_type_41', 'work_type_42',\n",
    "       'work_type_43', 'work_type_44', 'work_type_45', 'work_type_46',\n",
    "       'work_type_47', 'work_type_48', 'work_type_49', 'work_type_50',\n",
    "       'work_type_51', 'work_type_52', 'work_type_53', 'work_type_54',\n",
    "       'work_type_55', 'work_type_56', 'work_type_57', 'work_type_58',\n",
    "       'work_type_59', 'work_type_60', 'work_type_61', 'work_type_62',\n",
    "       'work_type_63', 'work_type_64', 'work_type_65', 'work_type_66',\n",
    "        'elevation_height', 'slope_geo_delta_0.0003',\n",
    "       'is_large_project', 'has_damage']].copy()"
   ]
  },
  {
   "cell_type": "code",
   "execution_count": 376,
   "id": "3cfcb7bf",
   "metadata": {},
   "outputs": [],
   "source": [
    "y = [row['has_damage'] for index,row in train_train[['has_damage']].iterrows()]\n",
    "y = np.array(y)"
   ]
  },
  {
   "cell_type": "code",
   "execution_count": 377,
   "id": "4694bc2e",
   "metadata": {},
   "outputs": [
    {
     "name": "stdout",
     "output_type": "stream",
     "text": [
      "data shape:  (3441356, 70)\n"
     ]
    }
   ],
   "source": [
    "from sklearn.preprocessing import MinMaxScaler\n",
    "\n",
    "\n",
    "# Drop the has_damage from the training data\n",
    "if 'has_damage' in train_train:\n",
    "    X = train_train.drop(columns = ['has_damage'])\n",
    "else:\n",
    "    X = train_train.copy()\n",
    "    \n",
    "# Feature names\n",
    "features = list(X.columns)\n",
    "\n",
    "\n",
    "\n",
    "# Median imputation of missing values\n",
    "imputer = SimpleImputer(strategy = 'median')\n",
    "\n",
    "# Scale each feature to 0-1\n",
    "scaler = MinMaxScaler(feature_range = (0, 1))\n",
    "\n",
    "# Fit on the training data\n",
    "imputer.fit(X)\n",
    "\n",
    "# Transform both training and testing data\n",
    "train = imputer.transform(X)\n",
    "\n",
    "\n",
    "# Repeat with the scaler\n",
    "scaler.fit(X)\n",
    "X = scaler.transform(X)\n",
    "\n",
    "\n",
    "print('data shape: ', X.shape)\n"
   ]
  },
  {
   "cell_type": "code",
   "execution_count": 220,
   "id": "5c94e0f9",
   "metadata": {},
   "outputs": [],
   "source": [
    "from numpy import mean\n",
    "from sklearn.datasets import make_classification\n",
    "from sklearn.model_selection import cross_val_score\n",
    "from sklearn.model_selection import RepeatedStratifiedKFold\n",
    "import sklearn.model_selection as model_selection\n",
    "from sklearn.metrics import make_scorer, accuracy_score, precision_score, recall_score, f1_score,roc_auc_score\n",
    "\n",
    "\n",
    "model =  LogisticRegression(solver='lbfgs',C = 0.0001,class_weight=weights)\n",
    "scoring = {'accuracy' : make_scorer(accuracy_score), \n",
    "           'precision' : make_scorer(precision_score),\n",
    "           'recall' : make_scorer(recall_score), \n",
    "           'f1_score' : make_scorer(f1_score),\n",
    "            'roc_auc'  : make_scorer(roc_auc_score),\n",
    "           }\n",
    "results = model_selection.cross_validate(estimator=model,\n",
    "                                          X=X,\n",
    "                                          y=y,\n",
    "                                          cv=5,\n",
    "                                          scoring=scoring)"
   ]
  },
  {
   "cell_type": "code",
   "execution_count": 224,
   "id": "f3cf468b",
   "metadata": {},
   "outputs": [
    {
     "name": "stdout",
     "output_type": "stream",
     "text": [
      "Mean Accuracy: 0.002\n",
      "Mean Precision: 0.002\n",
      "Mean Recall: 1.000\n",
      "Mean F1 score : 0.004\n",
      "Mean ROC_AUC: 0.500\n"
     ]
    }
   ],
   "source": [
    "print('Mean Accuracy: %.3f' % mean(results['test_accuracy']))\n",
    "print('Mean Precision: %.3f' % mean(results['test_precision']))\n",
    "print('Mean Recall: %.3f' % mean(results['test_recall']))\n",
    "print('Mean F1 score : %.3f' % mean(results['test_f1_score']))\n",
    "print('Mean ROC_AUC: %.3f' % mean(results['test_roc_auc']))\n"
   ]
  },
  {
   "cell_type": "code",
   "execution_count": 222,
   "id": "28910c9c",
   "metadata": {},
   "outputs": [
    {
     "data": {
      "text/plain": [
       "{'fit_time': array([8.70874715, 7.67734599, 7.5088203 , 7.94550586, 7.03832889]),\n",
       " 'score_time': array([1.06750512, 0.92636919, 0.9481988 , 1.44485402, 0.986444  ]),\n",
       " 'test_accuracy': array([0.00216194, 0.00216194, 0.00216194, 0.00216194, 0.00216194]),\n",
       " 'test_precision': array([0.00216194, 0.00216194, 0.00216194, 0.00216194, 0.00216194]),\n",
       " 'test_recall': array([1., 1., 1., 1., 1.]),\n",
       " 'test_f1_score': array([0.00431454, 0.00431455, 0.00431455, 0.00431455, 0.00431455]),\n",
       " 'test_roc_auc': array([0.5, 0.5, 0.5, 0.5, 0.5])}"
      ]
     },
     "execution_count": 222,
     "metadata": {},
     "output_type": "execute_result"
    }
   ],
   "source": [
    "results"
   ]
  },
  {
   "cell_type": "markdown",
   "id": "2bcae873",
   "metadata": {},
   "source": [
    "# Using a better model\n",
    "The gradient boosting machine using the LightGBM library! The Gradient Boosting Machine. This ML algorithm better handels skewed datasets"
   ]
  },
  {
   "cell_type": "code",
   "execution_count": 378,
   "id": "82004589",
   "metadata": {},
   "outputs": [],
   "source": [
    "from sklearn.model_selection import train_test_split\n",
    "X_train, X_test, y_train, y_test = train_test_split(X, y, test_size = 0.3, random_state = 0)"
   ]
  },
  {
   "cell_type": "code",
   "execution_count": 226,
   "id": "5f4658c0",
   "metadata": {},
   "outputs": [
    {
     "data": {
      "text/plain": [
       "LGBMClassifier()"
      ]
     },
     "execution_count": 226,
     "metadata": {},
     "output_type": "execute_result"
    }
   ],
   "source": [
    "import lightgbm as lgb\n",
    "clf = lgb.LGBMClassifier()\n",
    "clf.fit(X_train, y_train)"
   ]
  },
  {
   "cell_type": "code",
   "execution_count": 229,
   "id": "21a62bed",
   "metadata": {},
   "outputs": [],
   "source": [
    "# predict the results\n",
    "y_pred=clf.predict(X_test)"
   ]
  },
  {
   "cell_type": "code",
   "execution_count": 230,
   "id": "5ecbfacd",
   "metadata": {},
   "outputs": [
    {
     "name": "stdout",
     "output_type": "stream",
     "text": [
      "LightGBM Model accuracy score: 0.9976\n"
     ]
    }
   ],
   "source": [
    "# view accuracy\n",
    "from sklearn.metrics import accuracy_score\n",
    "accuracy=accuracy_score(y_pred, y_test)\n",
    "print('LightGBM Model accuracy score: {0:0.4f}'.format(accuracy_score(y_test, y_pred)))"
   ]
  },
  {
   "cell_type": "code",
   "execution_count": 231,
   "id": "04371c55",
   "metadata": {},
   "outputs": [
    {
     "name": "stdout",
     "output_type": "stream",
     "text": [
      "Training set score: 0.9977\n",
      "Test set score: 0.9976\n"
     ]
    }
   ],
   "source": [
    "print('Training set score: {:.4f}'.format(clf.score(X_train, y_train)))\n",
    "print('Test set score: {:.4f}'.format(clf.score(X_test, y_test)))"
   ]
  },
  {
   "cell_type": "code",
   "execution_count": 235,
   "id": "2ac9af7a",
   "metadata": {},
   "outputs": [
    {
     "name": "stdout",
     "output_type": "stream",
     "text": [
      "Logistic: f1=0.000 auc=0.010\n"
     ]
    }
   ],
   "source": [
    "from numpy import mean\n",
    "from sklearn.datasets import make_classification\n",
    "from sklearn.linear_model import LogisticRegression\n",
    "from sklearn.model_selection import train_test_split\n",
    "from sklearn.metrics import precision_recall_curve\n",
    "from sklearn.metrics import f1_score\n",
    "from sklearn.metrics import auc\n",
    "from matplotlib import pyplot\n",
    "y_prob=clf.predict_proba(X_test)\n",
    "y_prob = y_prob[:,1]\n",
    "y_pred=clf.predict(X_test)\n",
    "precision, recall, _ = precision_recall_curve(y_test, y_prob)\n",
    "f1, auc = f1_score(y_test, y_pred), auc(recall, precision)\n",
    "print('Logistic: f1=%.3f auc=%.3f' % (f1, auc))"
   ]
  },
  {
   "cell_type": "code",
   "execution_count": 379,
   "id": "5f796da7",
   "metadata": {},
   "outputs": [
    {
     "data": {
      "text/plain": [
       "(2408949, 70)"
      ]
     },
     "execution_count": 379,
     "metadata": {},
     "output_type": "execute_result"
    }
   ],
   "source": [
    "X_train.shape"
   ]
  },
  {
   "cell_type": "code",
   "execution_count": 380,
   "id": "3266ab94",
   "metadata": {},
   "outputs": [
    {
     "data": {
      "text/plain": [
       "(2408949,)"
      ]
     },
     "execution_count": 380,
     "metadata": {},
     "output_type": "execute_result"
    }
   ],
   "source": [
    "y_train.shape"
   ]
  },
  {
   "cell_type": "code",
   "execution_count": 381,
   "id": "13f78c56",
   "metadata": {},
   "outputs": [
    {
     "data": {
      "text/plain": [
       "(1032407, 70)"
      ]
     },
     "execution_count": 381,
     "metadata": {},
     "output_type": "execute_result"
    }
   ],
   "source": [
    "X_test.shape"
   ]
  },
  {
   "cell_type": "code",
   "execution_count": 383,
   "id": "1456ec14",
   "metadata": {},
   "outputs": [
    {
     "data": {
      "text/plain": [
       "LGBMClassifier(learning_rate=0.05, n_estimators=1000, objective='binary',\n",
       "               random_state=50, reg_alpha=0.1, reg_lambda=0.1, subsample=0.5)"
      ]
     },
     "execution_count": 383,
     "metadata": {},
     "output_type": "execute_result"
    }
   ],
   "source": [
    "# Better parameter\n",
    "import lightgbm as lgb\n",
    "clf = lgb.LGBMClassifier(n_estimators=1000, objective = 'binary'\n",
    "                                 , learning_rate = 0.05, \n",
    "                                   reg_alpha = 0.1, reg_lambda = 0.1, \n",
    "                                   subsample = 0.5, n_jobs = -1, random_state = 50)\n",
    "clf.fit(X_train, y_train)"
   ]
  },
  {
   "cell_type": "code",
   "execution_count": 385,
   "id": "41e8fed4",
   "metadata": {},
   "outputs": [
    {
     "name": "stdout",
     "output_type": "stream",
     "text": [
      "Logistic: f1=0.001 auc=0.012\n"
     ]
    }
   ],
   "source": [
    "from numpy import mean\n",
    "from sklearn.datasets import make_classification\n",
    "from sklearn.linear_model import LogisticRegression\n",
    "from sklearn.model_selection import train_test_split\n",
    "from sklearn.metrics import precision_recall_curve\n",
    "from sklearn.metrics import f1_score\n",
    "from sklearn.metrics import auc\n",
    "from matplotlib import pyplot\n",
    "y_prob=clf.predict_proba(X_test)\n",
    "y_prob = y_prob[:,1]\n",
    "y_pred=clf.predict(X_test)\n",
    "precision, recall, _ = precision_recall_curve(y_test, y_prob)\n",
    "f1, auc = f1_score(y_test, y_pred), auc(recall, precision)\n",
    "print('Logistic: f1=%.3f auc=%.3f' % (f1, auc))"
   ]
  },
  {
   "cell_type": "code",
   "execution_count": 295,
   "id": "749e62fb",
   "metadata": {},
   "outputs": [],
   "source": [
    "from sklearn.model_selection import train_test_split\n",
    "org_train, org_test = train_test_split(data, test_size=0.3)"
   ]
  },
  {
   "cell_type": "code",
   "execution_count": null,
   "id": "9200b32d",
   "metadata": {},
   "outputs": [],
   "source": []
  },
  {
   "cell_type": "markdown",
   "id": "ad7af8e3",
   "metadata": {},
   "source": [
    "# Using New Features and UP Sampling"
   ]
  },
  {
   "cell_type": "code",
   "execution_count": 332,
   "id": "94ebf690",
   "metadata": {},
   "outputs": [
    {
     "name": "stdout",
     "output_type": "stream",
     "text": [
      "0    3433916\n",
      "1    3433916\n",
      "Name: has_damage, dtype: int64\n"
     ]
    }
   ],
   "source": [
    "from sklearn.utils import resample,shuffle\n",
    "df_majority = data.loc[data['has_damage'] == 0].copy()\n",
    "df_minority = data.loc[data['has_damage'] == 1].copy()\n",
    "# Upsample minority class\n",
    "df_minority_upsampled = resample(df_minority,\n",
    "                             replace=True,  # sample with replacement\n",
    "                             n_samples=3433916,  # to match majority class\n",
    "                             random_state=123)  # reproducible results\n",
    "\n",
    "df_upsampled = pd.concat([df_majority, df_minority_upsampled])\n",
    "# Display new class counts\n",
    "print(df_upsampled.has_damage.value_counts())"
   ]
  },
  {
   "cell_type": "code",
   "execution_count": 333,
   "id": "2294c889",
   "metadata": {},
   "outputs": [],
   "source": [
    "df_upsampled = df_upsampled[['work_type_0', 'work_type_1', 'work_type_2',\n",
    "       'work_type_3', 'work_type_4', 'work_type_5', 'work_type_6',\n",
    "       'work_type_7', 'work_type_8', 'work_type_9', 'work_type_10',\n",
    "       'work_type_11', 'work_type_12', 'work_type_13', 'work_type_14',\n",
    "       'work_type_15', 'work_type_16', 'work_type_17', 'work_type_18',\n",
    "       'work_type_19', 'work_type_20', 'work_type_21', 'work_type_22',\n",
    "       'work_type_23', 'work_type_24', 'work_type_25', 'work_type_26',\n",
    "       'work_type_27', 'work_type_28', 'work_type_29', 'work_type_30',\n",
    "       'work_type_31', 'work_type_32', 'work_type_33', 'work_type_34',\n",
    "       'work_type_35', 'work_type_36', 'work_type_37', 'work_type_38',\n",
    "       'work_type_39', 'work_type_40', 'work_type_41', 'work_type_42',\n",
    "       'work_type_43', 'work_type_44', 'work_type_45', 'work_type_46',\n",
    "       'work_type_47', 'work_type_48', 'work_type_49', 'work_type_50',\n",
    "       'work_type_51', 'work_type_52', 'work_type_53', 'work_type_54',\n",
    "       'work_type_55', 'work_type_56', 'work_type_57', 'work_type_58',\n",
    "       'work_type_59', 'work_type_60', 'work_type_61', 'work_type_62',\n",
    "       'work_type_63', 'work_type_64', 'work_type_65', 'work_type_66','elevation_height', 'slope_geo_delta_0.0003',\n",
    "       'is_large_project', 'has_damage']]"
   ]
  },
  {
   "cell_type": "code",
   "execution_count": 334,
   "id": "94235c05",
   "metadata": {},
   "outputs": [],
   "source": [
    "y = [row['has_damage'] for index,row in df_upsampled[['has_damage']].iterrows()]\n",
    "y = np.array(y)"
   ]
  },
  {
   "cell_type": "code",
   "execution_count": 335,
   "id": "14e3a001",
   "metadata": {},
   "outputs": [
    {
     "data": {
      "text/plain": [
       "(6867832,)"
      ]
     },
     "execution_count": 335,
     "metadata": {},
     "output_type": "execute_result"
    }
   ],
   "source": [
    "y.shape"
   ]
  },
  {
   "cell_type": "code",
   "execution_count": 337,
   "id": "1c4507f9",
   "metadata": {},
   "outputs": [
    {
     "data": {
      "text/plain": [
       "(6867832, 71)"
      ]
     },
     "execution_count": 337,
     "metadata": {},
     "output_type": "execute_result"
    }
   ],
   "source": [
    "df_upsampled.shape"
   ]
  },
  {
   "cell_type": "code",
   "execution_count": 338,
   "id": "0bd8905f",
   "metadata": {},
   "outputs": [
    {
     "data": {
      "text/html": [
       "<div>\n",
       "<style scoped>\n",
       "    .dataframe tbody tr th:only-of-type {\n",
       "        vertical-align: middle;\n",
       "    }\n",
       "\n",
       "    .dataframe tbody tr th {\n",
       "        vertical-align: top;\n",
       "    }\n",
       "\n",
       "    .dataframe thead th {\n",
       "        text-align: right;\n",
       "    }\n",
       "</style>\n",
       "<table border=\"1\" class=\"dataframe\">\n",
       "  <thead>\n",
       "    <tr style=\"text-align: right;\">\n",
       "      <th></th>\n",
       "      <th>work_type_0</th>\n",
       "      <th>work_type_1</th>\n",
       "      <th>work_type_2</th>\n",
       "      <th>work_type_3</th>\n",
       "      <th>work_type_4</th>\n",
       "      <th>work_type_5</th>\n",
       "      <th>work_type_6</th>\n",
       "      <th>work_type_7</th>\n",
       "      <th>work_type_8</th>\n",
       "      <th>work_type_9</th>\n",
       "      <th>...</th>\n",
       "      <th>work_type_61</th>\n",
       "      <th>work_type_62</th>\n",
       "      <th>work_type_63</th>\n",
       "      <th>work_type_64</th>\n",
       "      <th>work_type_65</th>\n",
       "      <th>work_type_66</th>\n",
       "      <th>elevation_height</th>\n",
       "      <th>slope_geo_delta_0.0003</th>\n",
       "      <th>is_large_project</th>\n",
       "      <th>has_damage</th>\n",
       "    </tr>\n",
       "  </thead>\n",
       "  <tbody>\n",
       "    <tr>\n",
       "      <th>0</th>\n",
       "      <td>0</td>\n",
       "      <td>0</td>\n",
       "      <td>0</td>\n",
       "      <td>0</td>\n",
       "      <td>0</td>\n",
       "      <td>0</td>\n",
       "      <td>0</td>\n",
       "      <td>0</td>\n",
       "      <td>0</td>\n",
       "      <td>0</td>\n",
       "      <td>...</td>\n",
       "      <td>0</td>\n",
       "      <td>0</td>\n",
       "      <td>0</td>\n",
       "      <td>0</td>\n",
       "      <td>0</td>\n",
       "      <td>0</td>\n",
       "      <td>264</td>\n",
       "      <td>0.012744</td>\n",
       "      <td>False</td>\n",
       "      <td>0</td>\n",
       "    </tr>\n",
       "    <tr>\n",
       "      <th>1</th>\n",
       "      <td>0</td>\n",
       "      <td>0</td>\n",
       "      <td>0</td>\n",
       "      <td>0</td>\n",
       "      <td>0</td>\n",
       "      <td>0</td>\n",
       "      <td>0</td>\n",
       "      <td>0</td>\n",
       "      <td>0</td>\n",
       "      <td>0</td>\n",
       "      <td>...</td>\n",
       "      <td>0</td>\n",
       "      <td>0</td>\n",
       "      <td>0</td>\n",
       "      <td>0</td>\n",
       "      <td>0</td>\n",
       "      <td>1</td>\n",
       "      <td>289</td>\n",
       "      <td>0.012622</td>\n",
       "      <td>False</td>\n",
       "      <td>0</td>\n",
       "    </tr>\n",
       "    <tr>\n",
       "      <th>2</th>\n",
       "      <td>0</td>\n",
       "      <td>0</td>\n",
       "      <td>0</td>\n",
       "      <td>0</td>\n",
       "      <td>0</td>\n",
       "      <td>0</td>\n",
       "      <td>0</td>\n",
       "      <td>0</td>\n",
       "      <td>0</td>\n",
       "      <td>0</td>\n",
       "      <td>...</td>\n",
       "      <td>1</td>\n",
       "      <td>0</td>\n",
       "      <td>0</td>\n",
       "      <td>0</td>\n",
       "      <td>0</td>\n",
       "      <td>0</td>\n",
       "      <td>292</td>\n",
       "      <td>0.012429</td>\n",
       "      <td>False</td>\n",
       "      <td>0</td>\n",
       "    </tr>\n",
       "    <tr>\n",
       "      <th>3</th>\n",
       "      <td>0</td>\n",
       "      <td>0</td>\n",
       "      <td>0</td>\n",
       "      <td>0</td>\n",
       "      <td>1</td>\n",
       "      <td>0</td>\n",
       "      <td>0</td>\n",
       "      <td>0</td>\n",
       "      <td>0</td>\n",
       "      <td>0</td>\n",
       "      <td>...</td>\n",
       "      <td>0</td>\n",
       "      <td>0</td>\n",
       "      <td>0</td>\n",
       "      <td>0</td>\n",
       "      <td>0</td>\n",
       "      <td>0</td>\n",
       "      <td>207</td>\n",
       "      <td>0.012475</td>\n",
       "      <td>False</td>\n",
       "      <td>0</td>\n",
       "    </tr>\n",
       "    <tr>\n",
       "      <th>4</th>\n",
       "      <td>0</td>\n",
       "      <td>0</td>\n",
       "      <td>0</td>\n",
       "      <td>0</td>\n",
       "      <td>0</td>\n",
       "      <td>0</td>\n",
       "      <td>0</td>\n",
       "      <td>0</td>\n",
       "      <td>0</td>\n",
       "      <td>0</td>\n",
       "      <td>...</td>\n",
       "      <td>0</td>\n",
       "      <td>0</td>\n",
       "      <td>0</td>\n",
       "      <td>0</td>\n",
       "      <td>0</td>\n",
       "      <td>0</td>\n",
       "      <td>248</td>\n",
       "      <td>0.012572</td>\n",
       "      <td>False</td>\n",
       "      <td>0</td>\n",
       "    </tr>\n",
       "  </tbody>\n",
       "</table>\n",
       "<p>5 rows × 71 columns</p>\n",
       "</div>"
      ],
      "text/plain": [
       "   work_type_0  work_type_1  work_type_2  work_type_3  work_type_4  \\\n",
       "0            0            0            0            0            0   \n",
       "1            0            0            0            0            0   \n",
       "2            0            0            0            0            0   \n",
       "3            0            0            0            0            1   \n",
       "4            0            0            0            0            0   \n",
       "\n",
       "   work_type_5  work_type_6  work_type_7  work_type_8  work_type_9  ...  \\\n",
       "0            0            0            0            0            0  ...   \n",
       "1            0            0            0            0            0  ...   \n",
       "2            0            0            0            0            0  ...   \n",
       "3            0            0            0            0            0  ...   \n",
       "4            0            0            0            0            0  ...   \n",
       "\n",
       "   work_type_61  work_type_62  work_type_63  work_type_64  work_type_65  \\\n",
       "0             0             0             0             0             0   \n",
       "1             0             0             0             0             0   \n",
       "2             1             0             0             0             0   \n",
       "3             0             0             0             0             0   \n",
       "4             0             0             0             0             0   \n",
       "\n",
       "   work_type_66  elevation_height  slope_geo_delta_0.0003  is_large_project  \\\n",
       "0             0               264                0.012744             False   \n",
       "1             1               289                0.012622             False   \n",
       "2             0               292                0.012429             False   \n",
       "3             0               207                0.012475             False   \n",
       "4             0               248                0.012572             False   \n",
       "\n",
       "   has_damage  \n",
       "0           0  \n",
       "1           0  \n",
       "2           0  \n",
       "3           0  \n",
       "4           0  \n",
       "\n",
       "[5 rows x 71 columns]"
      ]
     },
     "execution_count": 338,
     "metadata": {},
     "output_type": "execute_result"
    }
   ],
   "source": [
    "df_upsampled.head(5)"
   ]
  },
  {
   "cell_type": "code",
   "execution_count": 339,
   "id": "0f7bb9d3",
   "metadata": {},
   "outputs": [
    {
     "data": {
      "text/html": [
       "<div>\n",
       "<style scoped>\n",
       "    .dataframe tbody tr th:only-of-type {\n",
       "        vertical-align: middle;\n",
       "    }\n",
       "\n",
       "    .dataframe tbody tr th {\n",
       "        vertical-align: top;\n",
       "    }\n",
       "\n",
       "    .dataframe thead th {\n",
       "        text-align: right;\n",
       "    }\n",
       "</style>\n",
       "<table border=\"1\" class=\"dataframe\">\n",
       "  <thead>\n",
       "    <tr style=\"text-align: right;\">\n",
       "      <th></th>\n",
       "      <th>work_type_0</th>\n",
       "      <th>work_type_1</th>\n",
       "      <th>work_type_2</th>\n",
       "      <th>work_type_3</th>\n",
       "      <th>work_type_4</th>\n",
       "      <th>work_type_5</th>\n",
       "      <th>work_type_6</th>\n",
       "      <th>work_type_7</th>\n",
       "      <th>work_type_8</th>\n",
       "      <th>work_type_9</th>\n",
       "      <th>...</th>\n",
       "      <th>elevation_slope_range6</th>\n",
       "      <th>elevation_slope_range7</th>\n",
       "      <th>elevation_slope_range8</th>\n",
       "      <th>elevation_slope_range9</th>\n",
       "      <th>elevation_slope_range10</th>\n",
       "      <th>elevation_slope_range11</th>\n",
       "      <th>elevation_slope_range12</th>\n",
       "      <th>elevation_slope_range13</th>\n",
       "      <th>is_large_project</th>\n",
       "      <th>has_damage</th>\n",
       "    </tr>\n",
       "  </thead>\n",
       "  <tbody>\n",
       "    <tr>\n",
       "      <th>0</th>\n",
       "      <td>0</td>\n",
       "      <td>0</td>\n",
       "      <td>0</td>\n",
       "      <td>0</td>\n",
       "      <td>0</td>\n",
       "      <td>0</td>\n",
       "      <td>0</td>\n",
       "      <td>0</td>\n",
       "      <td>0</td>\n",
       "      <td>0</td>\n",
       "      <td>...</td>\n",
       "      <td>0</td>\n",
       "      <td>0</td>\n",
       "      <td>0</td>\n",
       "      <td>0</td>\n",
       "      <td>0</td>\n",
       "      <td>0</td>\n",
       "      <td>0</td>\n",
       "      <td>0</td>\n",
       "      <td>False</td>\n",
       "      <td>0</td>\n",
       "    </tr>\n",
       "    <tr>\n",
       "      <th>1</th>\n",
       "      <td>0</td>\n",
       "      <td>0</td>\n",
       "      <td>0</td>\n",
       "      <td>0</td>\n",
       "      <td>0</td>\n",
       "      <td>0</td>\n",
       "      <td>0</td>\n",
       "      <td>0</td>\n",
       "      <td>0</td>\n",
       "      <td>0</td>\n",
       "      <td>...</td>\n",
       "      <td>0</td>\n",
       "      <td>0</td>\n",
       "      <td>0</td>\n",
       "      <td>0</td>\n",
       "      <td>0</td>\n",
       "      <td>0</td>\n",
       "      <td>0</td>\n",
       "      <td>0</td>\n",
       "      <td>False</td>\n",
       "      <td>0</td>\n",
       "    </tr>\n",
       "    <tr>\n",
       "      <th>2</th>\n",
       "      <td>0</td>\n",
       "      <td>0</td>\n",
       "      <td>0</td>\n",
       "      <td>0</td>\n",
       "      <td>0</td>\n",
       "      <td>0</td>\n",
       "      <td>0</td>\n",
       "      <td>0</td>\n",
       "      <td>0</td>\n",
       "      <td>0</td>\n",
       "      <td>...</td>\n",
       "      <td>0</td>\n",
       "      <td>0</td>\n",
       "      <td>0</td>\n",
       "      <td>0</td>\n",
       "      <td>0</td>\n",
       "      <td>0</td>\n",
       "      <td>0</td>\n",
       "      <td>0</td>\n",
       "      <td>False</td>\n",
       "      <td>0</td>\n",
       "    </tr>\n",
       "    <tr>\n",
       "      <th>3</th>\n",
       "      <td>0</td>\n",
       "      <td>0</td>\n",
       "      <td>0</td>\n",
       "      <td>0</td>\n",
       "      <td>1</td>\n",
       "      <td>0</td>\n",
       "      <td>0</td>\n",
       "      <td>0</td>\n",
       "      <td>0</td>\n",
       "      <td>0</td>\n",
       "      <td>...</td>\n",
       "      <td>0</td>\n",
       "      <td>0</td>\n",
       "      <td>0</td>\n",
       "      <td>0</td>\n",
       "      <td>0</td>\n",
       "      <td>0</td>\n",
       "      <td>0</td>\n",
       "      <td>0</td>\n",
       "      <td>False</td>\n",
       "      <td>0</td>\n",
       "    </tr>\n",
       "    <tr>\n",
       "      <th>4</th>\n",
       "      <td>0</td>\n",
       "      <td>0</td>\n",
       "      <td>0</td>\n",
       "      <td>0</td>\n",
       "      <td>0</td>\n",
       "      <td>0</td>\n",
       "      <td>0</td>\n",
       "      <td>0</td>\n",
       "      <td>0</td>\n",
       "      <td>0</td>\n",
       "      <td>...</td>\n",
       "      <td>0</td>\n",
       "      <td>0</td>\n",
       "      <td>0</td>\n",
       "      <td>0</td>\n",
       "      <td>0</td>\n",
       "      <td>0</td>\n",
       "      <td>0</td>\n",
       "      <td>0</td>\n",
       "      <td>False</td>\n",
       "      <td>0</td>\n",
       "    </tr>\n",
       "  </tbody>\n",
       "</table>\n",
       "<p>5 rows × 98 columns</p>\n",
       "</div>"
      ],
      "text/plain": [
       "   work_type_0  work_type_1  work_type_2  work_type_3  work_type_4  \\\n",
       "0            0            0            0            0            0   \n",
       "1            0            0            0            0            0   \n",
       "2            0            0            0            0            0   \n",
       "3            0            0            0            0            1   \n",
       "4            0            0            0            0            0   \n",
       "\n",
       "   work_type_5  work_type_6  work_type_7  work_type_8  work_type_9  ...  \\\n",
       "0            0            0            0            0            0  ...   \n",
       "1            0            0            0            0            0  ...   \n",
       "2            0            0            0            0            0  ...   \n",
       "3            0            0            0            0            0  ...   \n",
       "4            0            0            0            0            0  ...   \n",
       "\n",
       "   elevation_slope_range6  elevation_slope_range7  elevation_slope_range8  \\\n",
       "0                       0                       0                       0   \n",
       "1                       0                       0                       0   \n",
       "2                       0                       0                       0   \n",
       "3                       0                       0                       0   \n",
       "4                       0                       0                       0   \n",
       "\n",
       "   elevation_slope_range9  elevation_slope_range10  elevation_slope_range11  \\\n",
       "0                       0                        0                        0   \n",
       "1                       0                        0                        0   \n",
       "2                       0                        0                        0   \n",
       "3                       0                        0                        0   \n",
       "4                       0                        0                        0   \n",
       "\n",
       "   elevation_slope_range12  elevation_slope_range13  is_large_project  \\\n",
       "0                        0                        0             False   \n",
       "1                        0                        0             False   \n",
       "2                        0                        0             False   \n",
       "3                        0                        0             False   \n",
       "4                        0                        0             False   \n",
       "\n",
       "   has_damage  \n",
       "0           0  \n",
       "1           0  \n",
       "2           0  \n",
       "3           0  \n",
       "4           0  \n",
       "\n",
       "[5 rows x 98 columns]"
      ]
     },
     "execution_count": 339,
     "metadata": {},
     "output_type": "execute_result"
    }
   ],
   "source": [
    "data_final.head(5)"
   ]
  },
  {
   "cell_type": "code",
   "execution_count": 340,
   "id": "c071a428",
   "metadata": {},
   "outputs": [
    {
     "name": "stdout",
     "output_type": "stream",
     "text": [
      "data shape:  (6867832, 70)\n"
     ]
    }
   ],
   "source": [
    "from sklearn.preprocessing import MinMaxScaler\n",
    "\n",
    "\n",
    "# Drop the has_damage from the training data\n",
    "if 'has_damage' in df_upsampled:\n",
    "    X = df_upsampled.drop(columns = ['has_damage'])\n",
    "else:\n",
    "    X = df_upsampled.copy()\n",
    "    \n",
    "# Feature names\n",
    "features = list(X.columns)\n",
    "\n",
    "\n",
    "\n",
    "# Median imputation of missing values\n",
    "imputer = SimpleImputer(strategy = 'median')\n",
    "\n",
    "# Scale each feature to 0-1\n",
    "scaler = MinMaxScaler(feature_range = (0, 1))\n",
    "\n",
    "# Fit on the training data\n",
    "imputer.fit(X)\n",
    "\n",
    "# Transform both training and testing data\n",
    "train = imputer.transform(X)\n",
    "\n",
    "\n",
    "# Repeat with the scaler\n",
    "scaler.fit(X)\n",
    "X = scaler.transform(X)\n",
    "\n",
    "\n",
    "print('data shape: ', X.shape)\n"
   ]
  },
  {
   "cell_type": "code",
   "execution_count": 364,
   "id": "e255bd99",
   "metadata": {},
   "outputs": [],
   "source": [
    "# split the dataset into the training set and test set\n",
    "from sklearn.model_selection import train_test_split\n",
    "X_train, X_test, y_train, y_test = train_test_split(X, y, test_size = 0.3, random_state = 0)"
   ]
  },
  {
   "cell_type": "code",
   "execution_count": 342,
   "id": "2aa0be51",
   "metadata": {},
   "outputs": [
    {
     "data": {
      "text/plain": [
       "LGBMClassifier()"
      ]
     },
     "execution_count": 342,
     "metadata": {},
     "output_type": "execute_result"
    }
   ],
   "source": [
    "import lightgbm as lgb\n",
    "clf = lgb.LGBMClassifier()\n",
    "clf.fit(X_train, y_train)"
   ]
  },
  {
   "cell_type": "code",
   "execution_count": 343,
   "id": "25cb545b",
   "metadata": {},
   "outputs": [
    {
     "name": "stdout",
     "output_type": "stream",
     "text": [
      "gbm: f1=0.749 auc=0.809\n"
     ]
    }
   ],
   "source": [
    "from sklearn.datasets import make_classification\n",
    "from sklearn.linear_model import LogisticRegression\n",
    "from sklearn.model_selection import train_test_split\n",
    "from sklearn.metrics import precision_recall_curve\n",
    "from sklearn.metrics import f1_score\n",
    "from sklearn.metrics import auc\n",
    "from matplotlib import pyplot\n",
    "y_prob=clf.predict_proba(X_test)\n",
    "y_prob = y_prob[:,1]\n",
    "y_pred=clf.predict(X_test)\n",
    "precision, recall, _ = precision_recall_curve(y_test, y_prob)\n",
    "f1, auc = f1_score(y_test, y_pred), auc(recall, precision)\n",
    "# summarize scores\n",
    "print('gbm: f1=%.3f auc=%.3f' % (f1, auc))"
   ]
  },
  {
   "cell_type": "code",
   "execution_count": 307,
   "id": "2f6d38af",
   "metadata": {},
   "outputs": [
    {
     "name": "stdout",
     "output_type": "stream",
     "text": [
      "gbm: f1=0.826 auc=0.862\n"
     ]
    }
   ],
   "source": [
    "from sklearn.datasets import make_classification\n",
    "from sklearn.linear_model import LogisticRegression\n",
    "from sklearn.model_selection import train_test_split\n",
    "from sklearn.metrics import precision_recall_curve\n",
    "from sklearn.metrics import f1_score\n",
    "from sklearn.metrics import auc\n",
    "from matplotlib import pyplot\n",
    "y_prob=clf.predict_proba(X_test)\n",
    "y_prob = y_prob[:,1]\n",
    "y_pred=clf.predict(X_test)\n",
    "precision, recall, _ = precision_recall_curve(y_test, y_prob)\n",
    "f1, auc = f1_score(y_test, y_pred), auc(recall, precision)\n",
    "# summarize scores\n",
    "print('gbm: f1=%.3f auc=%.3f' % (f1, auc))"
   ]
  },
  {
   "cell_type": "code",
   "execution_count": null,
   "id": "183cf9bc",
   "metadata": {},
   "outputs": [],
   "source": [
    "# improved parameters"
   ]
  },
  {
   "cell_type": "code",
   "execution_count": 350,
   "id": "0a5b63cf",
   "metadata": {},
   "outputs": [
    {
     "data": {
      "text/plain": [
       "LGBMClassifier(learning_rate=0.05, n_estimators=1000, objective='binary',\n",
       "               random_state=50, reg_alpha=0.1, reg_lambda=0.1, subsample=0.5)"
      ]
     },
     "execution_count": 350,
     "metadata": {},
     "output_type": "execute_result"
    }
   ],
   "source": [
    "import lightgbm as lgb\n",
    "clf = lgb.LGBMClassifier(n_estimators=1000, objective = 'binary'\n",
    "                                 , learning_rate = 0.05, \n",
    "                                   reg_alpha = 0.1, reg_lambda = 0.1, \n",
    "                                   subsample = 0.5, n_jobs = -1, random_state = 50)\n",
    "clf.fit(X_train, y_train)"
   ]
  },
  {
   "cell_type": "code",
   "execution_count": 369,
   "id": "5030c323",
   "metadata": {},
   "outputs": [
    {
     "data": {
      "text/plain": [
       "LGBMClassifier(learning_rate=0.05, n_estimators=10000, objective='binary',\n",
       "               random_state=50, reg_alpha=0.1, reg_lambda=0.1, subsample=0.5)"
      ]
     },
     "execution_count": 369,
     "metadata": {},
     "output_type": "execute_result"
    }
   ],
   "source": [
    "import lightgbm as lgb\n",
    "clf = lgb.LGBMClassifier(n_estimators=10000, objective = 'binary'\n",
    "                                 , learning_rate = 0.05, \n",
    "                                   reg_alpha = 0.1, reg_lambda = 0.1, \n",
    "                                   subsample = 0.5, n_jobs = -1, random_state = 50)\n",
    "clf.fit(X_train, y_train)"
   ]
  },
  {
   "cell_type": "code",
   "execution_count": 370,
   "id": "59c8f1d1",
   "metadata": {},
   "outputs": [
    {
     "name": "stdout",
     "output_type": "stream",
     "text": [
      "gbm: f1=0.967 auc=0.990\n"
     ]
    }
   ],
   "source": [
    "from sklearn.datasets import make_classification\n",
    "from sklearn.linear_model import LogisticRegression\n",
    "from sklearn.model_selection import train_test_split\n",
    "from sklearn.metrics import precision_recall_curve\n",
    "from sklearn.metrics import f1_score\n",
    "from sklearn.metrics import auc\n",
    "from matplotlib import pyplot\n",
    "y_prob=clf.predict_proba(X_test)\n",
    "y_prob = y_prob[:,1]\n",
    "y_pred=clf.predict(X_test)\n",
    "precision, recall, _ = precision_recall_curve(y_test, y_prob)\n",
    "f1, auc = f1_score(y_test, y_pred), auc(recall, precision)\n",
    "# summarize scores\n",
    "print('gbm: f1=%.3f auc=%.3f' % (f1, auc))"
   ]
  },
  {
   "cell_type": "code",
   "execution_count": null,
   "id": "59b8e2b4",
   "metadata": {},
   "outputs": [],
   "source": [
    "#Overll all examples\n",
    "from sklearn.datasets import make_classification\n",
    "from sklearn.linear_model import LogisticRegression\n",
    "from sklearn.model_selection import train_test_split\n",
    "from sklearn.metrics import precision_recall_curve\n",
    "from sklearn.metrics import f1_score\n",
    "from sklearn.metrics import auc\n",
    "from matplotlib import pyplot\n",
    "y_prob=clf.predict_proba(X)\n",
    "y_prob = y_prob[:,1]\n",
    "y_pred=clf.predict(X)\n"
   ]
  },
  {
   "cell_type": "code",
   "execution_count": 374,
   "id": "72e08949",
   "metadata": {},
   "outputs": [
    {
     "name": "stdout",
     "output_type": "stream",
     "text": [
      "gbm: f1=0.967 auc=0.991\n"
     ]
    }
   ],
   "source": [
    "precision, recall, _ = precision_recall_curve(y, y_prob)\n",
    "f1, auc = f1_score(y, y_pred), auc(recall, precision)\n",
    "# summarize scores\n",
    "print('gbm: f1=%.3f auc=%.3f' % (f1, auc))"
   ]
  },
  {
   "cell_type": "code",
   "execution_count": 366,
   "id": "c7ecf4f9",
   "metadata": {},
   "outputs": [
    {
     "name": "stdout",
     "output_type": "stream",
     "text": [
      "gbm: f1=0.893 auc=0.934\n"
     ]
    }
   ],
   "source": [
    "from sklearn.datasets import make_classification\n",
    "from sklearn.linear_model import LogisticRegression\n",
    "from sklearn.model_selection import train_test_split\n",
    "from sklearn.metrics import precision_recall_curve\n",
    "from sklearn.metrics import f1_score\n",
    "from sklearn.metrics import auc\n",
    "from matplotlib import pyplot\n",
    "y_prob=clf.predict_proba(X_test)\n",
    "y_prob = y_prob[:,1]\n",
    "y_pred=clf.predict(X_test)\n",
    "precision, recall, _ = precision_recall_curve(y_test, y_prob)\n",
    "f1, auc = f1_score(y_test, y_pred), auc(recall, precision)\n",
    "# summarize scores\n",
    "print('gbm: f1=%.3f auc=%.3f' % (f1, auc))"
   ]
  },
  {
   "cell_type": "code",
   "execution_count": 351,
   "id": "796b6ec9",
   "metadata": {},
   "outputs": [
    {
     "name": "stdout",
     "output_type": "stream",
     "text": [
      "gbm: f1=0.819 auc=0.861\n"
     ]
    }
   ],
   "source": [
    "from sklearn.datasets import make_classification\n",
    "from sklearn.linear_model import LogisticRegression\n",
    "from sklearn.model_selection import train_test_split\n",
    "from sklearn.metrics import precision_recall_curve\n",
    "from sklearn.metrics import f1_score\n",
    "from sklearn.metrics import auc\n",
    "from matplotlib import pyplot\n",
    "y_prob=clf.predict_proba(X_test)\n",
    "y_prob = y_prob[:,1]\n",
    "y_pred=clf.predict(X_test)\n",
    "precision, recall, _ = precision_recall_curve(y_test, y_prob)\n",
    "f1, auc = f1_score(y_test, y_pred), auc(recall, precision)\n",
    "# summarize scores\n",
    "print('gbm: f1=%.3f auc=%.3f' % (f1, auc))"
   ]
  },
  {
   "cell_type": "code",
   "execution_count": null,
   "id": "b767c548",
   "metadata": {},
   "outputs": [],
   "source": [
    "# Using PCA to reduce dimensions"
   ]
  },
  {
   "cell_type": "code",
   "execution_count": 353,
   "id": "16a913ba",
   "metadata": {},
   "outputs": [],
   "source": [
    "from sklearn.decomposition import PCA\n",
    "X_reduced = X\n",
    "pca = PCA(n_components=5)\n",
    "principalComponents = pca.fit_transform(X_reduced)\n"
   ]
  },
  {
   "cell_type": "code",
   "execution_count": 356,
   "id": "d4361609",
   "metadata": {},
   "outputs": [],
   "source": [
    "X_reduced = principalComponents\n",
    "y_reduced = y\n",
    "X_train, X_test, y_train, y_test = train_test_split(X_reduced, y_reduced, test_size = 0.3, random_state = 0)"
   ]
  },
  {
   "cell_type": "code",
   "execution_count": 362,
   "id": "e1ec3c04",
   "metadata": {},
   "outputs": [
    {
     "data": {
      "text/plain": [
       "LGBMClassifier(learning_rate=0.05, n_estimators=3000, objective='binary',\n",
       "               random_state=50, reg_alpha=0.1, reg_lambda=0.1, subsample=0.5)"
      ]
     },
     "execution_count": 362,
     "metadata": {},
     "output_type": "execute_result"
    }
   ],
   "source": [
    "import lightgbm as lgb\n",
    "clf = lgb.LGBMClassifier(n_estimators=3000, objective = 'binary'\n",
    "                                 , learning_rate = 0.05, \n",
    "                                   reg_alpha = 0.1, reg_lambda = 0.1, \n",
    "                                   subsample = 0.5, n_jobs = -1, random_state = 50)\n",
    "clf.fit(X_train, y_train)"
   ]
  },
  {
   "cell_type": "code",
   "execution_count": 363,
   "id": "9b198b34",
   "metadata": {},
   "outputs": [
    {
     "name": "stdout",
     "output_type": "stream",
     "text": [
      "gbm: f1=0.805 auc=0.864\n"
     ]
    }
   ],
   "source": [
    "from sklearn.datasets import make_classification\n",
    "from sklearn.linear_model import LogisticRegression\n",
    "from sklearn.model_selection import train_test_split\n",
    "from sklearn.metrics import precision_recall_curve\n",
    "from sklearn.metrics import f1_score\n",
    "from sklearn.metrics import auc\n",
    "from matplotlib import pyplot\n",
    "y_prob=clf.predict_proba(X_test)\n",
    "y_prob = y_prob[:,1]\n",
    "y_pred=clf.predict(X_test)\n",
    "precision, recall, _ = precision_recall_curve(y_test, y_prob)\n",
    "f1, auc = f1_score(y_test, y_pred), auc(recall, precision)\n",
    "# summarize scores\n",
    "print('gbm: f1=%.3f auc=%.3f' % (f1, auc))"
   ]
  },
  {
   "cell_type": "code",
   "execution_count": null,
   "id": "a0e41f37",
   "metadata": {},
   "outputs": [],
   "source": [
    "from sklearn.datasets import make_classification\n",
    "from sklearn.linear_model import LogisticRegression\n",
    "from sklearn.model_selection import train_test_split\n",
    "from sklearn.metrics import precision_recall_curve\n",
    "from sklearn.metrics import f1_score\n",
    "from sklearn.metrics import auc\n",
    "from matplotlib import pyplot\n",
    "y_prob=clf.predict_proba(X_test)\n",
    "y_prob = y_prob[:,1]\n",
    "y_pred=clf.predict(X_test)\n",
    "precision, recall, _ = precision_recall_curve(y_test, y_prob)\n",
    "f1, auc = f1_score(y_test, y_pred), auc(recall, precision)\n",
    "# summarize scores\n",
    "print('gbm: f1=%.3f auc=%.3f' % (f1, auc))"
   ]
  },
  {
   "cell_type": "code",
   "execution_count": 326,
   "id": "71c904e2",
   "metadata": {},
   "outputs": [
    {
     "name": "stdout",
     "output_type": "stream",
     "text": [
      "gbm: f1=0.864 auc=0.903\n"
     ]
    }
   ],
   "source": [
    "from sklearn.datasets import make_classification\n",
    "from sklearn.linear_model import LogisticRegression\n",
    "from sklearn.model_selection import train_test_split\n",
    "from sklearn.metrics import precision_recall_curve\n",
    "from sklearn.metrics import f1_score\n",
    "from sklearn.metrics import auc\n",
    "from matplotlib import pyplot\n",
    "y_prob=clf.predict_proba(X_test)\n",
    "y_prob = y_prob[:,1]\n",
    "y_pred=clf.predict(X_test)\n",
    "precision, recall, _ = precision_recall_curve(y_test, y_prob)\n",
    "f1, auc = f1_score(y_test, y_pred), auc(recall, precision)\n",
    "# summarize scores\n",
    "print('gbm: f1=%.3f auc=%.3f' % (f1, auc))"
   ]
  },
  {
   "cell_type": "code",
   "execution_count": null,
   "id": "0b48967a",
   "metadata": {},
   "outputs": [],
   "source": [
    "Tesing on hidden set"
   ]
  },
  {
   "cell_type": "code",
   "execution_count": 327,
   "id": "edde649b",
   "metadata": {},
   "outputs": [],
   "source": [
    "y_expected = [row['has_damage'] for index,row in org_test[['has_damage']].iterrows()]\n",
    "y_expected = np.array(y_expected)"
   ]
  },
  {
   "cell_type": "code",
   "execution_count": 329,
   "id": "6e284673",
   "metadata": {},
   "outputs": [],
   "source": [
    "X_expected =org_test[['work_type_0', 'work_type_1', 'work_type_2',\n",
    "       'work_type_3', 'work_type_4', 'work_type_5', 'work_type_6',\n",
    "       'work_type_7', 'work_type_8', 'work_type_9', 'work_type_10',\n",
    "       'work_type_11', 'work_type_12', 'work_type_13', 'work_type_14',\n",
    "       'work_type_15', 'work_type_16', 'work_type_17', 'work_type_18',\n",
    "       'work_type_19', 'work_type_20', 'work_type_21', 'work_type_22',\n",
    "       'work_type_23', 'work_type_24', 'work_type_25', 'work_type_26',\n",
    "       'work_type_27', 'work_type_28', 'work_type_29', 'work_type_30',\n",
    "       'work_type_31', 'work_type_32', 'work_type_33', 'work_type_34',\n",
    "       'work_type_35', 'work_type_36', 'work_type_37', 'work_type_38',\n",
    "       'work_type_39', 'work_type_40', 'work_type_41', 'work_type_42',\n",
    "       'work_type_43', 'work_type_44', 'work_type_45', 'work_type_46',\n",
    "       'work_type_47', 'work_type_48', 'work_type_49', 'work_type_50',\n",
    "       'work_type_51', 'work_type_52', 'work_type_53', 'work_type_54',\n",
    "       'work_type_55', 'work_type_56', 'work_type_57', 'work_type_58',\n",
    "       'work_type_59', 'work_type_60', 'work_type_61', 'work_type_62',\n",
    "       'work_type_63', 'work_type_64', 'work_type_65', 'work_type_66','elevation_height', 'slope_geo_delta_0.0003',\n",
    "       'is_large_project', 'has_damage']]"
   ]
  },
  {
   "cell_type": "code",
   "execution_count": 330,
   "id": "9deb684a",
   "metadata": {},
   "outputs": [
    {
     "name": "stdout",
     "output_type": "stream",
     "text": [
      "data shape:  (1032407, 70)\n"
     ]
    }
   ],
   "source": [
    "from sklearn.preprocessing import MinMaxScaler\n",
    "\n",
    "\n",
    "# Drop the has_damage from the training data\n",
    "if 'has_damage' in df_upsampled:\n",
    "    X_expected = X_expected.drop(columns = ['has_damage'])\n",
    "else:\n",
    "    X_expected = X_expected.copy()\n",
    "    \n",
    "# Feature names\n",
    "features = list(X_expected.columns)\n",
    "\n",
    "\n",
    "\n",
    "# Median imputation of missing values\n",
    "imputer = SimpleImputer(strategy = 'median')\n",
    "\n",
    "# Scale each feature to 0-1\n",
    "scaler = MinMaxScaler(feature_range = (0, 1))\n",
    "\n",
    "# Fit on the training data\n",
    "imputer.fit(X_expected)\n",
    "\n",
    "# Transform both training and testing data\n",
    "train = imputer.transform(X_expected)\n",
    "\n",
    "\n",
    "# Repeat with the scaler\n",
    "scaler.fit(X_expected)\n",
    "X_expected = scaler.transform(X_expected)\n",
    "\n",
    "\n",
    "print('data shape: ', X_expected.shape)"
   ]
  },
  {
   "cell_type": "code",
   "execution_count": 331,
   "id": "ee30f566",
   "metadata": {},
   "outputs": [
    {
     "name": "stdout",
     "output_type": "stream",
     "text": [
      "gbm: f1=0.010 auc=0.008\n"
     ]
    }
   ],
   "source": [
    "from sklearn.datasets import make_classification\n",
    "from sklearn.linear_model import LogisticRegression\n",
    "from sklearn.model_selection import train_test_split\n",
    "from sklearn.metrics import precision_recall_curve\n",
    "from sklearn.metrics import f1_score\n",
    "from sklearn.metrics import auc\n",
    "from matplotlib import pyplot\n",
    "y_prob=clf.predict_proba(X_expected)\n",
    "y_prob = y_prob[:,1]\n",
    "y_pred=clf.predict(X_expected)\n",
    "precision, recall, _ = precision_recall_curve(y_expected, y_prob)\n",
    "f1, auc = f1_score(y_expected, y_pred), auc(recall, precision)\n",
    "# summarize scores\n",
    "print('gbm: f1=%.3f auc=%.3f' % (f1, auc))"
   ]
  },
  {
   "cell_type": "markdown",
   "id": "d571a0fa",
   "metadata": {},
   "source": [
    "#### Over sampling minority group"
   ]
  },
  {
   "cell_type": "code",
   "execution_count": 238,
   "id": "df066aa3",
   "metadata": {},
   "outputs": [
    {
     "name": "stdout",
     "output_type": "stream",
     "text": [
      "0    3433916\n",
      "1    3433916\n",
      "Name: has_damage, dtype: int64\n"
     ]
    }
   ],
   "source": [
    "from sklearn.utils import resample,shuffle\n",
    "df_majority = data_final.loc[data_final['has_damage'] == 0].copy()\n",
    "df_minority = data_final.loc[data_final['has_damage'] == 1].copy()\n",
    "# Upsample minority class\n",
    "df_minority_upsampled = resample(df_minority,\n",
    "                             replace=True,  # sample with replacement\n",
    "                             n_samples=3433916,  # to match majority class\n",
    "                             random_state=123)  # reproducible results\n",
    "\n",
    "df_upsampled = pd.concat([df_majority, df_minority_upsampled])\n",
    "# Display new class counts\n",
    "print(df_upsampled.has_damage.value_counts())"
   ]
  },
  {
   "cell_type": "code",
   "execution_count": 280,
   "id": "82270aab",
   "metadata": {},
   "outputs": [
    {
     "data": {
      "text/plain": [
       "(6867832, 98)"
      ]
     },
     "execution_count": 280,
     "metadata": {},
     "output_type": "execute_result"
    }
   ],
   "source": [
    "df_upsampled.shape"
   ]
  },
  {
   "cell_type": "code",
   "execution_count": 240,
   "id": "cd01880b",
   "metadata": {},
   "outputs": [],
   "source": [
    "y = [row['has_damage'] for index,row in df_upsampled[['has_damage']].iterrows()]\n",
    "y = np.array(y)"
   ]
  },
  {
   "cell_type": "code",
   "execution_count": 278,
   "id": "6a0aaaa1",
   "metadata": {},
   "outputs": [
    {
     "name": "stdout",
     "output_type": "stream",
     "text": [
      "data shape:  (6867832, 97)\n"
     ]
    }
   ],
   "source": [
    "from sklearn.preprocessing import MinMaxScaler\n",
    "\n",
    "\n",
    "# Drop the has_damage from the training data\n",
    "if 'has_damage' in df_upsampled:\n",
    "    X = df_upsampled.drop(columns = ['has_damage'])\n",
    "else:\n",
    "    X = df_upsampled.copy()\n",
    "    \n",
    "# Feature names\n",
    "features = list(X.columns)\n",
    "\n",
    "\n",
    "\n",
    "# Median imputation of missing values\n",
    "imputer = SimpleImputer(strategy = 'median')\n",
    "\n",
    "# Scale each feature to 0-1\n",
    "scaler = MinMaxScaler(feature_range = (0, 1))\n",
    "\n",
    "# Fit on the training data\n",
    "imputer.fit(X)\n",
    "\n",
    "# Transform both training and testing data\n",
    "train = imputer.transform(X)\n",
    "\n",
    "\n",
    "# Repeat with the scaler\n",
    "scaler.fit(X)\n",
    "X = scaler.transform(X)\n",
    "\n",
    "\n",
    "print('data shape: ', X.shape)\n"
   ]
  },
  {
   "cell_type": "code",
   "execution_count": 243,
   "id": "adbd81a2",
   "metadata": {},
   "outputs": [],
   "source": [
    "from sklearn.model_selection import train_test_split\n",
    "X_train, X_test, y_train, y_test = train_test_split(X, y, test_size = 0.2, random_state = 0)"
   ]
  },
  {
   "cell_type": "code",
   "execution_count": 261,
   "id": "06653508",
   "metadata": {},
   "outputs": [
    {
     "data": {
      "text/plain": [
       "(1373567, 97)"
      ]
     },
     "execution_count": 261,
     "metadata": {},
     "output_type": "execute_result"
    }
   ],
   "source": [
    "X_test.shape"
   ]
  },
  {
   "cell_type": "code",
   "execution_count": 245,
   "id": "a593ecd0",
   "metadata": {},
   "outputs": [
    {
     "data": {
      "text/plain": [
       "LGBMClassifier(class_weight='balanced', learning_rate=0.05, n_estimators=10000,\n",
       "               objective='binary', random_state=50, reg_alpha=0.1,\n",
       "               reg_lambda=0.1, subsample=0.8)"
      ]
     },
     "execution_count": 245,
     "metadata": {},
     "output_type": "execute_result"
    }
   ],
   "source": [
    "import lightgbm as lgb\n",
    "clf = lgb.LGBMClassifier(n_estimators=10000, objective = 'binary', \n",
    "                                   class_weight = 'balanced', learning_rate = 0.05, \n",
    "                                   reg_alpha = 0.1, reg_lambda = 0.1, \n",
    "                                   subsample = 0.8, n_jobs = -1, random_state = 50)\n",
    "clf.fit(X_train, y_train)"
   ]
  },
  {
   "cell_type": "code",
   "execution_count": 275,
   "id": "430e7b95",
   "metadata": {},
   "outputs": [
    {
     "data": {
      "text/plain": [
       "{'fit_time': array([8.70874715, 7.67734599, 7.5088203 , 7.94550586, 7.03832889]),\n",
       " 'score_time': array([1.06750512, 0.92636919, 0.9481988 , 1.44485402, 0.986444  ]),\n",
       " 'test_accuracy': array([0.00216194, 0.00216194, 0.00216194, 0.00216194, 0.00216194]),\n",
       " 'test_precision': array([0.00216194, 0.00216194, 0.00216194, 0.00216194, 0.00216194]),\n",
       " 'test_recall': array([1., 1., 1., 1., 1.]),\n",
       " 'test_f1_score': array([0.00431454, 0.00431455, 0.00431455, 0.00431455, 0.00431455]),\n",
       " 'test_roc_auc': array([0.5, 0.5, 0.5, 0.5, 0.5])}"
      ]
     },
     "execution_count": 275,
     "metadata": {},
     "output_type": "execute_result"
    }
   ],
   "source": [
    "results"
   ]
  },
  {
   "cell_type": "code",
   "execution_count": 246,
   "id": "8a59f4e4",
   "metadata": {},
   "outputs": [],
   "source": [
    "# predict the results\n",
    "y_pred=clf.predict(X_test)"
   ]
  },
  {
   "cell_type": "code",
   "execution_count": 269,
   "id": "ed60b0b5",
   "metadata": {},
   "outputs": [],
   "source": [
    "y_pred_prob = clf.predict_proba(X_test)"
   ]
  },
  {
   "cell_type": "code",
   "execution_count": 271,
   "id": "c6ce48e8",
   "metadata": {},
   "outputs": [
    {
     "data": {
      "text/plain": [
       "(1373567, 2)"
      ]
     },
     "execution_count": 271,
     "metadata": {},
     "output_type": "execute_result"
    }
   ],
   "source": [
    "y_pred_prob.shape"
   ]
  },
  {
   "cell_type": "code",
   "execution_count": 251,
   "id": "d7cd6e96",
   "metadata": {},
   "outputs": [],
   "source": [
    "# predict the results\n",
    "y_pred_prob = clf.predict_proba(X_test)"
   ]
  },
  {
   "cell_type": "code",
   "execution_count": 252,
   "id": "a7e5008f",
   "metadata": {},
   "outputs": [
    {
     "data": {
      "text/plain": [
       "<AxesSubplot:>"
      ]
     },
     "execution_count": 252,
     "metadata": {},
     "output_type": "execute_result"
    },
    {
     "data": {
      "image/png": "[encoded data removed]",
      "text/plain": [
       "<Figure size 432x288 with 2 Axes>"
      ]
     },
     "metadata": {},
     "output_type": "display_data"
    }
   ],
   "source": [
    "# visualize confusion matrix with seaborn heatmap\n",
    "\n",
    "cm_matrix = pd.DataFrame(data=cm, columns=['Actual Positive:1', 'Actual Negative:0'], \n",
    "                                 index=['Predict Positive:1', 'Predict Negative:0'])\n",
    "\n",
    "sns.heatmap(cm_matrix, annot=True, fmt='d', cmap='YlGnBu')"
   ]
  },
  {
   "cell_type": "code",
   "execution_count": 253,
   "id": "63a090e9",
   "metadata": {},
   "outputs": [
    {
     "name": "stdout",
     "output_type": "stream",
     "text": [
      "              precision    recall  f1-score   support\n",
      "\n",
      "           0       1.00      0.93      0.96    685726\n",
      "           1       0.94      1.00      0.97    687841\n",
      "\n",
      "    accuracy                           0.97   1373567\n",
      "   macro avg       0.97      0.96      0.96   1373567\n",
      "weighted avg       0.97      0.97      0.96   1373567\n",
      "\n"
     ]
    }
   ],
   "source": [
    "from sklearn.metrics import classification_report\n",
    "print(classification_report(y_test, y_pred))"
   ]
  },
  {
   "cell_type": "code",
   "execution_count": 256,
   "id": "eb4ea7a4",
   "metadata": {},
   "outputs": [
    {
     "data": {
      "text/plain": [
       "(1032407,)"
      ]
     },
     "execution_count": 256,
     "metadata": {},
     "output_type": "execute_result"
    }
   ],
   "source": [
    "y_prob.shape"
   ]
  },
  {
   "cell_type": "code",
   "execution_count": null,
   "id": "df3c6d2a",
   "metadata": {},
   "outputs": [],
   "source": []
  }
 ],
 "metadata": {
  "kernelspec": {
   "display_name": "Python 3 (ipykernel)",
   "language": "python",
   "name": "python3"
  },
  "language_info": {
   "codemirror_mode": {
    "name": "ipython",
    "version": 3
   },
   "file_extension": ".py",
   "mimetype": "text/x-python",
   "name": "python",
   "nbconvert_exporter": "python",
   "pygments_lexer": "ipython3",
   "version": "3.7.11"
  }
 },
 "nbformat": 4,
 "nbformat_minor": 5
}
